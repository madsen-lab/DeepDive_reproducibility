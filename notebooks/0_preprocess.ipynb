{
 "cells": [
  {
   "cell_type": "markdown",
   "id": "5850ef29",
   "metadata": {},
   "source": [
    "# Loading and preprocessing datasets"
   ]
  },
  {
   "cell_type": "markdown",
   "id": "f2c7a968",
   "metadata": {},
   "source": [
    "## Imports"
   ]
  },
  {
   "cell_type": "code",
   "execution_count": null,
   "id": "944e3605",
   "metadata": {},
   "outputs": [],
   "source": [
    "import scanpy as sc\n",
    "import pandas as pd\n",
    "import numpy as np\n",
    "import scipy\n",
    "import anndata as ad\n"
   ]
  },
  {
   "cell_type": "code",
   "execution_count": null,
   "id": "9d0f01de",
   "metadata": {},
   "outputs": [],
   "source": [
    "import sys\n",
    "sys.path.insert(0, \"../utils\")\n",
    "from utils import preprocess"
   ]
  },
  {
   "cell_type": "markdown",
   "id": "870a46d6",
   "metadata": {},
   "source": [
    "## NeuroIPS"
   ]
  },
  {
   "cell_type": "code",
   "execution_count": null,
   "id": "38e1dc45",
   "metadata": {},
   "outputs": [],
   "source": [
    "X = sc.read_h5ad('GSE194122_neurips2021/raw/GSE194122_openproblems_neurips2021_multiome_BMMC_processed.h5ad',)"
   ]
  },
  {
   "cell_type": "code",
   "execution_count": null,
   "id": "12b8e7f6",
   "metadata": {},
   "outputs": [],
   "source": [
    "X = X[:,X.var.feature_types == 'ATAC']"
   ]
  },
  {
   "cell_type": "code",
   "execution_count": null,
   "id": "85617805",
   "metadata": {},
   "outputs": [],
   "source": [
    "mapper = lambda x: '{}:{}-{}'.format(*x.split('-'))"
   ]
  },
  {
   "cell_type": "code",
   "execution_count": null,
   "id": "63eb97b1",
   "metadata": {},
   "outputs": [],
   "source": [
    "adata.var_names = adata.var_names.map(mapper)"
   ]
  },
  {
   "cell_type": "code",
   "execution_count": null,
   "id": "7973bc88",
   "metadata": {},
   "outputs": [],
   "source": [
    "discrete = ['cell_type', 'batch', 'Site', 'DonorID',  'DonorBloodType',\n",
    "       'DonorRace', 'Ethnicity', 'DonorGender', 'DonorSmoker']\n",
    "cont = ['DonorAge', 'DonorBMI']"
   ]
  },
  {
   "cell_type": "code",
   "execution_count": null,
   "id": "180e61f7",
   "metadata": {},
   "outputs": [],
   "source": [
    "adata = preprocess(adata, discrete, cont, frac = 0.1)"
   ]
  },
  {
   "cell_type": "code",
   "execution_count": null,
   "id": "ade6ed27",
   "metadata": {},
   "outputs": [],
   "source": [
    "sc.pp.filter_cells(adata, min_genes=5)"
   ]
  },
  {
   "cell_type": "code",
   "execution_count": null,
   "id": "3d617096",
   "metadata": {},
   "outputs": [],
   "source": [
    "adata.write_h5ad(\"Processed_benchmark_datasets/NeuroIPS.h5ad\")"
   ]
  },
  {
   "cell_type": "code",
   "execution_count": null,
   "id": "f8dc73e0",
   "metadata": {},
   "outputs": [],
   "source": []
  },
  {
   "cell_type": "markdown",
   "id": "e353d03b",
   "metadata": {},
   "source": [
    "## sciATAC-seq3"
   ]
  },
  {
   "cell_type": "code",
   "execution_count": null,
   "id": "f5682cbb",
   "metadata": {},
   "outputs": [],
   "source": [
    "path = 'sciATAC3/RDS/'\n",
    "path_out = 'sciATAC3/anndata/'"
   ]
  },
  {
   "cell_type": "code",
   "execution_count": null,
   "id": "19b4ad06",
   "metadata": {},
   "outputs": [],
   "source": [
    "datasets = ['GSM4508931_eye_filtered'      ,\n",
    "'GSM4508935_liver_filtered'     ,\n",
    "'GSM4508939_placenta_filtered',\n",
    "'GSM4508928_adrenal_filtered'  ,\n",
    "'GSM4508932_heart_filtered'    ,  \n",
    "'GSM4508936_lung_filtered'     , \n",
    "'GSM4508940_spleen_filtered',\n",
    "'GSM4508929_cerebellum_filtered'  ,\n",
    "'GSM4508933_intestine_filtered'  ,\n",
    "'GSM4508937_muscle_filtered'   , \n",
    "'GSM4508941_stomach_filtered',\n",
    "'GSM4508930_cerebrum_filtered'  ,  \n",
    "'GSM4508934_kidney_filtered'   ,  \n",
    "'GSM4508938_pancreas_filtered'  ,\n",
    "'GSM4508942_thymus_filtered']"
   ]
  },
  {
   "cell_type": "code",
   "execution_count": null,
   "id": "30657cfc",
   "metadata": {},
   "outputs": [],
   "source": [
    "for dataset in datasets:\n",
    "    X = sc.read_mtx(f'{path}{dataset}.matrix.mtx', )\n",
    "    X = X.X.T\n",
    "    X = sc.AnnData(X,\n",
    "               obs = pd.read_csv(f'{path}{dataset}.barcodes.tsv',sep = ' '),\n",
    "               var = pd.read_csv(f'{path}{dataset}.features.tsv',sep = ' ', index_col = 1))\n",
    "    X.X = scipy.sparse.csr_matrix(X.X)\n",
    "    X.write_h5ad(f'{path_out}{dataset}.h5ad')"
   ]
  },
  {
   "cell_type": "code",
   "execution_count": null,
   "id": "b4e1e55f",
   "metadata": {},
   "outputs": [],
   "source": [
    "datasets = [f'{path_out}{dataset}.h5ad' for dataset in datasets]"
   ]
  },
  {
   "cell_type": "code",
   "execution_count": null,
   "id": "4eaf5a15",
   "metadata": {},
   "outputs": [],
   "source": [
    "import anndata as ad\n",
    "ad.experimental.concat_on_disk(\n",
    "    datasets,\n",
    "    f\"{path_out}merged.h5ad\",\n",
    "    label=\"dataset\",\n",
    ")"
   ]
  },
  {
   "cell_type": "code",
   "execution_count": null,
   "id": "92293d9d",
   "metadata": {},
   "outputs": [],
   "source": [
    "adata = sc.read_h5ad(f\"{path_out}merged.h5ad\")"
   ]
  },
  {
   "cell_type": "code",
   "execution_count": null,
   "id": "701c83bc",
   "metadata": {},
   "outputs": [],
   "source": [
    "discrete = ['donor_id', 'sex', 'batch', 'tissue', 'cell_type']\n",
    "cont = ['day_of_pregnancy']"
   ]
  },
  {
   "cell_type": "code",
   "execution_count": null,
   "id": "fb2e4445",
   "metadata": {},
   "outputs": [],
   "source": [
    "adata = preprocess(adata, discrete, cont, frac = 0.1)"
   ]
  },
  {
   "cell_type": "code",
   "execution_count": null,
   "id": "eb5e65a4",
   "metadata": {},
   "outputs": [],
   "source": [
    "sc.pp.filter_cells(adata, min_genes=5)"
   ]
  },
  {
   "cell_type": "code",
   "execution_count": null,
   "id": "e931147a",
   "metadata": {},
   "outputs": [],
   "source": [
    "mapper = lambda x: '{}:{}-{}'.format(*x.split('-'))"
   ]
  },
  {
   "cell_type": "code",
   "execution_count": null,
   "id": "8d0aa6f5",
   "metadata": {},
   "outputs": [],
   "source": [
    "adata.var_names = adata.var_names.map(mapper)"
   ]
  },
  {
   "cell_type": "code",
   "execution_count": null,
   "id": "028f0af3",
   "metadata": {},
   "outputs": [],
   "source": [
    "adata.write_h5ad(\"Processed_benchmark_datasets/sciATAC3.h5ad\")"
   ]
  },
  {
   "cell_type": "code",
   "execution_count": null,
   "id": "b76664fa",
   "metadata": {},
   "outputs": [],
   "source": []
  },
  {
   "cell_type": "markdown",
   "id": "b4f8ddf9",
   "metadata": {},
   "source": [
    "## GSE162170"
   ]
  },
  {
   "cell_type": "code",
   "execution_count": null,
   "id": "5fe4337c",
   "metadata": {},
   "outputs": [],
   "source": [
    "path = 'GSE162170/raw/'\n",
    "path_out = 'GSE162170/anndata/'"
   ]
  },
  {
   "cell_type": "code",
   "execution_count": null,
   "id": "24435207",
   "metadata": {},
   "outputs": [],
   "source": [
    "import pandas as pd\n",
    "import numpy as np\n",
    "from scipy.sparse import csr_matrix\n",
    "import anndata\n",
    "\n",
    "file_path = f'{path}GSE162170_atac_counts.tsv'\n",
    "\n",
    "chunk_size = 1000 \n",
    "sparse_data = []\n",
    "rows = []\n",
    "cols = []\n",
    "row_counter = 0\n",
    "\n",
    "for chunk in pd.read_csv(file_path, sep='\\t', header=None, chunksize=chunk_size):\n",
    "    non_zero_entries = np.where(chunk.values != 0)\n",
    "    sparse_data.extend(chunk.values[non_zero_entries].tolist())\n",
    "    rows.extend((non_zero_entries[0] + row_counter).tolist())\n",
    "    cols.extend(non_zero_entries[1].tolist())\n",
    "    \n",
    "    row_counter += chunk.shape[0]\n",
    "\n",
    "sparse_matrix = csr_matrix((sparse_data, (rows, cols)), shape=(row_counter, chunk.shape[1]))\n",
    "\n"
   ]
  },
  {
   "cell_type": "code",
   "execution_count": null,
   "id": "0a3b2e41",
   "metadata": {},
   "outputs": [],
   "source": [
    "obs = pd.read_csv(f'{path}GSE162170_atac_cell_metadata.txt',sep = '\\t', index_col = 0)\n",
    "var = pd.read_csv(f'{path}GSE162170_atac_consensus_peaks.bed',sep = '\\t', index_col =None, header = None)"
   ]
  },
  {
   "cell_type": "code",
   "execution_count": null,
   "id": "4051b480",
   "metadata": {},
   "outputs": [],
   "source": [
    "var.index = [f\"{x[0]}:{x[1]}-{x[2]}\" for y, x in var.iterrows()]"
   ]
  },
  {
   "cell_type": "code",
   "execution_count": null,
   "id": "22d339d3",
   "metadata": {},
   "outputs": [],
   "source": [
    "adata = anndata.AnnData(sparse_matrix.T, \n",
    "               var = var, obs = obs)"
   ]
  },
  {
   "cell_type": "code",
   "execution_count": null,
   "id": "c72d985c",
   "metadata": {},
   "outputs": [],
   "source": [
    "adata.var = adata.var[[0, 1, 2]]\n",
    "adata.var.columns = ['chr', 'start', 'end']"
   ]
  },
  {
   "cell_type": "code",
   "execution_count": null,
   "id": "f45e4a3f",
   "metadata": {},
   "outputs": [],
   "source": [
    "adata.obs['Age_int'] = [float(x[3:]) for x in adata.obs.Age]"
   ]
  },
  {
   "cell_type": "code",
   "execution_count": null,
   "id": "b1b44be6",
   "metadata": {},
   "outputs": [],
   "source": [
    "adata = preprocess(adata, discrete, cont, frac = 0.1)"
   ]
  },
  {
   "cell_type": "code",
   "execution_count": null,
   "id": "5d7288b8",
   "metadata": {},
   "outputs": [],
   "source": [
    "sc.pp.filter_cells(adata, min_genes=5)"
   ]
  },
  {
   "cell_type": "code",
   "execution_count": null,
   "id": "078db3b4",
   "metadata": {},
   "outputs": [],
   "source": [
    "adata.write_h5ad(\"Processed_benchmark_datasets/Gestation_cerebral_cortex.h5ad\")"
   ]
  },
  {
   "cell_type": "code",
   "execution_count": null,
   "id": "f1e4d995",
   "metadata": {},
   "outputs": [],
   "source": []
  },
  {
   "cell_type": "markdown",
   "id": "2f3c997e",
   "metadata": {},
   "source": [
    "## GSE151302"
   ]
  },
  {
   "cell_type": "code",
   "execution_count": null,
   "id": "4daf085d",
   "metadata": {},
   "outputs": [],
   "source": [
    "path = 'GSE151302_kidney/raw/'\n",
    "path_out = 'GSE151302_kidney/anndata/'"
   ]
  },
  {
   "cell_type": "code",
   "execution_count": null,
   "id": "e947cfcb",
   "metadata": {},
   "outputs": [],
   "source": [
    "datasets = ['GSM4572187_Control1_fragments.tsv.gz',\n",
    "            'GSM4572188_Control2_fragments.tsv.gz',\n",
    "            'GSM4572189_Control3_fragments.tsv.gz',\n",
    "            'GSM4572190_Control4_fragments.tsv.gz',\n",
    "            'GSM4572191_Control5_fragments.tsv.gz',  \n",
    "           ]\n"
   ]
  },
  {
   "cell_type": "code",
   "execution_count": null,
   "id": "7f99c931",
   "metadata": {},
   "outputs": [],
   "source": [
    "datasets = [f'{path}{dataset}' for dataset in datasets]"
   ]
  },
  {
   "cell_type": "code",
   "execution_count": null,
   "id": "d7fe8896",
   "metadata": {},
   "outputs": [],
   "source": [
    "metadata = {'Control_1':{'age': 54,\n",
    "        'gender': 'Male',\n",
    "        'race': 'NHW',\n",
    "        'egfr': 58,\n",
    "        'global glomerulosclerosis': '< 10%',\n",
    "        'ifta': '1-10%',\n",
    "        'tissue': 'kidney'},\n",
    " 'Control_2':{'age': 62,\n",
    "        'gender': 'Male',\n",
    "        'race': 'HIS',\n",
    "        'egfr': 61,\n",
    "        'global glomerulosclerosis': '< 10%',\n",
    "        'ifta': '1-10%',\n",
    "        'tissue': 'kidney'},\n",
    " 'Control_3':{'age': 61,\n",
    "        'gender': 'Female',\n",
    "        'race': 'NHW',\n",
    "        'egfr': 69,\n",
    "        'global glomerulosclerosis': '< 10%',\n",
    "        'ifta': '1-10%',\n",
    "        'tissue': 'kidney'},\n",
    " 'Control_4':{'age': 50,\n",
    "        'gender': 'Male',\n",
    "        'race': 'NHW',\n",
    "        'egfr': 78,\n",
    "        'global glomerulosclerosis': '< 10%',\n",
    "        'ifta': '1-10%',\n",
    "        'tissue': 'kidney'},\n",
    " 'Control_5':{'age': 52,\n",
    "        'gender': 'Female',\n",
    "        'race': 'NHW',\n",
    "        'egfr': 98,\n",
    "        'global glomerulosclerosis': '< 10%',\n",
    "        'ifta': '1-10%',\n",
    "        'tissue': 'kidney'},\n",
    "}\n",
    " "
   ]
  },
  {
   "cell_type": "code",
   "execution_count": null,
   "id": "afdd975e",
   "metadata": {},
   "outputs": [],
   "source": [
    "barcodes = pd.read_csv(f\"{path}atac_barcodes.csv\")"
   ]
  },
  {
   "cell_type": "code",
   "execution_count": null,
   "id": "3c4fe024",
   "metadata": {},
   "outputs": [],
   "source": [
    "samples = sorted(list(barcodes['sample'].unique()))"
   ]
  },
  {
   "cell_type": "code",
   "execution_count": null,
   "id": "b04118a3",
   "metadata": {},
   "outputs": [],
   "source": [
    "data = snapatac2.pp.import_data(\n",
    "    datasets,\n",
    "    chrom_sizes=snapatac2.genome.hg38,\n",
    "    sorted_by_barcode=False,\n",
    ")"
   ]
  },
  {
   "cell_type": "code",
   "execution_count": null,
   "id": "c54cf9a0",
   "metadata": {},
   "outputs": [],
   "source": [
    "for idx, d in enumerate(data):\n",
    "     d.obs_names = [f\"{x.split('-')[0]}-{idx +1}\" for x in d.obs_names]"
   ]
  },
  {
   "cell_type": "code",
   "execution_count": null,
   "id": "2280b5db",
   "metadata": {},
   "outputs": [],
   "source": [
    "for idx, i in enumerate(samples):\n",
    "    match = data[idx].obs_names.isin(list(barcodes[barcodes['sample'] == i].barcode))\n",
    "    data[idx] = data[idx][match].copy()"
   ]
  },
  {
   "cell_type": "code",
   "execution_count": null,
   "id": "9d5d3959",
   "metadata": {},
   "outputs": [],
   "source": [
    "for idx, d in enumerate(data):\n",
    "    snapatac2.pp.make_peak_matrix(d, inplace=True, backend='hdf5', peak_file=f\"{path}atac_peaks.bed\",)"
   ]
  },
  {
   "cell_type": "code",
   "execution_count": null,
   "id": "6446c516",
   "metadata": {},
   "outputs": [],
   "source": [
    "for d in data:\n",
    "    d.obsm = None\n"
   ]
  },
  {
   "cell_type": "code",
   "execution_count": null,
   "id": "1322d7ba",
   "metadata": {},
   "outputs": [],
   "source": [
    "for idx, d in enumerate(data):\n",
    "    d.write_h5ad(f\"{path_out}{samples[idx]}.h5ad\")\n",
    "data = []\n",
    "for idx in range(5):\n",
    "    data.append(sc.read_h5ad(f\"{path_out}{samples[idx]}.h5ad\"))"
   ]
  },
  {
   "cell_type": "code",
   "execution_count": null,
   "id": "898d0e59",
   "metadata": {},
   "outputs": [],
   "source": [
    "adata = ad.concat(data)"
   ]
  },
  {
   "cell_type": "code",
   "execution_count": null,
   "id": "59fa53fd",
   "metadata": {},
   "outputs": [],
   "source": [
    "barcodes.index = barcodes.barcode"
   ]
  },
  {
   "cell_type": "code",
   "execution_count": null,
   "id": "0071ac1b",
   "metadata": {},
   "outputs": [],
   "source": [
    "barcodes = barcodes.loc[adata.obs_names]"
   ]
  },
  {
   "cell_type": "code",
   "execution_count": null,
   "id": "2577a163",
   "metadata": {},
   "outputs": [],
   "source": [
    "ls = ['barcode', 'sample', 'celltype']"
   ]
  },
  {
   "cell_type": "code",
   "execution_count": null,
   "id": "6660d9b4",
   "metadata": {},
   "outputs": [],
   "source": [
    "adata.obs[ls] = barcodes[ls]"
   ]
  },
  {
   "cell_type": "code",
   "execution_count": null,
   "id": "07c31c6d",
   "metadata": {},
   "outputs": [],
   "source": [
    "df = {idx:metadata[i] for idx, i in zip(adata.obs.index, adata.obs['sample'])}\n",
    "df = pd.DataFrame(df)"
   ]
  },
  {
   "cell_type": "code",
   "execution_count": null,
   "id": "9260dc68",
   "metadata": {},
   "outputs": [],
   "source": [
    "df = df.T"
   ]
  },
  {
   "cell_type": "code",
   "execution_count": null,
   "id": "306a87e6",
   "metadata": {},
   "outputs": [],
   "source": [
    "ls = df.columns"
   ]
  },
  {
   "cell_type": "code",
   "execution_count": null,
   "id": "ec737df4",
   "metadata": {},
   "outputs": [],
   "source": [
    "adata.obs[ls] = df[ls]"
   ]
  },
  {
   "cell_type": "code",
   "execution_count": null,
   "id": "97b8c81c",
   "metadata": {},
   "outputs": [],
   "source": [
    "adata.obs.age = adata.obs.age.map(int)\n",
    "adata.obs.egfr = adata.obs.egfr.map(int)\n",
    "adata.obs.age = adata.obs.age.map(int)"
   ]
  },
  {
   "cell_type": "code",
   "execution_count": null,
   "id": "cb948c01",
   "metadata": {},
   "outputs": [],
   "source": [
    "discrete = ['sample', 'celltype', 'age', 'gender', 'race',]\n",
    "cont = ['egfr']"
   ]
  },
  {
   "cell_type": "code",
   "execution_count": null,
   "id": "94ba1f47",
   "metadata": {},
   "outputs": [],
   "source": [
    "adata = preprocess(adata, discrete, cont, frac = 0.1)"
   ]
  },
  {
   "cell_type": "code",
   "execution_count": null,
   "id": "babf8f53",
   "metadata": {},
   "outputs": [],
   "source": [
    "sc.pp.filter_cells(adata, min_genes=5)"
   ]
  },
  {
   "cell_type": "code",
   "execution_count": null,
   "id": "90a1a09c",
   "metadata": {},
   "outputs": [],
   "source": [
    "adata.write_h5ad(\"Processed_benchmark_datasets/Kidney.h5ad\")"
   ]
  },
  {
   "cell_type": "code",
   "execution_count": null,
   "id": "969d136b",
   "metadata": {},
   "outputs": [],
   "source": []
  },
  {
   "cell_type": "markdown",
   "id": "bb929768",
   "metadata": {},
   "source": [
    "## Pancreas"
   ]
  },
  {
   "cell_type": "code",
   "execution_count": 4,
   "id": "107a0d68",
   "metadata": {},
   "outputs": [],
   "source": [
    "path = '/work/Perturbation/Data/ATAC_seq_datasets/pancreas'"
   ]
  },
  {
   "cell_type": "code",
   "execution_count": 5,
   "id": "3534453f",
   "metadata": {},
   "outputs": [],
   "source": [
    "adata = sc.read_h5ad(f'{path}/anndata/pancreas.h5ad')"
   ]
  },
  {
   "cell_type": "code",
   "execution_count": 6,
   "id": "9b974ce4",
   "metadata": {},
   "outputs": [],
   "source": [
    "ct_mapper = {'0': 'Alpha',\n",
    " '1': 'Beta',\n",
    " '2': 'Beta',\n",
    " '3': 'Beta',\n",
    " '4': 'Alpha',\n",
    " '5': 'Beta',\n",
    " '6': 'Delta',\n",
    " '7': 'Acinar',\n",
    " '8': 'Alpha',\n",
    " '9': 'Ductal',\n",
    " '10': 'Gamma',\n",
    " '11': 'Stellate',\n",
    " '12': 'Immune',\n",
    " '13': 'EC'}"
   ]
  },
  {
   "cell_type": "code",
   "execution_count": 10,
   "id": "5f264c6d",
   "metadata": {},
   "outputs": [],
   "source": [
    "anno = 'GSE169453_cell_annotation.csv'\n",
    "path = '/work/Perturbation/Data/ATAC_seq_datasets/pancreas'\n",
    "anno = pd.read_csv(f'{path}/{anno}')"
   ]
  },
  {
   "cell_type": "code",
   "execution_count": 11,
   "id": "838e7d94",
   "metadata": {},
   "outputs": [],
   "source": [
    "adata.obs['leiden'] = anno.set_index('index')['leiden'][adata.obs.index].map(str)\n",
    "adata.obs['cell_type'] = adata.obs.leiden.map(ct_mapper)"
   ]
  },
  {
   "cell_type": "code",
   "execution_count": 12,
   "id": "6a6cf59b",
   "metadata": {},
   "outputs": [],
   "source": [
    "adata.obs['Purity'] = adata.obs['Purity'].map(lambda x:float(x.replace(',', '.')))"
   ]
  },
  {
   "cell_type": "code",
   "execution_count": 13,
   "id": "17a44da8",
   "metadata": {},
   "outputs": [],
   "source": [
    "discrete = ['donor', 'cell_type', 'Diabetes status', 'Human islet resource center', 'Sex', 'Ethnicity', ' 10x multiome assay']\n",
    "cont = ['Islet index', 'Age', 'BMI', 'HbA1c', 'Purity']\n"
   ]
  },
  {
   "cell_type": "code",
   "execution_count": null,
   "id": "de7b1cf2",
   "metadata": {},
   "outputs": [],
   "source": [
    "adata = preprocess(adata, discrete, cont, frac = 0.1)"
   ]
  },
  {
   "cell_type": "code",
   "execution_count": null,
   "id": "0139850a",
   "metadata": {},
   "outputs": [],
   "source": [
    "sc.pp.filter_cells(adata, min_genes=5)"
   ]
  },
  {
   "cell_type": "code",
   "execution_count": null,
   "id": "7be471f4",
   "metadata": {},
   "outputs": [],
   "source": [
    "def rename_var(var_name):\n",
    "    if ':' in var_name:\n",
    "        return var_name\n",
    "    else:\n",
    "        return f\"{var_name}:10000-15000\""
   ]
  },
  {
   "cell_type": "code",
   "execution_count": null,
   "id": "ad403673",
   "metadata": {},
   "outputs": [],
   "source": [
    "adata.var_names = adata.var_names.map(rename_var)"
   ]
  },
  {
   "cell_type": "code",
   "execution_count": null,
   "id": "016d4b3f",
   "metadata": {},
   "outputs": [],
   "source": [
    "adata.write_h5ad(\"Processed_benchmark_datasets/Pancreas_ATAC.h5ad\")"
   ]
  },
  {
   "cell_type": "code",
   "execution_count": null,
   "id": "b21b3c1e",
   "metadata": {},
   "outputs": [],
   "source": []
  },
  {
   "cell_type": "code",
   "execution_count": null,
   "id": "da06e437",
   "metadata": {},
   "outputs": [],
   "source": []
  }
 ],
 "metadata": {
  "kernelspec": {
   "display_name": "Python 3 (ipykernel)",
   "language": "python",
   "name": "python3"
  },
  "language_info": {
   "codemirror_mode": {
    "name": "ipython",
    "version": 3
   },
   "file_extension": ".py",
   "mimetype": "text/x-python",
   "name": "python",
   "nbconvert_exporter": "python",
   "pygments_lexer": "ipython3",
   "version": "3.10.12"
  }
 },
 "nbformat": 4,
 "nbformat_minor": 5
}
