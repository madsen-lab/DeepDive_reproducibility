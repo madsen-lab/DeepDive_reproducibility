{
 "cells": [
  {
   "cell_type": "markdown",
   "id": "ae1521a2",
   "metadata": {},
   "source": [
    "# Imtegration benchmark"
   ]
  },
  {
   "cell_type": "markdown",
   "id": "198a0c81",
   "metadata": {},
   "source": [
    "## Imports"
   ]
  },
  {
   "cell_type": "code",
   "execution_count": 1,
   "id": "141b80d0",
   "metadata": {},
   "outputs": [],
   "source": [
    "import glob\n",
    "import pandas as pd\n",
    "import seaborn as sns\n",
    "import matplotlib.pyplot as plt\n",
    "from scipy.stats import ttest_ind"
   ]
  },
  {
   "cell_type": "code",
   "execution_count": null,
   "id": "3d1d901a",
   "metadata": {},
   "outputs": [],
   "source": [
    "import scanpy as sc\n",
    "import numpy as np\n",
    "import torch\n",
    "from sklearn.metrics import mean_squared_error\n",
    "from harmony import harmonize\n",
    "import scvi\n",
    "import DeepDive\n",
    "import time\n",
    "from scib_metrics.benchmark import Benchmarker, BioConservation, BatchCorrection\n"
   ]
  },
  {
   "cell_type": "code",
   "execution_count": 1,
   "id": "577dc36a",
   "metadata": {},
   "outputs": [],
   "source": [
    "import sys\n",
    "sys.path.insert(0, \"../utils\")"
   ]
  },
  {
   "cell_type": "code",
   "execution_count": null,
   "id": "89893518",
   "metadata": {},
   "outputs": [],
   "source": [
    "from integration import lsi, plot_result_table"
   ]
  },
  {
   "cell_type": "markdown",
   "id": "7cf53551",
   "metadata": {},
   "source": [
    "## Parameters"
   ]
  },
  {
   "cell_type": "code",
   "execution_count": null,
   "id": "c099063b",
   "metadata": {},
   "outputs": [],
   "source": [
    "#DeepDive params\n",
    "n_decoders = 5  \n",
    "model_params = {\n",
    "    'n_epochs_pretrain_ae' : 200*n_decoders,\n",
    "    'n_decoders' : n_decoders\n",
    "}\n",
    "train_params = {\n",
    "    'max_epoch' : 300*n_decoders, \n",
    "    'batch_size' : 512\n",
    "}"
   ]
  },
  {
   "cell_type": "markdown",
   "id": "4b37aee7",
   "metadata": {},
   "source": [
    "## GCC"
   ]
  },
  {
   "cell_type": "code",
   "execution_count": null,
   "id": "5a9dcb98",
   "metadata": {},
   "outputs": [],
   "source": [
    "adata = sc.read_h5ad(\"../data/Gestation_cerebral_cortex.h5ad\")"
   ]
  },
  {
   "cell_type": "code",
   "execution_count": null,
   "id": "eae8595b",
   "metadata": {},
   "outputs": [],
   "source": [
    "discrete_covriate_keys = ['Sample.ID']\n",
    "adata.obs.columns = adata.obs.columns.map(lambda x:x.replace('.', ''))\n",
    "discrete_covriate_keys = [x.replace('.', '') for x in discrete_covriate_keys]\n",
    "adata.obs[discrete_covriate_keys] = adata.obs[discrete_covriate_keys].astype(str)"
   ]
  },
  {
   "cell_type": "code",
   "execution_count": null,
   "id": "5d30fd26",
   "metadata": {},
   "outputs": [],
   "source": [
    "lsi(adata)\n",
    "adata.obsm['X_pca'] = adata.obsm['X_lsi']"
   ]
  },
  {
   "cell_type": "code",
   "execution_count": null,
   "id": "2ebac3b5",
   "metadata": {},
   "outputs": [],
   "source": [
    "# Run harmony on lsi\n",
    "har = adata.copy()\n",
    "Z = harmonize(adata.obsm['X_lsi'], adata.obs, batch_key = discrete_covriate_keys[0], use_gpu = True)\n",
    "har.obsm['X_pca'] = Z"
   ]
  },
  {
   "cell_type": "code",
   "execution_count": null,
   "id": "ea77fb43",
   "metadata": {},
   "outputs": [],
   "source": [
    "# Run DeepDive\n",
    "dd = adata.copy()\n",
    "model = DeepDive.DeepDive(adata = adata, \n",
    "                        discrete_covariate_names = discrete_covriate_keys,\n",
    "                        **model_params\n",
    "                       )\n",
    "model.train_model(adata, None, \n",
    "                  **train_params)\n",
    "basal = model.get_latent(adata, covars_to_add=[], )\n",
    "dd.obsm['X_pca'] = basal.X"
   ]
  },
  {
   "cell_type": "code",
   "execution_count": null,
   "id": "dc9d8d02",
   "metadata": {},
   "outputs": [],
   "source": [
    "pois = adata.copy()\n",
    "scvi.external.POISSONVI.setup_anndata(adata, batch_key='SampleID')\n",
    "model = scvi.external.POISSONVI(adata)\n",
    "model.train(batch_size = 512*4)\n",
    "latent = model.get_latent_representation()\n",
    "pois.obsm['X_pca'] = latent"
   ]
  },
  {
   "cell_type": "code",
   "execution_count": null,
   "id": "b33f8291",
   "metadata": {},
   "outputs": [],
   "source": [
    "sc.pp.neighbors(adata, use_rep = 'X_pca')\n",
    "sc.pp.neighbors(har, use_rep = 'X_pca')\n",
    "sc.pp.neighbors(dd, use_rep = 'X_pca')\n",
    "sc.pp.neighbors(pois, use_rep = 'X_pca')\n"
   ]
  },
  {
   "cell_type": "code",
   "execution_count": null,
   "id": "536dbc03",
   "metadata": {},
   "outputs": [],
   "source": [
    "adata.write_h5ad('../data/GCC_harmony_raw.h5ad')\n",
    "har.write_h5ad('../data/GCC_harmony_integrated.h5ad')\n",
    "dd.write_h5ad('../data/GCC_deepdive_integrated.h5ad')\n",
    "pois.write_h5ad('../data/GCC_poissonvi_integrated.h5ad')"
   ]
  },
  {
   "cell_type": "code",
   "execution_count": null,
   "id": "1b084646",
   "metadata": {},
   "outputs": [],
   "source": []
  },
  {
   "cell_type": "markdown",
   "id": "cfdf2e49",
   "metadata": {},
   "source": [
    "## NeuroIPS"
   ]
  },
  {
   "cell_type": "code",
   "execution_count": null,
   "id": "0db506a6",
   "metadata": {},
   "outputs": [],
   "source": [
    "adata = sc.read_h5ad(\"../data/NeuroIPS.h5ad\")"
   ]
  },
  {
   "cell_type": "code",
   "execution_count": null,
   "id": "04a631c5",
   "metadata": {},
   "outputs": [],
   "source": [
    "discrete_covriate_keys = ['DonorID']\n",
    "adata.obs.DonorID = adata.obs.DonorID.map(str)"
   ]
  },
  {
   "cell_type": "code",
   "execution_count": null,
   "id": "a6d0e758",
   "metadata": {},
   "outputs": [],
   "source": [
    "lsi(adata)\n",
    "adata.obsm['X_pca'] = adata.obsm['X_lsi']"
   ]
  },
  {
   "cell_type": "code",
   "execution_count": null,
   "id": "7b7c0f1a",
   "metadata": {},
   "outputs": [],
   "source": [
    "# Run harmony on lsi\n",
    "har = adata.copy()\n",
    "Z = harmonize(adata.obsm['X_lsi'], adata.obs, batch_key = discrete_covriate_keys[0], use_gpu = True)\n",
    "har.obsm['X_pca'] = Z"
   ]
  },
  {
   "cell_type": "code",
   "execution_count": null,
   "id": "49ff95c9",
   "metadata": {},
   "outputs": [],
   "source": [
    "# Run DeepDive\n",
    "dd = adata.copy()\n",
    "model = DeepDive.DeepDive(adata = adata, \n",
    "                        discrete_covariate_names = discrete_covriate_keys,\n",
    "                        **model_params\n",
    "                       )\n",
    "model.train_model(adata, None, \n",
    "                  **train_params)\n",
    "basal = model.get_latent(adata, covars_to_add=[], )\n",
    "dd.obsm['X_pca'] = basal.X"
   ]
  },
  {
   "cell_type": "code",
   "execution_count": null,
   "id": "fedea6aa",
   "metadata": {},
   "outputs": [],
   "source": [
    "pois = adata.copy()\n",
    "scvi.external.POISSONVI.setup_anndata(adata, batch_key='SampleID')\n",
    "model = scvi.external.POISSONVI(adata)\n",
    "model.train(batch_size = 512*4)\n",
    "latent = model.get_latent_representation()\n",
    "pois.obsm['X_pca'] = latent"
   ]
  },
  {
   "cell_type": "code",
   "execution_count": null,
   "id": "5c680720",
   "metadata": {},
   "outputs": [],
   "source": [
    "sc.pp.neighbors(adata, use_rep = 'X_pca')\n",
    "sc.pp.neighbors(har, use_rep = 'X_pca')\n",
    "sc.pp.neighbors(dd, use_rep = 'X_pca')\n",
    "sc.pp.neighbors(pois, use_rep = 'X_pca')\n"
   ]
  },
  {
   "cell_type": "code",
   "execution_count": null,
   "id": "5a15619f",
   "metadata": {},
   "outputs": [],
   "source": [
    "adata.write_h5ad('../data/neuroips_harmony_raw.h5ad')\n",
    "har.write_h5ad('../data/neuroips_harmony_integrated.h5ad')\n",
    "dd.write_h5ad('../data/neuroips_deepdive_integrated.h5ad')\n",
    "pois.write_h5ad('../data/neuroips_poissonvi_integrated.h5ad')"
   ]
  },
  {
   "cell_type": "code",
   "execution_count": null,
   "id": "cae279b3",
   "metadata": {},
   "outputs": [],
   "source": []
  },
  {
   "cell_type": "markdown",
   "id": "56007de9",
   "metadata": {},
   "source": [
    "## Kidney"
   ]
  },
  {
   "cell_type": "code",
   "execution_count": null,
   "id": "400833ca",
   "metadata": {},
   "outputs": [],
   "source": [
    "adata = sc.read_h5ad(\"../data/Kidney.h5ad\")"
   ]
  },
  {
   "cell_type": "code",
   "execution_count": null,
   "id": "823bf8c3",
   "metadata": {},
   "outputs": [],
   "source": [
    "discrete_covriate_keys = ['sample']\n",
    "adata.obs.columns = adata.obs.columns.map(lambda x:x.replace('.', ''))\n",
    "discrete_covriate_keys = [x.replace('.', '') for x in discrete_covriate_keys]"
   ]
  },
  {
   "cell_type": "code",
   "execution_count": null,
   "id": "1789e016",
   "metadata": {},
   "outputs": [],
   "source": [
    "lsi(adata)\n",
    "adata.obsm['X_pca'] = adata.obsm['X_lsi']"
   ]
  },
  {
   "cell_type": "code",
   "execution_count": null,
   "id": "50fc9928",
   "metadata": {},
   "outputs": [],
   "source": [
    "# Run harmony on lsi\n",
    "har = adata.copy()\n",
    "Z = harmonize(adata.obsm['X_lsi'], adata.obs, batch_key = discrete_covriate_keys[0], use_gpu = True)\n",
    "har.obsm['X_pca'] = Z"
   ]
  },
  {
   "cell_type": "code",
   "execution_count": null,
   "id": "44f2ebd6",
   "metadata": {},
   "outputs": [],
   "source": [
    "# Run DeepDive\n",
    "dd = adata.copy()\n",
    "model = DeepDive.DeepDive(adata = adata, \n",
    "                        discrete_covariate_names = discrete_covriate_keys,\n",
    "                        **model_params\n",
    "                       )\n",
    "model.train_model(adata, None, \n",
    "                  **train_params)\n",
    "basal = model.get_latent(adata, covars_to_add=[], )\n",
    "dd.obsm['X_pca'] = basal.X"
   ]
  },
  {
   "cell_type": "code",
   "execution_count": null,
   "id": "f081f3bb",
   "metadata": {},
   "outputs": [],
   "source": [
    "pois = adata.copy()\n",
    "scvi.external.POISSONVI.setup_anndata(adata, batch_key='SampleID')\n",
    "model = scvi.external.POISSONVI(adata)\n",
    "model.train(batch_size = 512*4)\n",
    "latent = model.get_latent_representation()\n",
    "pois.obsm['X_pca'] = latent"
   ]
  },
  {
   "cell_type": "code",
   "execution_count": null,
   "id": "6d665812",
   "metadata": {},
   "outputs": [],
   "source": [
    "sc.pp.neighbors(adata, use_rep = 'X_pca')\n",
    "sc.pp.neighbors(har, use_rep = 'X_pca')\n",
    "sc.pp.neighbors(dd, use_rep = 'X_pca')\n",
    "sc.pp.neighbors(pois, use_rep = 'X_pca')\n"
   ]
  },
  {
   "cell_type": "code",
   "execution_count": null,
   "id": "9b4040b9",
   "metadata": {},
   "outputs": [],
   "source": [
    "adata.write_h5ad('../data/kidney_harmony_raw.h5ad')\n",
    "har.write_h5ad('../data/kidney_harmony_integrated.h5ad')\n",
    "dd.write_h5ad('../data/kidney_deepdive_integrated.h5ad')\n",
    "pois.write_h5ad('../data/kidney_poissonvi_integrated.h5ad')"
   ]
  },
  {
   "cell_type": "code",
   "execution_count": null,
   "id": "571821c7",
   "metadata": {},
   "outputs": [],
   "source": []
  },
  {
   "cell_type": "markdown",
   "id": "adaebe00",
   "metadata": {},
   "source": [
    "## sciATAC3"
   ]
  },
  {
   "cell_type": "code",
   "execution_count": null,
   "id": "498c955d",
   "metadata": {},
   "outputs": [],
   "source": [
    "adata = sc.read_h5ad(\"../data/sciATAC3.h5ad\")"
   ]
  },
  {
   "cell_type": "code",
   "execution_count": null,
   "id": "8789fca7",
   "metadata": {},
   "outputs": [],
   "source": [
    "discrete_covriate_keys = ['donor_id']"
   ]
  },
  {
   "cell_type": "code",
   "execution_count": null,
   "id": "ca3725ac",
   "metadata": {},
   "outputs": [],
   "source": [
    "lsi(adata)\n",
    "adata.obsm['X_pca'] = adata.obsm['X_lsi']"
   ]
  },
  {
   "cell_type": "code",
   "execution_count": null,
   "id": "8dfdb8a4",
   "metadata": {},
   "outputs": [],
   "source": [
    "# Run harmony on lsi\n",
    "har = adata.copy()\n",
    "Z = harmonize(adata.obsm['X_lsi'], adata.obs, batch_key = discrete_covriate_keys[0], use_gpu = True)\n",
    "har.obsm['X_pca'] = Z"
   ]
  },
  {
   "cell_type": "code",
   "execution_count": null,
   "id": "c7adea04",
   "metadata": {},
   "outputs": [],
   "source": [
    "# Run DeepDive\n",
    "dd = adata.copy()\n",
    "model = DeepDive.DeepDive(adata = adata, \n",
    "                        discrete_covariate_names = discrete_covriate_keys,\n",
    "                        **model_params\n",
    "                       )\n",
    "model.train_model(adata, None, \n",
    "                  **train_params)\n",
    "basal = model.get_latent(adata, covars_to_add=[], )\n",
    "dd.obsm['X_pca'] = basal.X"
   ]
  },
  {
   "cell_type": "code",
   "execution_count": null,
   "id": "3edfc2fe",
   "metadata": {},
   "outputs": [],
   "source": [
    "pois = adata.copy()\n",
    "scvi.external.POISSONVI.setup_anndata(adata, batch_key='SampleID')\n",
    "model = scvi.external.POISSONVI(adata)\n",
    "model.train(batch_size = 512*4)\n",
    "latent = model.get_latent_representation()\n",
    "pois.obsm['X_pca'] = latent"
   ]
  },
  {
   "cell_type": "code",
   "execution_count": null,
   "id": "5cb5f61f",
   "metadata": {},
   "outputs": [],
   "source": [
    "sc.pp.neighbors(adata, use_rep = 'X_pca')\n",
    "sc.pp.neighbors(har, use_rep = 'X_pca')\n",
    "sc.pp.neighbors(dd, use_rep = 'X_pca')\n",
    "sc.pp.neighbors(pois, use_rep = 'X_pca')\n"
   ]
  },
  {
   "cell_type": "code",
   "execution_count": null,
   "id": "01aa86c5",
   "metadata": {},
   "outputs": [],
   "source": [
    "adata.write_h5ad('../data/sciATAC3_harmony_raw.h5ad')\n",
    "har.write_h5ad('../data/sciATAC3_harmony_integrated.h5ad')\n",
    "dd.write_h5ad('../data/sciATAC3_deepdive_integrated.h5ad')\n",
    "pois.write_h5ad('../data/sciATAC3_poissonvi_integrated.h5ad')"
   ]
  },
  {
   "cell_type": "code",
   "execution_count": null,
   "id": "08930e12",
   "metadata": {},
   "outputs": [],
   "source": []
  },
  {
   "cell_type": "markdown",
   "id": "6263a811",
   "metadata": {},
   "source": [
    "## Pancreas"
   ]
  },
  {
   "cell_type": "code",
   "execution_count": null,
   "id": "41e8a840",
   "metadata": {},
   "outputs": [],
   "source": [
    "adata = sc.read_h5ad(\"../data/Pancreas.h5ad\")"
   ]
  },
  {
   "cell_type": "code",
   "execution_count": null,
   "id": "7736958c",
   "metadata": {},
   "outputs": [],
   "source": [
    "discrete_covriate_keys = ['donor']\n",
    "adata.obs.columns = adata.obs.columns.map(lambda x:x.replace('.', ''))\n",
    "discrete_covriate_keys = [x.replace('.', '') for x in discrete_covriate_keys]"
   ]
  },
  {
   "cell_type": "code",
   "execution_count": null,
   "id": "94673ecc",
   "metadata": {},
   "outputs": [],
   "source": [
    "lsi(adata)\n",
    "adata.obsm['X_pca'] = adata.obsm['X_lsi']"
   ]
  },
  {
   "cell_type": "code",
   "execution_count": null,
   "id": "f8cd562b",
   "metadata": {},
   "outputs": [],
   "source": [
    "# Run harmony on lsi\n",
    "har = adata.copy()\n",
    "Z = harmonize(adata.obsm['X_lsi'], adata.obs, batch_key = discrete_covriate_keys[0], use_gpu = True)\n",
    "har.obsm['X_pca'] = Z"
   ]
  },
  {
   "cell_type": "code",
   "execution_count": null,
   "id": "d26785af",
   "metadata": {},
   "outputs": [],
   "source": [
    "# Run DeepDive\n",
    "dd = adata.copy()\n",
    "model = DeepDive.DeepDive(adata = adata, \n",
    "                        discrete_covariate_names = discrete_covriate_keys,\n",
    "                        **model_params\n",
    "                       )\n",
    "model.train_model(adata, None, \n",
    "                  **train_params)\n",
    "basal = model.get_latent(adata, covars_to_add=[], )\n",
    "dd.obsm['X_pca'] = basal.X"
   ]
  },
  {
   "cell_type": "code",
   "execution_count": null,
   "id": "c0064e32",
   "metadata": {},
   "outputs": [],
   "source": [
    "pois = adata.copy()\n",
    "scvi.external.POISSONVI.setup_anndata(adata, batch_key='SampleID')\n",
    "model = scvi.external.POISSONVI(adata)\n",
    "model.train(batch_size = 512*4)\n",
    "latent = model.get_latent_representation()\n",
    "pois.obsm['X_pca'] = latent"
   ]
  },
  {
   "cell_type": "code",
   "execution_count": null,
   "id": "45496a8a",
   "metadata": {},
   "outputs": [],
   "source": [
    "sc.pp.neighbors(adata, use_rep = 'X_pca')\n",
    "sc.pp.neighbors(har, use_rep = 'X_pca')\n",
    "sc.pp.neighbors(dd, use_rep = 'X_pca')\n",
    "sc.pp.neighbors(pois, use_rep = 'X_pca')\n"
   ]
  },
  {
   "cell_type": "code",
   "execution_count": null,
   "id": "7281d77f",
   "metadata": {},
   "outputs": [],
   "source": [
    "adata.write_h5ad('../data/pancreas_harmony_raw.h5ad')\n",
    "har.write_h5ad('../data/pancreas_harmony_integrated.h5ad')\n",
    "dd.write_h5ad('../data/pancreas_deepdive_integrated.h5ad')\n",
    "pois.write_h5ad('../data/pancreas_poissonvi_integrated.h5ad')"
   ]
  },
  {
   "cell_type": "code",
   "execution_count": null,
   "id": "d9795231",
   "metadata": {},
   "outputs": [],
   "source": []
  },
  {
   "cell_type": "markdown",
   "id": "e3dd31b7",
   "metadata": {},
   "source": [
    "## scIB"
   ]
  },
  {
   "cell_type": "code",
   "execution_count": null,
   "id": "0499963f",
   "metadata": {},
   "outputs": [],
   "source": [
    "biocons = BioConservation(isolated_labels=True, \n",
    "                          nmi_ari_cluster_labels_leiden=True, \n",
    "                          nmi_ari_cluster_labels_kmeans=False, \n",
    "                          silhouette_label=True, \n",
    "                          clisi_knn=True)\n",
    "batchcor = BatchCorrection(bras=False, \n",
    "                           ilisi_knn=True, \n",
    "                           kbet_per_label=False, \n",
    "                           graph_connectivity=True, \n",
    "                           pcr_comparison=False)"
   ]
  },
  {
   "cell_type": "code",
   "execution_count": null,
   "id": "3e0ec982",
   "metadata": {},
   "outputs": [],
   "source": [
    "adata = sc.read_h5ad('../data/GCC_raw_raw.h5ad')\n",
    "adata.obsm['harmony'] = sc.read_h5ad('../data/GCC_harmony_integrated.h5ad').obsm['X_pca']\n",
    "adata.obsm['poissonvi'] = sc.read_h5ad('../data/GCC_poissonvi_integrated.h5ad').obsm['X_pca']\n",
    "adata.obsm['deepdive'] = sc.read_h5ad('../data/GCC_DeepDive_integrated.h5ad').obsm['X_pca']"
   ]
  },
  {
   "cell_type": "code",
   "execution_count": null,
   "id": "c6f2fcee",
   "metadata": {},
   "outputs": [],
   "source": [
    "adata.obsm[\"Unintegrated\"] = adata.obsm[\"X_pca\"]\n",
    "start = time.time()\n",
    "bm = Benchmarker(\n",
    "    adata,\n",
    "    batch_key=\"SampleID\",\n",
    "    label_key=\"IterativeLSIClusters\",\n",
    "    embedding_obsm_keys=[\"Unintegrated\", \"harmony\", \"poissonvi\", \"deepdive\"],\n",
    "    pre_integrated_embedding_obsm_key=\"X_pca\",\n",
    "    bio_conservation_metrics=biocons,\n",
    "    batch_correction_metrics=batchcor,\n",
    "    n_jobs=-1,\n",
    ")\n",
    "bm.prepare()\n",
    "bm.benchmark()\n"
   ]
  },
  {
   "cell_type": "code",
   "execution_count": null,
   "id": "debeef9a",
   "metadata": {},
   "outputs": [],
   "source": [
    "plot_results_table(bm, save_dir='results', dataset = 'GCC')\n",
    "df = bm.get_results(min_max_scale=False)\n",
    "df.to_csv('results/GCC.tsv', sep = '\\t')"
   ]
  },
  {
   "cell_type": "code",
   "execution_count": null,
   "id": "01b325df",
   "metadata": {},
   "outputs": [],
   "source": []
  },
  {
   "cell_type": "code",
   "execution_count": null,
   "id": "e1e4f2c0",
   "metadata": {},
   "outputs": [],
   "source": [
    "adata = sc.read_h5ad('../data/kidney_raw_raw.h5ad')\n",
    "adata.obsm['harmony'] = sc.read_h5ad('../data/kidney_harmony_integrated.h5ad').obsm['X_pca']\n",
    "adata.obsm['poissonvi'] = sc.read_h5ad('../data/kidney_poissonvi_integrated.h5ad').obsm['X_pca']\n",
    "adata.obsm['deepdive'] = sc.read_h5ad('../data/kidney_DeepDive_integrated.h5ad').obsm['X_pca']"
   ]
  },
  {
   "cell_type": "code",
   "execution_count": null,
   "id": "fc897271",
   "metadata": {},
   "outputs": [],
   "source": [
    "adata.obsm[\"Unintegrated\"] = adata.obsm[\"X_pca\"]\n",
    "\n",
    "start = time.time()\n",
    "bm = Benchmarker(\n",
    "    adata,\n",
    "    batch_key=\"sample\",\n",
    "    label_key=\"celltype\",\n",
    "    embedding_obsm_keys=[\"Unintegrated\", \"harmony\", \"poissonvi\", \"deepdive\"],\n",
    "    pre_integrated_embedding_obsm_key=\"X_pca\",\n",
    "    bio_conservation_metrics=biocons,\n",
    "    batch_correction_metrics=batchcor,\n",
    "    n_jobs=-1,\n",
    ")\n",
    "bm.prepare()\n",
    "bm.benchmark()\n"
   ]
  },
  {
   "cell_type": "code",
   "execution_count": null,
   "id": "93c9f277",
   "metadata": {},
   "outputs": [],
   "source": [
    "plot_results_table(bm, save_dir='results', dataset = 'Kidney')\n",
    "df = bm.get_results(min_max_scale=False)\n",
    "df.to_csv('results/Kidney.tsv', sep = '\\t')"
   ]
  },
  {
   "cell_type": "code",
   "execution_count": null,
   "id": "f490b117",
   "metadata": {},
   "outputs": [],
   "source": []
  },
  {
   "cell_type": "code",
   "execution_count": null,
   "id": "7ce07281",
   "metadata": {},
   "outputs": [],
   "source": [
    "adata = sc.read_h5ad('../data/neuroips_raw_raw.h5ad')\n",
    "adata.obsm['harmony'] = sc.read_h5ad('../data/neuroips_harmony_integrated.h5ad').obsm['X_pca']\n",
    "adata.obsm['poissonvi'] = sc.read_h5ad('../data/neuroips_poissonvi_integrated.h5ad').obsm['X_pca']\n",
    "adata.obsm['deepdive'] = sc.read_h5ad('../data/neuroips_DeepDive_integrated.h5ad').obsm['X_pca']"
   ]
  },
  {
   "cell_type": "code",
   "execution_count": null,
   "id": "5dc96cba",
   "metadata": {},
   "outputs": [],
   "source": [
    "adata.obsm[\"Unintegrated\"] = adata.obsm[\"X_pca\"]\n",
    "\n",
    "start = time.time()\n",
    "bm = Benchmarker(\n",
    "    adata,\n",
    "    batch_key=\"DonorID\",\n",
    "    label_key=\"cell_type\",\n",
    "    embedding_obsm_keys=[\"Unintegrated\", \"harmony\", \"poissonvi\", \"deepdive\"],\n",
    "    pre_integrated_embedding_obsm_key=\"X_pca\",\n",
    "    bio_conservation_metrics=biocons,\n",
    "    batch_correction_metrics=batchcor,\n",
    "    n_jobs=-1,\n",
    ")\n",
    "bm.prepare()\n",
    "bm.benchmark()\n"
   ]
  },
  {
   "cell_type": "code",
   "execution_count": null,
   "id": "44d7de37",
   "metadata": {},
   "outputs": [],
   "source": [
    "plot_results_table(bm, save_dir='results', dataset = 'NeuroIPS')\n",
    "df = bm.get_results(min_max_scale=False)\n",
    "df.to_csv('results/NeuroIPS.tsv', sep = '\\t')"
   ]
  },
  {
   "cell_type": "code",
   "execution_count": null,
   "id": "8c9a9649",
   "metadata": {},
   "outputs": [],
   "source": []
  },
  {
   "cell_type": "code",
   "execution_count": null,
   "id": "a47a30d0",
   "metadata": {},
   "outputs": [],
   "source": [
    "adata = sc.read_h5ad('../data/pancreas_raw_raw.h5ad')"
   ]
  },
  {
   "cell_type": "code",
   "execution_count": null,
   "id": "3e10436d",
   "metadata": {},
   "outputs": [],
   "source": [
    "adata.obsm['harmony'] = sc.read_h5ad('../data/pancreas_harmony_integrated.h5ad').obsm['X_pca']\n",
    "adata.obsm['poissonvi'] = sc.read_h5ad('../data/pancreas_poissonvi_integrated.h5ad').obsm['X_pca']\n",
    "adata.obsm['deepdive'] = sc.read_h5ad('../data/pancreas_DeepDive_integrated.h5ad').obsm['X_pca']"
   ]
  },
  {
   "cell_type": "code",
   "execution_count": null,
   "id": "d1d04215",
   "metadata": {},
   "outputs": [],
   "source": [
    "sc.pp.subsample(adata, n_obs=100_000)"
   ]
  },
  {
   "cell_type": "code",
   "execution_count": null,
   "id": "3f3ab5da",
   "metadata": {},
   "outputs": [],
   "source": [
    "adata.obsm[\"Unintegrated\"] = adata.obsm[\"X_pca\"]\n",
    "\n",
    "start = time.time()\n",
    "bm = Benchmarker(\n",
    "    adata,\n",
    "    batch_key=\"donor\",\n",
    "    label_key=\"cell_type\",\n",
    "    embedding_obsm_keys=[\"Unintegrated\", \"harmony\", \"poissonvi\", \"deepdive\"],\n",
    "    pre_integrated_embedding_obsm_key=\"X_pca\",\n",
    "    bio_conservation_metrics=biocons,\n",
    "    batch_correction_metrics=batchcor,\n",
    "    n_jobs=-1,\n",
    ")\n",
    "bm.prepare()\n",
    "bm.benchmark()"
   ]
  },
  {
   "cell_type": "code",
   "execution_count": null,
   "id": "60134e4b",
   "metadata": {},
   "outputs": [],
   "source": []
  },
  {
   "cell_type": "code",
   "execution_count": null,
   "id": "3010d584",
   "metadata": {},
   "outputs": [],
   "source": [
    "adata = sc.read_h5ad('../data/sciATAC3_raw_raw.h5ad')"
   ]
  },
  {
   "cell_type": "code",
   "execution_count": null,
   "id": "a9b8e41c",
   "metadata": {},
   "outputs": [],
   "source": [
    "adata.obsm['harmony'] = sc.read_h5ad('../data/sciATAC3_harmony_integrated.h5ad').obsm['X_pca']\n",
    "adata.obsm['poissonvi'] = sc.read_h5ad('../data/sciATAC3_poissonvi_integrated.h5ad').obsm['X_pca']\n",
    "adata.obsm['deepdive'] = sc.read_h5ad('../data/sciATAC3_DeepDive_integrated.h5ad').obsm['X_pca']"
   ]
  },
  {
   "cell_type": "code",
   "execution_count": null,
   "id": "4ee65579",
   "metadata": {},
   "outputs": [],
   "source": [
    "sc.pp.subsample(adata, n_obs=100_000)\n"
   ]
  },
  {
   "cell_type": "code",
   "execution_count": null,
   "id": "c588f04d",
   "metadata": {},
   "outputs": [],
   "source": [
    "adata.obsm[\"Unintegrated\"] = adata.obsm[\"X_pca\"]\n",
    "\n",
    "start = time.time()\n",
    "bm = Benchmarker(\n",
    "    adata,\n",
    "    batch_key=\"donor_id\",\n",
    "    label_key=\"cell_type\",\n",
    "    embedding_obsm_keys=[\"Unintegrated\", \"harmony\", \"poissonvi\", \"deepdive\"],\n",
    "    pre_integrated_embedding_obsm_key=\"X_pca\",\n",
    "    bio_conservation_metrics=biocons,\n",
    "    batch_correction_metrics=batchcor,\n",
    "    n_jobs=-1,\n",
    ")\n",
    "bm.prepare()\n",
    "bm.benchmark()"
   ]
  },
  {
   "cell_type": "code",
   "execution_count": null,
   "id": "fe881114",
   "metadata": {},
   "outputs": [],
   "source": [
    "plot_results_table(bm, save_dir='results', dataset = 'sciATAC3')\n",
    "df = bm.get_results(min_max_scale=False)\n",
    "df.to_csv('results/sciATAC3.tsv', sep = '\\t')"
   ]
  },
  {
   "cell_type": "code",
   "execution_count": null,
   "id": "7de2dcbd",
   "metadata": {},
   "outputs": [],
   "source": []
  },
  {
   "cell_type": "code",
   "execution_count": 2,
   "id": "743671d4",
   "metadata": {},
   "outputs": [],
   "source": [
    "def make_float(v):\n",
    "    try: \n",
    "        return v.map(float)\n",
    "    except:\n",
    "        return v"
   ]
  },
  {
   "cell_type": "code",
   "execution_count": 3,
   "id": "2f8b2660",
   "metadata": {},
   "outputs": [],
   "source": [
    "files = glob.glob('integration/*.tsv', root_dir='../results')\n",
    "results = []\n",
    "for f in files:\n",
    "    dataset = f.split('/')[-1].split('.')[0]\n",
    "    res = pd.read_csv('../results/'+f, sep = '\\t')\n",
    "    res['dataset'] = dataset\n",
    "    res = res[res['Embedding'] != 'Metric Type']\n",
    "    res = res.apply(lambda x: make_float(x))\n",
    "    results.append(res.T)\n",
    "    \n",
    "results = pd.concat(results, axis = 1).T\n",
    "order = ['Unintegrated', 'harmony', 'deepdive', 'poissonvi']"
   ]
  },
  {
   "cell_type": "code",
   "execution_count": 4,
   "id": "98c87dec",
   "metadata": {},
   "outputs": [
    {
     "name": "stdout",
     "output_type": "stream",
     "text": [
      "                        pair      stat      pval\n",
      "0    (Unintegrated, harmony) -0.167814  0.870894\n",
      "1   (Unintegrated, deepdive) -2.474634  0.038432\n",
      "2  (Unintegrated, poissonvi) -2.703883  0.026912\n",
      "3        (harmony, deepdive) -2.270718  0.052831\n",
      "4       (harmony, poissonvi) -2.522665  0.035660\n",
      "5      (deepdive, poissonvi) -0.424704  0.682244\n"
     ]
    }
   ],
   "source": [
    "pairs = [\n",
    "    (\"Unintegrated\", \"harmony\"),\n",
    "    (\"Unintegrated\", \"deepdive\"),\n",
    "    (\"Unintegrated\", \"poissonvi\"),\n",
    "    (\"harmony\", \"deepdive\"),\n",
    "    (\"harmony\", \"poissonvi\"),\n",
    "    (\"deepdive\", \"poissonvi\"),\n",
    "]\n",
    "\n",
    "df = results.copy()\n",
    "df['method'] = df['Embedding']\n",
    "df['score'] = df['Batch correction']\n",
    "df[\"score\"] = df[\"score\"].astype(float)\n",
    "results_test = []\n",
    "for g1, g2 in pairs:\n",
    "    vals1 = df.loc[df[\"method\"] == g1, \"score\"]\n",
    "    vals2 = df.loc[df[\"method\"] == g2, \"score\"]\n",
    "    stat, pval = ttest_ind(vals1, vals2, equal_var=True)  # Welch’s t-test\n",
    "    results_test.append({\"pair\": (g1, g2), \"stat\": stat, \"pval\": pval})\n",
    "\n",
    "results_df = pd.DataFrame(results_test)\n",
    "print(results_df)\n"
   ]
  },
  {
   "cell_type": "code",
   "execution_count": 5,
   "id": "08c96c1b",
   "metadata": {},
   "outputs": [
    {
     "data": {
      "image/png": "[encoded data removed]",
      "text/plain": [
       "<Figure size 200x200 with 1 Axes>"
      ]
     },
     "metadata": {},
     "output_type": "display_data"
    }
   ],
   "source": [
    "fig, ax = plt.subplots(1,1, figsize = (2,2))\n",
    "\n",
    "sns.barplot(data = results, x = 'Embedding', \n",
    "            y = 'Batch correction', \n",
    "            edgecolor = 'k', linewidth = 0.5,\n",
    "            order = order)\n",
    "\n",
    "x = 'Embedding'\n",
    "y = 'Batch correction'\n",
    "plt.savefig('../figures/F1F.pdf')"
   ]
  },
  {
   "cell_type": "code",
   "execution_count": 6,
   "id": "65abeb7c",
   "metadata": {},
   "outputs": [
    {
     "name": "stdout",
     "output_type": "stream",
     "text": [
      "                        pair      stat      pval\n",
      "0    (Unintegrated, harmony)  0.033474  0.974116\n",
      "1   (Unintegrated, deepdive)  0.339692  0.742834\n",
      "2  (Unintegrated, poissonvi) -0.351926  0.733984\n",
      "3        (harmony, deepdive)  0.296362  0.774502\n",
      "4       (harmony, poissonvi) -0.374543  0.717734\n",
      "5      (deepdive, poissonvi) -0.705014  0.500809\n"
     ]
    }
   ],
   "source": [
    "pairs = [\n",
    "    (\"Unintegrated\", \"harmony\"),\n",
    "    (\"Unintegrated\", \"deepdive\"),\n",
    "    (\"Unintegrated\", \"poissonvi\"),\n",
    "    (\"harmony\", \"deepdive\"),\n",
    "    (\"harmony\", \"poissonvi\"),\n",
    "    (\"deepdive\", \"poissonvi\"),\n",
    "]\n",
    "\n",
    "df = results.copy()\n",
    "df['method'] = df['Embedding']\n",
    "df['score'] = df['Bio conservation']\n",
    "df[\"score\"] = df[\"score\"].astype(float)\n",
    "results_test = []\n",
    "for g1, g2 in pairs:\n",
    "    vals1 = df.loc[df[\"method\"] == g1, \"score\"]\n",
    "    vals2 = df.loc[df[\"method\"] == g2, \"score\"]\n",
    "    stat, pval = ttest_ind(vals1, vals2, equal_var=True)  # Welch’s t-test\n",
    "    results_test.append({\"pair\": (g1, g2), \"stat\": stat, \"pval\": pval})\n",
    "\n",
    "results_df = pd.DataFrame(results_test)\n",
    "print(results_df)\n"
   ]
  },
  {
   "cell_type": "code",
   "execution_count": 7,
   "id": "55dc9939",
   "metadata": {},
   "outputs": [
    {
     "data": {
      "image/png": "[encoded data removed]",
      "text/plain": [
       "<Figure size 200x200 with 1 Axes>"
      ]
     },
     "metadata": {},
     "output_type": "display_data"
    }
   ],
   "source": [
    "fig, ax = plt.subplots(1,1, figsize = (2,2))\n",
    "\n",
    "sns.barplot(data = results, x = 'Embedding', \n",
    "            y = 'Bio conservation', \n",
    "            edgecolor = 'k', linewidth = 0.5,\n",
    "            order = ['Unintegrated', 'harmony', 'deepdive', 'poissonvi'])\n",
    "plt.savefig('../figures/S4H.pdf')"
   ]
  },
  {
   "cell_type": "code",
   "execution_count": null,
   "id": "b7b29824",
   "metadata": {},
   "outputs": [],
   "source": []
  }
 ],
 "metadata": {
  "kernelspec": {
   "display_name": "Python 3 (ipykernel)",
   "language": "python",
   "name": "python3"
  },
  "language_info": {
   "codemirror_mode": {
    "name": "ipython",
    "version": 3
   },
   "file_extension": ".py",
   "mimetype": "text/x-python",
   "name": "python",
   "nbconvert_exporter": "python",
   "pygments_lexer": "ipython3",
   "version": "3.10.12"
  }
 },
 "nbformat": 4,
 "nbformat_minor": 5
}
