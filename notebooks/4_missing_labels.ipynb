{
 "cells": [
  {
   "cell_type": "markdown",
   "id": "6bb6e91e",
   "metadata": {},
   "source": [
    "# Predict missing labels"
   ]
  },
  {
   "cell_type": "markdown",
   "id": "2717c173",
   "metadata": {},
   "source": [
    "## Imports"
   ]
  },
  {
   "cell_type": "code",
   "execution_count": 66,
   "id": "117f17ac",
   "metadata": {},
   "outputs": [],
   "source": [
    "import scanpy as sc\n",
    "import pandas as pd\n",
    "import numpy as np\n",
    "import glob\n",
    "\n",
    "import seaborn as sns\n",
    "import matplotlib.pyplot as plt\n",
    "import matplotlib\n",
    "\n",
    "import torch\n",
    "import torch.nn as nn\n",
    "from torch.distributions import Normal\n",
    "from typing import Optional, Callable, List\n",
    "from collections import OrderedDict\n",
    "from scipy import sparse\n",
    "\n",
    "import scipy\n",
    "from sklearn.preprocessing import OneHotEncoder\n",
    "\n",
    "from collections import defaultdict\n",
    "from tqdm import tqdm\n",
    "from torch.distributions.kl import kl_divergence as kl\n",
    "from torch.distributions import Normal, Poisson\n",
    "import torch.nn.functional as F\n",
    "\n",
    "import xgboost as xgb\n",
    "from sklearn.preprocessing import LabelEncoder\n",
    "from sklearn.metrics import classification_report, accuracy_score\n",
    "from sklearn.model_selection import train_test_split\n",
    "import anndata\n",
    "\n",
    "import DeepDive\n"
   ]
  },
  {
   "cell_type": "code",
   "execution_count": 8,
   "id": "77d84f00",
   "metadata": {},
   "outputs": [],
   "source": [
    "import sys\n",
    "sys.path.insert(0, \"../utils\")\n",
    "from simulation import simulate_scATAC_seq_data_missing\n",
    "from missing import predict_missing, train_xgb_from_adata\n",
    "from utils import get_colormap_colors, preprocess, sample_cells_per_donor, tfidf_transform"
   ]
  },
  {
   "cell_type": "code",
   "execution_count": null,
   "id": "4510f332",
   "metadata": {},
   "outputs": [],
   "source": []
  },
  {
   "cell_type": "code",
   "execution_count": 62,
   "id": "748c800a",
   "metadata": {},
   "outputs": [],
   "source": [
    "n_decoders = 1  \n",
    "model_params = {\n",
    "    'n_epochs_pretrain_ae' : 200*n_decoders,\n",
    "    'n_decoders' : n_decoders\n",
    "}\n",
    "train_params = {\n",
    "    'max_epoch' : 300*n_decoders, \n",
    "    'batch_size' : 512\n",
    "}"
   ]
  },
  {
   "cell_type": "code",
   "execution_count": null,
   "id": "5128508e",
   "metadata": {},
   "outputs": [
    {
     "name": "stdout",
     "output_type": "stream",
     "text": [
      "cannot use p with more than 2 groups in cov1\n"
     ]
    },
    {
     "name": "stderr",
     "output_type": "stream",
     "text": [
      "Epoch Train [300 / 300]: 100%|██████████| 10/10 [00:00<00:00, 28.99it/s, ETA=01d:00h:01:m05s|01d:00h:01:m05s, kl_loss=6.62, recon_loss=7.03e+3]\n"
     ]
    },
    {
     "name": "stdout",
     "output_type": "stream",
     "text": [
      "Calculating covariate importance.\n",
      "Predicting cov2 for 497 cells missing that covariate.\n",
      "cannot use p with more than 2 groups in cov1\n"
     ]
    },
    {
     "name": "stderr",
     "output_type": "stream",
     "text": [
      "Epoch Train [300 / 300]: 100%|██████████| 10/10 [00:00<00:00, 29.38it/s, ETA=01d:00h:01:m03s|01d:00h:01:m03s, kl_loss=6.48, recon_loss=6.99e+3]\n"
     ]
    },
    {
     "name": "stdout",
     "output_type": "stream",
     "text": [
      "Calculating covariate importance.\n",
      "Predicting cov2 for 518 cells missing that covariate.\n",
      "cannot use p with more than 2 groups in cov1\n"
     ]
    },
    {
     "name": "stderr",
     "output_type": "stream",
     "text": [
      "Epoch Train [300 / 300]: 100%|██████████| 10/10 [00:00<00:00, 29.32it/s, ETA=01d:00h:01:m05s|01d:00h:01:m05s, kl_loss=6.58, recon_loss=7.05e+3]\n"
     ]
    },
    {
     "name": "stdout",
     "output_type": "stream",
     "text": [
      "Calculating covariate importance.\n",
      "Predicting cov2 for 495 cells missing that covariate.\n",
      "cannot use p with more than 2 groups in cov1\n"
     ]
    },
    {
     "name": "stderr",
     "output_type": "stream",
     "text": [
      "Epoch Train [300 / 300]: 100%|██████████| 10/10 [00:00<00:00, 26.68it/s, ETA=01d:00h:01:m07s|01d:00h:01:m07s, kl_loss=6.71, recon_loss=7.03e+3]\n"
     ]
    },
    {
     "name": "stdout",
     "output_type": "stream",
     "text": [
      "Calculating covariate importance.\n",
      "Predicting cov2 for 487 cells missing that covariate.\n",
      "cannot use p with more than 2 groups in cov1\n"
     ]
    },
    {
     "name": "stderr",
     "output_type": "stream",
     "text": [
      "Epoch Train [300 / 300]: 100%|██████████| 10/10 [00:00<00:00, 26.40it/s, ETA=01d:00h:01:m09s|01d:00h:01:m09s, kl_loss=6.4, recon_loss=7.02e+3] \n"
     ]
    },
    {
     "name": "stdout",
     "output_type": "stream",
     "text": [
      "Calculating covariate importance.\n",
      "Predicting cov2 for 485 cells missing that covariate.\n",
      "cannot use p with more than 2 groups in cov1\n"
     ]
    },
    {
     "name": "stderr",
     "output_type": "stream",
     "text": [
      "Epoch Train [215 / 300]:  50%|█████     | 5/10 [00:00<00:00, 31.21it/s, ETA=01d:00h:00:m47s|01d:00h:01:m06s, kl_loss=6.48, recon_loss=7.02e+3] IOPub message rate exceeded.\n",
      "The notebook server will temporarily stop sending output\n",
      "to the client in order to avoid crashing it.\n",
      "To change this limit, set the config variable\n",
      "`--NotebookApp.iopub_msg_rate_limit`.\n",
      "\n",
      "Current values:\n",
      "NotebookApp.iopub_msg_rate_limit=1000.0 (msgs/sec)\n",
      "NotebookApp.rate_limit_window=3.0 (secs)\n",
      "\n",
      "Epoch Train [300 / 300]: 100%|██████████| 10/10 [00:00<00:00, 24.77it/s, ETA=01d:00h:01:m07s|01d:00h:01:m07s, kl_loss=6.5, recon_loss=7.02e+3] \n"
     ]
    },
    {
     "name": "stdout",
     "output_type": "stream",
     "text": [
      "Calculating covariate importance.\n",
      "Predicting cov2 for 459 cells missing that covariate.\n",
      "cannot use p with more than 2 groups in cov1\n"
     ]
    },
    {
     "name": "stderr",
     "output_type": "stream",
     "text": [
      "Epoch Train [300 / 300]: 100%|██████████| 10/10 [00:00<00:00, 24.72it/s, ETA=01d:00h:01:m04s|01d:00h:01:m04s, kl_loss=6.67, recon_loss=6.99e+3]\n"
     ]
    },
    {
     "name": "stdout",
     "output_type": "stream",
     "text": [
      "Calculating covariate importance.\n",
      "Predicting cov2 for 486 cells missing that covariate.\n",
      "cannot use p with more than 2 groups in cov1\n"
     ]
    },
    {
     "name": "stderr",
     "output_type": "stream",
     "text": [
      "Epoch Train [12 / 300]:  50%|█████     | 5/10 [00:00<00:00, 42.05it/s, ETA=01d:00h:00:m02s|01d:00h:01:m11s, kl_loss=0, recon_loss=7.17e+3] "
     ]
    }
   ],
   "source": [
    "out_res = []\n",
    "runs = []\n",
    "effectsize = []\n",
    "effectsize_lfc = []\n",
    "n_cells = 5000\n",
    "n_features = 5000\n",
    "steps = np.arange(0.05, 1.05, 0.1)\n",
    "\n",
    "n_runs = 3\n",
    "for run in range(n_runs):\n",
    "    for idx, i in enumerate(steps): \n",
    "        discrete_covariates = {'cov1': ['g1', 'g2', 'g3', 'g4', 'g5', 'g6', 'g7', 'g8', 'g9', 'g10'], \n",
    "                               'cov2': ['g1', 'g2']}\n",
    "        continuous_covariates = {'cov3':[0.0, 1.0]}\n",
    "        discrete_covriate_keys = list(discrete_covariates.keys())\n",
    "\n",
    "        simulation_result = simulate_scATAC_seq_data_missing(\n",
    "            n_cells, \n",
    "            n_features, \n",
    "            discrete_covariates=discrete_covariates,\n",
    "            continuous_max_effect_sizes = [4, 4],\n",
    "            max_effect_sizes=[0.5, i],\n",
    "            sample_feature_p=[0.1, 0.1],\n",
    "            continuous_sample_feature_p = [0.2, 0.2],\n",
    "            dependency=None, \n",
    "            continuous_link_to_groups={'cov3':'cov1'},\n",
    "            continuous_entanglement = 0\n",
    "\n",
    "        )\n",
    "\n",
    "        fragment_counts = simulation_result[\"data\"]\n",
    "        covariate_assignments = simulation_result[\"covariate_assignments\"]\n",
    "        pivot = simulation_result[\"pivot\"]\n",
    "        effect_sizes = simulation_result[\"effect_sizes\"]\n",
    "\n",
    "        adata = anndata.AnnData(fragment_counts)\n",
    "        adata.X = sparse.csr_matrix(adata.X) \n",
    "        adata.obs = covariate_assignments\n",
    "        adata.obs[discrete_covriate_keys] = adata.obs[discrete_covriate_keys].astype(str)\n",
    "\n",
    "        true_before = adata.obs['cov2'].copy()\n",
    "        adata.obs.loc[(adata.obs['cov1'] == 'g1'), 'cov2'] = 'Masked'\n",
    "\n",
    "        model = DeepDive.DeepDive(adata = adata, \n",
    "                                  discrete_covariate_names = discrete_covriate_keys,\n",
    "                                  unknown_keys = {'cov2':'Masked'},\n",
    "                                  **model_params\n",
    "                                 )\n",
    "        model.train_model(adata, None, **train_params)\n",
    "\n",
    "        adata_pred = model.predict_missing(adata, covars_to_add = ['cov1', 'cov2'] )\n",
    "\n",
    "        adata_pred.obs['is_masked'] = list(adata.obs.cov2 == 'Masked')\n",
    "        adata_pred.obs['true'] = list(true_before)\n",
    "\n",
    "        adata_pred.obs.groupby('is_masked').value_counts()\n",
    "\n",
    "        df = adata_pred.obs\n",
    "        df_sub = df[df.is_masked]\n",
    "        out_res.append(sum(df_sub.cov2 == df_sub.true) / len(df_sub.cov2))\n",
    "        runs.append(run)\n",
    "        effectsize.append(i)\n",
    "        \n",
    "        ef = np.log2(effect_sizes['cov2']['g1'] / effect_sizes['cov2']['g2'])\n",
    "        lfc = np.mean(abs(ef[ef!=0]))\n",
    "        effectsize_lfc.append(lfc)\n"
   ]
  },
  {
   "cell_type": "code",
   "execution_count": null,
   "id": "fdee543c",
   "metadata": {},
   "outputs": [],
   "source": [
    "result = pd.DataFrame([out_res, runs, effectsize, effectsize_lfc], index = ['Accuracy', 'runs', 'effectsize', 'lfc']).T"
   ]
  },
  {
   "cell_type": "code",
   "execution_count": null,
   "id": "9141397b",
   "metadata": {},
   "outputs": [],
   "source": [
    "mean = result.groupby('effectsize').mean()\n",
    "sd = result.groupby('effectsize').std()\n",
    "mean = mean.reset_index()\n",
    "sd = sd.reset_index()"
   ]
  },
  {
   "cell_type": "code",
   "execution_count": null,
   "id": "9e8ed459",
   "metadata": {},
   "outputs": [],
   "source": [
    "colors = get_colormap_colors('RdBu', 10)"
   ]
  },
  {
   "cell_type": "code",
   "execution_count": 71,
   "id": "b7189bd3",
   "metadata": {},
   "outputs": [
    {
     "data": {
      "image/png": "[encoded data removed]",
      "text/plain": [
       "<Figure size 200x200 with 1 Axes>"
      ]
     },
     "metadata": {},
     "output_type": "display_data"
    }
   ],
   "source": [
    "fig, ax = plt.subplots(1,1, figsize = (2,2))\n",
    "\n",
    "sns.scatterplot(mean, x = 'lfc', y = 'Accuracy', c = [colors[i] for i in mean.index], s = 25, ax = ax, linewidth = 0.5, edgecolor = 'k')\n",
    "plt.setp(ax.lines, zorder=100)\n",
    "plt.setp(ax.collections, zorder=100, label=\"\")\n",
    "plt.errorbar(mean.lfc, mean.Accuracy, yerr=sd.Accuracy,\n",
    "             fmt=\"none\", color=\"k\")\n",
    "plt.ylabel('Accuracy')\n",
    "plt.xlabel('Effect size (LFC)')\n",
    "plt.title('Prediction of masked labels')\n",
    "plt.savefig('../figures/F1G.pdf', transparent=True)"
   ]
  },
  {
   "cell_type": "code",
   "execution_count": null,
   "id": "eb76cc8b",
   "metadata": {},
   "outputs": [],
   "source": []
  },
  {
   "cell_type": "code",
   "execution_count": null,
   "id": "5ace13a9",
   "metadata": {},
   "outputs": [],
   "source": []
  },
  {
   "cell_type": "markdown",
   "id": "6786a4ae",
   "metadata": {},
   "source": [
    "## Predict missing on real data"
   ]
  },
  {
   "cell_type": "code",
   "execution_count": 41,
   "id": "90c5e282",
   "metadata": {},
   "outputs": [],
   "source": [
    "n_decoders = 5\n",
    "model_params = {\n",
    "    'n_epochs_pretrain_ae' : 200*n_decoders,\n",
    "    'n_decoders' : n_decoders,\n",
    "}\n",
    "train_params = {\n",
    "    'max_epoch' : 300*n_decoders, \n",
    "    'batch_size' : 1024, \n",
    "}"
   ]
  },
  {
   "cell_type": "code",
   "execution_count": 42,
   "id": "38a846e5",
   "metadata": {},
   "outputs": [],
   "source": [
    "adata = sc.read_h5ad(\"../data/islet.h5ad\")"
   ]
  },
  {
   "cell_type": "code",
   "execution_count": 43,
   "id": "5fec0a84",
   "metadata": {},
   "outputs": [],
   "source": [
    "mapper = {0:'alpha',\n",
    "1:'beta', \n",
    "2:'beta', \n",
    "3:'beta', \n",
    "4:'alpha', \n",
    "5:'beta', \n",
    "6:'delta', \n",
    "7:'acinar', \n",
    "8:'alpha', \n",
    "9:'ductal', \n",
    "10:'gamma', \n",
    "11:'stellate', \n",
    "12:'immune', \n",
    "13:'endothelial',\n",
    "}"
   ]
  },
  {
   "cell_type": "code",
   "execution_count": 44,
   "id": "9c726f72",
   "metadata": {},
   "outputs": [],
   "source": [
    "adata.obs['celltype'] = adata.obs.leiden.map(mapper)"
   ]
  },
  {
   "cell_type": "code",
   "execution_count": 45,
   "id": "d915b1ee",
   "metadata": {},
   "outputs": [],
   "source": [
    "discrete_covriate_keys = ['donor', 'celltype', 'Disease', 'Gender']\n",
    "continuous_covriate_keys = ['Age', 'HbA1c', 'Purity', 'map_frac', 'BMI']"
   ]
  },
  {
   "cell_type": "code",
   "execution_count": 46,
   "id": "00aad6dd",
   "metadata": {},
   "outputs": [],
   "source": [
    "donors_to_run = adata.obs.donor.unique()"
   ]
  },
  {
   "cell_type": "raw",
   "id": "93cfc967",
   "metadata": {},
   "source": [
    "import os\n",
    "for donor_select in donors_to_run:\n",
    "    print(f'Training: {donor_select}')\n",
    "        \n",
    "    adata_sub = sample_cells_per_donor(adata, donor_key=\"donor\", n_cells=2000, random_state=42)\n",
    "    adata_sub = preprocess(adata_sub, discrete_covriate_keys, continuous_covriate_keys, frac = 0.1).copy()\n",
    "    adata_sub.obs['mod'] = adata_sub.obs.donor == donor_select\n",
    "    adata_sub.obs['celltype'] = [x for x in adata_sub.obs['celltype']]\n",
    "    adata_sub.obs['Disease'] = [x for x in adata_sub.obs['Disease']]\n",
    "    adata_sub.obs['GT_Disease'] = adata_sub.obs['Disease'].copy()\n",
    "    adata_sub.obs.loc[adata_sub.obs['mod'], 'Disease'] = 'Masked'\n",
    "\n",
    "    adata_sub.write_h5ad(f'../data/pancreas_downsampled/downsampled_{donor_select}_Disease_missing.h5ad')\n",
    "\n",
    "    model = DeepDive.DeepDive(adata = adata_sub, \n",
    "                discrete_covariate_names = discrete_covriate_keys,\n",
    "                              continuous_covariate_names=continuous_covriate_keys,\n",
    "                              unknown_keys = {'Disease':'Masked'},\n",
    "                **model_params\n",
    "\n",
    "               )\n",
    "    model.train_model(adata_sub, None, \n",
    "                  **train_params)\n",
    "\n",
    "    model_path = f'../models/pancreas_downsampled/DeepDIVE_{donor_select}_Disease_missing.pt'\n",
    "    torch.save(model.state_dict(), model_path)"
   ]
  },
  {
   "cell_type": "code",
   "execution_count": 47,
   "id": "da4c0464",
   "metadata": {},
   "outputs": [],
   "source": [
    "random_state = 42\n",
    "n_estimators = 500\n",
    "max_depth = 3\n",
    "learning_rate = 0.1"
   ]
  },
  {
   "cell_type": "code",
   "execution_count": 49,
   "id": "b8c1712a",
   "metadata": {},
   "outputs": [],
   "source": [
    "to_add = list(set(discrete_covriate_keys + continuous_covriate_keys) - set(['donor']))\n",
    "counter = 0\n",
    "for model_path in glob.glob('*.pt', root_dir = '../models/pancreas_downsampled'):\n",
    "    # Get model\n",
    "    _, donor_select, _, _ = model_path.split('_')\n",
    "\n",
    "    # Load anndata\n",
    "    adata_sub = sc.read_h5ad(f'../data/pancreas_downsampled/downsampled_{donor_select}_Disease_missing.h5ad')\n",
    "\n",
    "    # Load and setup model\n",
    "    model = DeepDive.DeepDive(adata = adata_sub, discrete_covariate_names = discrete_covriate_keys, continuous_covariate_names=continuous_covriate_keys, unknown_keys = {'Disease':'Masked'}, **model_params)\n",
    "    model.load_state_dict(torch.load('../models/pancreas_downsampled/' + model_path))\n",
    "    model.pin_memory = False\n",
    "    \n",
    "\n",
    "    \n",
    "    # Train classifier on reconstruction with cell type\n",
    "    adata_train = adata_sub[adata_sub.obs[\"donor\"] != donor_select].copy()\n",
    "    sc.pp.sample(adata_train, n=10000)\n",
    "    adata_train.obs['Disease'] = 'T2D'\n",
    "    adata_train.obs['Disease'] = pd.Categorical(adata_train.obs['Disease'], categories=[\"T2D\", \"Non\", \"Masked\"])\n",
    "    rec_t2d = model.predict(adata_train, batch_size=1024, covars_to_add = to_add)\n",
    "    adata_train.obs['Disease'] = 'Non'\n",
    "    adata_train.obs['Disease'] = pd.Categorical(adata_train.obs['Disease'], categories=[\"T2D\", \"Non\", \"Masked\"])\n",
    "    rec_none = model.predict(adata_train, batch_size=1024, covars_to_add = to_add)\n",
    "    \n",
    "    # Train XGBoost model\n",
    "    X = rec_t2d.X - rec_none.X\n",
    "    celltype_encoder = LabelEncoder()\n",
    "    ct = celltype_encoder.fit_transform(adata_train.obs['celltype'])\n",
    "    X = np.concatenate((X, ct[:,np.newaxis]), axis = 1)\n",
    "    disease_encoder = LabelEncoder()\n",
    "    y = disease_encoder.fit_transform(adata_train.obs['GT_Disease'])\n",
    "    X_train, X_test, y_train, y_test = train_test_split(X, y, test_size=0.2, random_state=random_state)\n",
    "\n",
    "    mod = xgb.XGBClassifier(\n",
    "        n_estimators=n_estimators,\n",
    "        max_depth=max_depth,\n",
    "        learning_rate=learning_rate,\n",
    "        objective=\"binary:logistic\",\n",
    "        random_state=random_state,\n",
    "        use_label_encoder=False,\n",
    "        tree_method=\"hist\"\n",
    "    )\n",
    "    mod.fit(X_train, y_train,eval_set=[(X_test, y_test)], eval_metric='logloss', early_stopping_rounds=10, verbose=False)\n",
    "\n",
    "    adata_test = adata_sub[adata_sub.obs[\"donor\"] == donor_select].copy()\n",
    "    truth = adata_test.obs['GT_Disease'][0]\n",
    "    donor = adata_test.obs['donor'][0]\n",
    "    adata_test.obs['Disease'] = 'T2D'\n",
    "    adata_test.obs['Disease'] = pd.Categorical(adata_test.obs['Disease'], categories=[\"T2D\", \"Non\", \"Masked\"])\n",
    "    rec_t2d = model.predict(adata_test, batch_size=1024, covars_to_add = to_add)\n",
    "    adata_test.obs['Disease'] = 'Non'\n",
    "    adata_test.obs['Disease'] = pd.Categorical(adata_test.obs['Disease'], categories=[\"T2D\", \"Non\", \"Masked\"])\n",
    "    rec_none = model.predict(adata_test, batch_size=1024, covars_to_add = to_add)\n",
    "\n",
    "    X = rec_t2d.X - rec_none.X\n",
    "    ct = celltype_encoder.transform(adata_test.obs['celltype'])\n",
    "    X = np.concatenate((X, ct[:,np.newaxis]), axis = 1)\n",
    "    \n",
    "    # Count top 10\n",
    "    label, count = np.unique(disease_encoder.inverse_transform(np.argmax(mod.predict_proba(X)[mod.predict_proba(X).max(axis=1) >= 0.975,:], axis = 1)),return_counts=True)\n",
    "    \n",
    "    # Get fraction\n",
    "    if (label == truth).sum() > 0:\n",
    "        true_cells = count[np.argwhere(label == truth)[0]]\n",
    "    else:\n",
    "        true_cells = 0\n",
    "    correct_fraction = true_cells / count.sum()\n",
    "\n",
    "    # Setup results\n",
    "    df_tmp = pd.DataFrame({\n",
    "        'donor': donor,\n",
    "        'disease': truth,\n",
    "        'fraction': correct_fraction, \n",
    "    }, index = [counter])\n",
    "\n",
    "    # Concatenate across donors\n",
    "    if counter == 0:\n",
    "        acc_res = df_tmp\n",
    "    else:\n",
    "        acc_res = pd.concat((acc_res, df_tmp))\n",
    "    counter += 1\n"
   ]
  },
  {
   "cell_type": "code",
   "execution_count": 57,
   "id": "fa9664d3",
   "metadata": {},
   "outputs": [
    {
     "name": "stdout",
     "output_type": "stream",
     "text": [
      "MM109\n",
      "Accuracy: 0.253\n",
      "MM98\n",
      "Accuracy: 0.6955\n",
      "JYH792\n",
      "Accuracy: 0.69\n",
      "MM79\n",
      "Accuracy: 0.1795\n",
      "MM60\n",
      "Accuracy: 0.164\n",
      "MM97\n",
      "Accuracy: 0.186\n",
      "MM88\n",
      "Accuracy: 0.192\n",
      "MM51\n",
      "Accuracy: 0.1385\n",
      "MM56\n",
      "Accuracy: 0.435\n",
      "MM86\n",
      "Accuracy: 0.7065\n",
      "MM87\n",
      "Accuracy: 0.658\n",
      "MM77\n",
      "Accuracy: 0.6915\n",
      "MM81\n",
      "Accuracy: 0.218\n",
      "MM95\n",
      "Accuracy: 0.7395\n",
      "MM78\n",
      "Accuracy: 0.537\n",
      "MM59\n",
      "Accuracy: 0.7285\n",
      "MM61\n",
      "Accuracy: 0.724\n",
      "MM120\n",
      "Accuracy: 0.242\n",
      "MM93\n",
      "Accuracy: 0.8185\n",
      "MM80\n",
      "Accuracy: 0.5925\n",
      "MM123\n",
      "Accuracy: 0.7625\n",
      "MM121\n",
      "Accuracy: 0.1625\n",
      "MM57\n",
      "Accuracy: 0.3315\n",
      "MM12\n",
      "Accuracy: 0.254\n",
      "MM94\n",
      "Accuracy: 0.21\n",
      "JYH809\n",
      "Accuracy: 0.237\n",
      "MM54\n",
      "Accuracy: 0.3655\n",
      "MM89\n",
      "Accuracy: 0.517\n",
      "MM110\n",
      "Accuracy: 0.6555\n",
      "MM124\n",
      "Accuracy: 0.7355\n",
      "MM96\n",
      "Accuracy: 0.712\n",
      "MM55\n",
      "Accuracy: 0.509\n",
      "MM108\n",
      "Accuracy: 0.4045\n",
      "MM122\n",
      "Accuracy: 0.23\n"
     ]
    }
   ],
   "source": [
    "donors_xgb = []\n",
    "accuracies_xgb = []\n",
    "disease_xgb = []\n",
    "\n",
    "\n",
    "for model_path in glob.glob('*.pt', root_dir = '../models/pancreas_downsampled/'):\n",
    "    # Get model\n",
    "    _, donor_select, _, _ = model_path.split('_')\n",
    "    print(donor_select)\n",
    "    adata_sub = sc.read_h5ad(f'../data/pancreas_downsampled/downsampled_{donor_select}_Disease_missing.h5ad')\n",
    "\n",
    "    tfidf_transform(adata_sub, log=True)\n",
    "\n",
    "    adata_train = adata_sub[adata_sub.obs[\"donor\"] != donor_select].copy()\n",
    "    adata_test = adata_sub[adata_sub.obs[\"donor\"] == donor_select].copy()\n",
    "\n",
    "    model, y_true, y_pred, encoder, accuracy = train_xgb_from_adata(\n",
    "        adata_train, adata_test, label_key=\"GT_Disease\"\n",
    "    )\n",
    "    donors_xgb.append(donor_select)\n",
    "    accuracies_xgb.append(accuracy)\n",
    "    disease_xgb.append(adata_test.obs.GT_Disease[0])\n",
    "\n"
   ]
  },
  {
   "cell_type": "code",
   "execution_count": 58,
   "id": "9bfe66a8",
   "metadata": {},
   "outputs": [],
   "source": [
    "df = pd.DataFrame({'score':{'Baseline':sum([x>0.5 for x in accuracies_xgb]) / len(accuracies_xgb),\n",
    "                            'DeepDIVE':(acc_res['fraction'] >= 0.5).sum() / len(acc_res)}, \n",
    "             })"
   ]
  },
  {
   "cell_type": "code",
   "execution_count": 61,
   "id": "fc5bfe49",
   "metadata": {},
   "outputs": [
    {
     "data": {
      "image/png": "[encoded data removed]",
      "text/plain": [
       "<Figure size 200x200 with 1 Axes>"
      ]
     },
     "metadata": {},
     "output_type": "display_data"
    }
   ],
   "source": [
    "plt.subplots(figsize = (2,2))\n",
    "sns.barplot(data = df.reset_index(), x = 'index', y = 'score', order = ['Baseline', 'DeepDIVE'], edgecolor = 'k', linewidth = 0.5, palette = ['lightgray', 'green'])\n",
    "plt.ylim(0,1)\n",
    "\n",
    "plt.ylabel('Accuracy')\n",
    "plt.title('Predicting donor diabetes status')\n",
    "plt.savefig('../figures/S4I.pdf')"
   ]
  },
  {
   "cell_type": "code",
   "execution_count": null,
   "id": "711c05f1",
   "metadata": {},
   "outputs": [],
   "source": []
  }
 ],
 "metadata": {
  "kernelspec": {
   "display_name": "Python 3 (ipykernel)",
   "language": "python",
   "name": "python3"
  },
  "language_info": {
   "codemirror_mode": {
    "name": "ipython",
    "version": 3
   },
   "file_extension": ".py",
   "mimetype": "text/x-python",
   "name": "python",
   "nbconvert_exporter": "python",
   "pygments_lexer": "ipython3",
   "version": "3.10.12"
  }
 },
 "nbformat": 4,
 "nbformat_minor": 5
}
