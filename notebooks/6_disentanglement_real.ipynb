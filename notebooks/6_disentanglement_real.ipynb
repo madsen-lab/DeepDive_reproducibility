{
 "cells": [
  {
   "cell_type": "markdown",
   "id": "7ca49dce",
   "metadata": {},
   "source": [
    "## Disentangling covariates in real data"
   ]
  },
  {
   "cell_type": "markdown",
   "id": "d6239aed",
   "metadata": {},
   "source": [
    "## Imports"
   ]
  },
  {
   "cell_type": "code",
   "execution_count": 1,
   "id": "ab2a284e",
   "metadata": {},
   "outputs": [],
   "source": [
    "import scanpy as sc\n",
    "import pandas as pd\n",
    "import numpy as np\n",
    "import glob\n",
    "import seaborn as sns\n",
    "import matplotlib.pyplot as plt\n",
    "import torch\n",
    "import torch.nn as nn\n",
    "from torch.distributions import Normal\n",
    "from typing import Optional, Callable, List\n",
    "from collections import OrderedDict\n",
    "from sklearn.metrics import precision_recall_curve, average_precision_score\n",
    "import numpy as np\n",
    "import scipy\n",
    "from sklearn.preprocessing import OneHotEncoder\n",
    "import torch\n",
    "\n",
    "import json\n",
    "import time\n",
    "from collections import defaultdict\n",
    "import numpy as np\n",
    "from tqdm import tqdm\n",
    "import torch\n",
    "from torch import nn\n",
    "from torch.distributions.kl import kl_divergence as kl\n",
    "from torch.distributions import Normal, Poisson\n",
    "import torch.nn.functional as F\n",
    "import DeepDive"
   ]
  },
  {
   "cell_type": "code",
   "execution_count": 2,
   "id": "c5739563",
   "metadata": {},
   "outputs": [],
   "source": [
    "import sys\n",
    "sys.path.insert(0, \"../utils\")\n",
    "from utils import preprocess, get_colormap_colors\n",
    "from downsampled import sample_w_cramer, calc_de"
   ]
  },
  {
   "cell_type": "markdown",
   "id": "9c13b012",
   "metadata": {},
   "source": [
    "## Setup data and parameters"
   ]
  },
  {
   "cell_type": "code",
   "execution_count": 3,
   "id": "837edceb",
   "metadata": {},
   "outputs": [],
   "source": [
    "n_decoders = 20\n",
    "model_params = {\n",
    "    'n_epochs_pretrain_ae' : 200*n_decoders,\n",
    "    'n_decoders' : n_decoders,\n",
    "}\n",
    "\n",
    "train_params = {\n",
    "    'max_epoch' : 300*n_decoders, \n",
    "    'batch_size' : 512, \n",
    "}"
   ]
  },
  {
   "cell_type": "code",
   "execution_count": 4,
   "id": "ba2c0e78",
   "metadata": {},
   "outputs": [],
   "source": [
    "adata = sc.read_h5ad(\"../data/islet.h5ad\")"
   ]
  },
  {
   "cell_type": "code",
   "execution_count": 5,
   "id": "6c72eca5",
   "metadata": {},
   "outputs": [],
   "source": [
    "mapper = {0:'alpha',\n",
    "1:'beta', \n",
    "2:'beta', \n",
    "3:'beta', \n",
    "4:'alpha', \n",
    "5:'beta', \n",
    "6:'delta', \n",
    "7:'acinar', \n",
    "8:'alpha', \n",
    "9:'ductal', \n",
    "10:'gamma', \n",
    "11:'stellate', \n",
    "12:'immune', \n",
    "13:'endothelial',\n",
    "}\n",
    "adata.obs['celltype'] = adata.obs.leiden.map(mapper)"
   ]
  },
  {
   "cell_type": "code",
   "execution_count": 6,
   "id": "562f4df8",
   "metadata": {},
   "outputs": [],
   "source": [
    "discrete_covriate_keys = ['donor', 'celltype', 'Disease', 'Gender']\n",
    "continuous_covriate_keys = ['Age', 'HbA1c', 'Purity', 'map_frac', 'BMI']"
   ]
  },
  {
   "cell_type": "code",
   "execution_count": 7,
   "id": "c7ef22bd",
   "metadata": {},
   "outputs": [],
   "source": [
    "adata = adata[adata.obs.celltype == 'beta']"
   ]
  },
  {
   "cell_type": "code",
   "execution_count": 8,
   "id": "650dfb45",
   "metadata": {},
   "outputs": [],
   "source": [
    "adata = preprocess(adata, discrete_covriate_keys, continuous_covriate_keys, frac = 0.1).copy()"
   ]
  },
  {
   "cell_type": "code",
   "execution_count": 9,
   "id": "1605c16d",
   "metadata": {},
   "outputs": [],
   "source": [
    "data = adata.copy()"
   ]
  },
  {
   "cell_type": "markdown",
   "id": "73caaabc",
   "metadata": {},
   "source": [
    "## Make baseline with balanced covariates"
   ]
  },
  {
   "cell_type": "code",
   "execution_count": 10,
   "id": "dfd076f6",
   "metadata": {},
   "outputs": [],
   "source": [
    "data_sampled = sample_w_cramer(data, 40000, 0)"
   ]
  },
  {
   "cell_type": "code",
   "execution_count": 11,
   "id": "25a9ecf4",
   "metadata": {},
   "outputs": [],
   "source": [
    "data_sampled.write_h5ad('../data/Downsampled_real/baseline.h5ad')"
   ]
  },
  {
   "cell_type": "code",
   "execution_count": 12,
   "id": "dbefd54a",
   "metadata": {},
   "outputs": [],
   "source": [
    "df_full_sex, df_full_d = calc_de(data_sampled)\n",
    "df_full_sex = df_full_sex.set_index('M_n')\n",
    "df_full_d = df_full_d.set_index('T2D_n')"
   ]
  },
  {
   "cell_type": "code",
   "execution_count": 13,
   "id": "ba250876",
   "metadata": {},
   "outputs": [],
   "source": [
    "discrete_covriate_keys = ['Gender', 'Disease']\n"
   ]
  },
  {
   "cell_type": "markdown",
   "id": "b5d7c670",
   "metadata": {},
   "source": [
    "## Loop through downsampled datasets with variable entanglement"
   ]
  },
  {
   "cell_type": "raw",
   "id": "7d0eebce",
   "metadata": {},
   "source": [
    "steps = np.arange(0.0, 1.05, 0.2)\n",
    "    \n",
    "n_runs = 3\n",
    "\n",
    "for run in range(n_runs):\n",
    "    for idx, i in enumerate(steps):\n",
    "        \n",
    "        data_sampled_entangled = sample_w_cramer(data, 20_000, i).copy()\n",
    "        data_sampled_entangled.write_h5ad(f'../data/Downsampled_real/downsampled_{run}_{idx}_{i}_{cramer}.h5ad')\n",
    "        \n",
    "        model = DeepDive.DeepDive(adata = data_sampled_entangled, \n",
    "                    discrete_covariate_names = discrete_covriate_keys,\n",
    "                    **model_params\n",
    "\n",
    "                   )\n",
    "        model.train_model(data_sampled_entangled, None, \n",
    "                      **train_params)\n",
    "        \n",
    "        cramer = cramers_v(data_sampled_entangled.obs.Gender, data_sampled_entangled.obs.Disease)\n",
    "        \n",
    "        df_entangled_sex, df_entangled_d = calc_de(data_sampled_entangled)\n",
    "        df_entangled_sex = df_entangled_sex.set_index('M_n')\n",
    "        df_entangled_d = df_entangled_d.set_index('T2D_n')\n",
    "        df_entangled_d['M_l'] = df_entangled_sex['M_l'][df_entangled_d.index]\n",
    "        df_entangled_d['M_p'] = df_entangled_sex['M_p'][df_entangled_d.index]\n",
    "        df_entangled_d['M_l_full'] = df_full_sex['M_l'][df_entangled_d.index]\n",
    "        df_entangled_d['M_p_full'] = df_full_sex['M_p'][df_entangled_d.index]\n",
    "        df_entangled_d['T2D_l_full'] = df_full_d['T2D_l'][df_entangled_d.index]\n",
    "        df_entangled_d['T2D_p_full'] = df_full_d['T2D_p'][df_entangled_d.index]\n",
    "\n",
    "        DE = compare_groups(model, adata=data_sampled_entangled, groupA=\"T2D\", groupB=\"Non\", \n",
    "                        covariate=\"Disease\", add_unknown=True, batch_size=256,\n",
    "                        exclude_covariates=None,fdr_method=\"fdr_bh\",num_workers=10)\n",
    "        DE = DE.set_index('Feature')\n",
    "        df_entangled_d['model_T2D'] = DE.Difference[df_entangled_d.index].copy()\n",
    "        \n",
    "        DE = compare_groups(model, adata=data_sampled_entangled, groupA=\"M\", groupB=\"F\", \n",
    "                        covariate=\"Gender\", add_unknown=True, batch_size=256,\n",
    "                        exclude_covariates=None,fdr_method=\"fdr_bh\",num_workers=10)\n",
    "        DE = DE.set_index('Feature')\n",
    "        df_entangled_d['model_M'] = DE.Difference[df_entangled_d.index].copy()\n",
    "        \n",
    "        df_entangled_d.to_csv(f'../data/Downsampled_real/output_{run}_{idx}_{i}_{cramer}.tsv', sep = '\\t')\n"
   ]
  },
  {
   "cell_type": "code",
   "execution_count": 14,
   "id": "c800ec9f",
   "metadata": {},
   "outputs": [],
   "source": [
    "runs = []\n",
    "entanglement = []\n",
    "indexes = []\n",
    "cramers = []\n",
    "average_precision_lfc = []\n",
    "average_precision_dd = []\n",
    "\n",
    "files = glob.glob('output*', root_dir = '../data/Downsampled_real')\n",
    "for f in files:\n",
    "    _, run, idx, i, cramer = f.split('.tsv')[0].split('_')\n",
    "    try:\n",
    "        i = float(i)\n",
    "        idx = int(idx)\n",
    "    except:\n",
    "        pass\n",
    "    run = int(run)\n",
    "    runs.append(run)\n",
    "    indexes.append(idx)\n",
    "    entanglement.append(i)\n",
    "    cramers.append(cramer)\n",
    "    \n",
    "    df_entangled_d = pd.read_csv('../data/Downsampled_real/' + f, sep = '\\t', index_col = 0)\n",
    "    \n",
    "    df_entangled_d['M_l_full'] = df_full_sex['M_l'][df_entangled_d.index]\n",
    "    df_entangled_d['M_p_full'] = df_full_sex['M_p'][df_entangled_d.index]\n",
    "    df_entangled_d['T2D_l_full'] = df_full_d['T2D_l'][df_entangled_d.index]\n",
    "    df_entangled_d['T2D_p_full'] = df_full_d['T2D_p'][df_entangled_d.index]\n",
    "\n",
    "    average_precision_lfc.append(average_precision_score(df_entangled_d.M_p_full < 0.05, abs(df_entangled_d.M_l)))\n",
    "    average_precision_dd.append(average_precision_score(df_entangled_d.M_p_full < 0.05, abs(df_entangled_d.model_M)))\n",
    "    "
   ]
  },
  {
   "cell_type": "code",
   "execution_count": 15,
   "id": "be532a86",
   "metadata": {},
   "outputs": [],
   "source": [
    "result = pd.concat([pd.Series(x) for x in [indexes, entanglement, runs, \n",
    "                                           average_precision_lfc, average_precision_dd]],axis = 1)\n",
    "result.columns = ['idx', 'i', 'run', 'lfc', 'dd']\n",
    "result = result.sort_values('idx')"
   ]
  },
  {
   "cell_type": "code",
   "execution_count": 16,
   "id": "f4873041",
   "metadata": {},
   "outputs": [],
   "source": [
    "mean = result.groupby('i').mean()\n",
    "sd = result.groupby('i').std()"
   ]
  },
  {
   "cell_type": "code",
   "execution_count": 17,
   "id": "4c0e14b0",
   "metadata": {},
   "outputs": [],
   "source": [
    "colors = get_colormap_colors('RdBu', 11)"
   ]
  },
  {
   "cell_type": "code",
   "execution_count": 18,
   "id": "3f5a069e",
   "metadata": {},
   "outputs": [
    {
     "data": {
      "image/png": "[encoded data removed]",
      "text/plain": [
       "<Figure size 200x200 with 1 Axes>"
      ]
     },
     "metadata": {},
     "output_type": "display_data"
    }
   ],
   "source": [
    "#On fold change\n",
    "\n",
    "fig, ax = plt.subplots(1,1, figsize = (2,2))\n",
    "\n",
    "X_plot = np.linspace(0.0, 1)\n",
    "Y_plot = X_plot\n",
    "sns.lineplot(x=X_plot, y=Y_plot, color = 'k', linestyle='--', linewidth=1, ax = ax, alpha = 0.5)\n",
    "    \n",
    "sns.scatterplot(mean, x = 'lfc', y = 'dd', c = [colors[int(i*10)] for i in mean.index], s = 25, ax = ax, linewidth = 0.5, edgecolor = 'k')\n",
    "\n",
    "plt.setp(ax.lines, zorder=100)\n",
    "plt.setp(ax.collections, zorder=100, label=\"\")\n",
    "ax.errorbar(mean.lfc, mean.dd, xerr=sd.lfc, yerr=sd.dd, fmt=\"none\", color=\"k\")\n",
    "\n",
    "plt.xlim(0.2, 0.7)\n",
    "plt.ylim(0.2, 0.7)\n",
    "plt.xlabel('Observed average precision')\n",
    "plt.ylabel('DeepDIVE average precision')\n",
    "plt.title('Effect size')\n",
    "plt.savefig('../figures/S4G.pdf')\n"
   ]
  },
  {
   "cell_type": "code",
   "execution_count": null,
   "id": "866ba654",
   "metadata": {},
   "outputs": [],
   "source": []
  },
  {
   "cell_type": "code",
   "execution_count": null,
   "id": "846e933e",
   "metadata": {},
   "outputs": [],
   "source": []
  },
  {
   "cell_type": "code",
   "execution_count": null,
   "id": "b3d6da05",
   "metadata": {},
   "outputs": [],
   "source": []
  }
 ],
 "metadata": {
  "kernelspec": {
   "display_name": "Python 3 (ipykernel)",
   "language": "python",
   "name": "python3"
  },
  "language_info": {
   "codemirror_mode": {
    "name": "ipython",
    "version": 3
   },
   "file_extension": ".py",
   "mimetype": "text/x-python",
   "name": "python",
   "nbconvert_exporter": "python",
   "pygments_lexer": "ipython3",
   "version": "3.10.12"
  }
 },
 "nbformat": 4,
 "nbformat_minor": 5
}
