{
 "cells": [
  {
   "cell_type": "markdown",
   "id": "60b5098b",
   "metadata": {},
   "source": [
    "# Benchmark against Biolord"
   ]
  },
  {
   "cell_type": "markdown",
   "id": "d53c0060",
   "metadata": {},
   "source": [
    "## Imports"
   ]
  },
  {
   "cell_type": "code",
   "execution_count": 1,
   "id": "db35ec6f",
   "metadata": {},
   "outputs": [],
   "source": [
    "\n",
    "import scanpy as sc\n",
    "import numpy as np\n",
    "import torch\n",
    "from sklearn.metrics import mean_squared_error\n",
    "import seaborn as sns\n",
    "import pandas as pd\n",
    "import glob\n",
    "import matplotlib.pyplot as plt\n"
   ]
  },
  {
   "cell_type": "code",
   "execution_count": null,
   "id": "24149564",
   "metadata": {},
   "outputs": [],
   "source": [
    "import DeepDive\n",
    "import biolord"
   ]
  },
  {
   "cell_type": "code",
   "execution_count": 2,
   "id": "7bb7d5bd",
   "metadata": {},
   "outputs": [],
   "source": [
    "def r2_score(y_true, y_pred):\n",
    "\n",
    "    ss_res = np.sum((y_true - y_pred) ** 2)\n",
    "    ss_tot = np.sum((y_true - np.mean(y_true)) ** 2)\n",
    "    r2 = 1 - (ss_res / ss_tot)\n",
    "    \n",
    "    return r2\n"
   ]
  },
  {
   "cell_type": "code",
   "execution_count": 4,
   "id": "abf32236",
   "metadata": {},
   "outputs": [],
   "source": [
    "def evaluate(test_adata, \n",
    "             model_, \n",
    "             discrete_covriate_keys, \n",
    "             continuous_covriate_keys, \n",
    "             ct_name = '', \n",
    "             dataset_name = '', \n",
    "             marker_dir = '', \n",
    "             benchmark_directory = '../Benchmark_models', model = 'DeepDive'):\n",
    "    \n",
    "    # Load markers\n",
    "    markers = pd.read_csv(f\"{marker_dir}/{dataset_name}_markers.tsv\", sep = '\\t', index_col = 0)['0'].tolist()\n",
    "    idx = [x in markers for x in test_adata.var_names]\n",
    "    \n",
    "    # Predict\n",
    "    rec = model.predict(test_adata, covars_to_add = discrete_covriate_keys + continuous_covriate_keys,\n",
    "                                batch_size = 256, num_workers = 10, add_unknown = True)\n",
    "\n",
    "    ct = test_adata.obs[ct_name].unique()\n",
    "\n",
    "    r2 = []\n",
    "    for i in ct:\n",
    "        true_sub_sub = test_adata[test_adata.obs[ct_name] == i].X.todense().mean(axis = 0)\n",
    "        pred_sub_sub = np.array(rec[test_adata.obs[ct_name] == i].X).mean(axis = 0)\n",
    "        r2.append(r2_score(np.array(true_sub_sub).flatten(), np.array(pred_sub_sub)))\n",
    "    result_out = f'{benchmark_directory}/{model}/{dataset_name}_r2score.txt'\n",
    "    np.savetxt(result_out, np.array(r2))\n",
    "    \n",
    "\n"
   ]
  },
  {
   "cell_type": "markdown",
   "id": "a19c0907",
   "metadata": {},
   "source": [
    "## Parameters"
   ]
  },
  {
   "cell_type": "code",
   "execution_count": null,
   "id": "689386c8",
   "metadata": {},
   "outputs": [],
   "source": [
    "#DeepDive params\n",
    "n_decoders = 1  \n",
    "model_params = {\n",
    "    'n_epochs_pretrain_ae' : 200*n_decoders,\n",
    "    'n_decoders' : n_decoders,\n",
    "}\n",
    "train_params = {\n",
    "    'max_epoch' : 300*n_decoders, \n",
    "    'batch_size' : 512, \n",
    "}"
   ]
  },
  {
   "cell_type": "code",
   "execution_count": null,
   "id": "b8ae739d",
   "metadata": {},
   "outputs": [],
   "source": [
    "#Biolord params\n",
    "module_params_bl = {\n",
    "        \"decoder_width\": 512,\n",
    "        \"decoder_depth\": 6,\n",
    "        \"attribute_nn_width\": 256,\n",
    "        \"attribute_nn_depth\": 2,\n",
    "        \"unknown_attribute_noise_param\": 1e0,\n",
    "        \"seed\": 42,\n",
    "        \"n_latent_attribute_ordered\": 16,\n",
    "        \"n_latent_attribute_categorical\": 16,\n",
    "        \"gene_likelihood\": \"poisson\",\n",
    "        \"reconstruction_penalty\": 1e1,\n",
    "        \"unknown_attribute_penalty\": 1e0,\n",
    "        \"attribute_dropout_rate\": 0.1\n",
    "    } \n",
    "plan_kwargs_bl = {\n",
    "        \"n_epochs_warmup\": 0,\n",
    "        \"decoder_lr\": 1e-4,\n",
    "        \"decoder_wd\": 1e-4,\n",
    "        \"attribute_nn_lr\": 1e-2,\n",
    "        \"attribute_nn_wd\": 4e-8,\n",
    "        \"step_size_lr\": 45,\n",
    "        \"cosine_scheduler\": True,\n",
    "        \"scheduler_final_lr\": 1e-5,\n",
    "    }"
   ]
  },
  {
   "cell_type": "markdown",
   "id": "e9f846e2",
   "metadata": {},
   "source": [
    "## NeuroIPS"
   ]
  },
  {
   "cell_type": "markdown",
   "id": "0961d317",
   "metadata": {},
   "source": [
    "### with cell types"
   ]
  },
  {
   "cell_type": "code",
   "execution_count": null,
   "id": "d68f23dc",
   "metadata": {},
   "outputs": [],
   "source": [
    "adata = sc.read_h5ad(\"Processed_benchmark_datasets/NeuroIPS.h5ad\")"
   ]
  },
  {
   "cell_type": "code",
   "execution_count": null,
   "id": "90f9c0c7",
   "metadata": {},
   "outputs": [],
   "source": [
    "discrete_covriate_keys = ['cell_type', 'batch', 'Site', 'DonorID',  'DonorBloodType',\n",
    "       'DonorRace', 'Ethnicity', 'DonorGender', 'DonorSmoker']\n",
    "continuous_covriate_keys = ['DonorAge', 'DonorBMI']\n",
    "adata.obs.DonorID = adata.obs.DonorID.map(str)"
   ]
  },
  {
   "cell_type": "code",
   "execution_count": null,
   "id": "48ad543c",
   "metadata": {},
   "outputs": [],
   "source": [
    "train_adata = adata[adata.obs.split == 'train']\n",
    "validation_adata = adata[adata.obs.split == 'test']\n",
    "test_adata = adata[adata.obs.split == 'ood']\n"
   ]
  },
  {
   "cell_type": "code",
   "execution_count": null,
   "id": "ebaaf85f",
   "metadata": {},
   "outputs": [],
   "source": [
    "model = DeepDive.DeepDive(adata = adata, \n",
    "                        discrete_covariate_names = discrete_covriate_keys,\n",
    "                        continuous_covariate_names = continuous_covriate_keys, \n",
    "                        **model_params\n",
    "                       )"
   ]
  },
  {
   "cell_type": "code",
   "execution_count": null,
   "id": "1f192db2",
   "metadata": {},
   "outputs": [],
   "source": [
    "model.train_model(train_adata, validation_adata, \n",
    "                  **train_params)"
   ]
  },
  {
   "cell_type": "code",
   "execution_count": null,
   "id": "a68f26aa",
   "metadata": {},
   "outputs": [],
   "source": [
    "evaluate(test_adata, model, discrete_covriate_keys, continuous_covriate_keys, \n",
    "         ct_name = 'cell_type', dataset_name = 'NeuroIPS')"
   ]
  },
  {
   "cell_type": "code",
   "execution_count": null,
   "id": "8c4f586c",
   "metadata": {},
   "outputs": [],
   "source": [
    "biolord.Biolord.setup_anndata(\n",
    "    adata,\n",
    "    ordered_attributes_keys=continuous_covriate_keys,\n",
    "    categorical_attributes_keys=discrete_covriate_keys,\n",
    ")\n",
    "\n",
    "model = biolord.Biolord(\n",
    "    adata=adata,\n",
    "    n_latent=128,\n",
    "    model_name=\"atac_poisson\",\n",
    "    module_params=module_params_bl,\n",
    "    split_key=\"split\",\n",
    ")"
   ]
  },
  {
   "cell_type": "code",
   "execution_count": null,
   "id": "c3c1bc96",
   "metadata": {},
   "outputs": [],
   "source": [
    "model.train(\n",
    "    max_epochs=100,\n",
    "    batch_size=512,\n",
    "    accelerator = 'gpu',\n",
    "    plan_kwargs=plan_kwargs_bl,\n",
    "    early_stopping=False,\n",
    "    early_stopping_patience=20,\n",
    "    check_val_every_n_epoch=10,\n",
    "    num_workers=1,\n",
    "    enable_checkpointing=False,\n",
    ")"
   ]
  },
  {
   "cell_type": "code",
   "execution_count": null,
   "id": "f410b851",
   "metadata": {},
   "outputs": [],
   "source": [
    "evaluate(test_adata, model, discrete_covriate_keys, continuous_covriate_keys, \n",
    "         ct_name = 'cell_type', dataset_name = 'NeuroIPS', model = 'Biolord')"
   ]
  },
  {
   "cell_type": "markdown",
   "id": "5a682631",
   "metadata": {},
   "source": [
    "### Without cell types"
   ]
  },
  {
   "cell_type": "code",
   "execution_count": null,
   "id": "8878201e",
   "metadata": {},
   "outputs": [],
   "source": [
    "discrete_covriate_keys = ['batch', 'Site', 'DonorID',  'DonorBloodType',\n",
    "       'DonorRace', 'Ethnicity', 'DonorGender', 'DonorSmoker']"
   ]
  },
  {
   "cell_type": "code",
   "execution_count": null,
   "id": "5652049e",
   "metadata": {},
   "outputs": [],
   "source": [
    "model = DeepDive.DeepDive(adata = adata, \n",
    "                        discrete_covariate_names = discrete_covriate_keys,\n",
    "                        continuous_covariate_names = continuous_covriate_keys, \n",
    "                        **model_params\n",
    "                       )"
   ]
  },
  {
   "cell_type": "code",
   "execution_count": null,
   "id": "2a95f5cf",
   "metadata": {},
   "outputs": [],
   "source": [
    "model.train_model(train_adata, validation_adata, \n",
    "                  **train_params)"
   ]
  },
  {
   "cell_type": "code",
   "execution_count": null,
   "id": "3aa3ec6f",
   "metadata": {},
   "outputs": [],
   "source": [
    "evaluate(test_adata, model, discrete_covriate_keys, continuous_covriate_keys, \n",
    "         ct_name = 'cell_type', dataset_name = 'NeuroIPS', benchmark_directory = '../Benchmark_models_no_ct')"
   ]
  },
  {
   "cell_type": "code",
   "execution_count": null,
   "id": "01d6af49",
   "metadata": {},
   "outputs": [],
   "source": [
    "biolord.Biolord.setup_anndata(\n",
    "    adata,\n",
    "    ordered_attributes_keys=continuous_covriate_keys,\n",
    "    categorical_attributes_keys=discrete_covriate_keys,\n",
    ")\n",
    "\n",
    "model = biolord.Biolord(\n",
    "    adata=adata,\n",
    "    n_latent=128,\n",
    "    model_name=\"atac_poisson\",\n",
    "    module_params=module_params_bl,\n",
    "    split_key=\"split\",\n",
    ")"
   ]
  },
  {
   "cell_type": "code",
   "execution_count": null,
   "id": "da30caeb",
   "metadata": {},
   "outputs": [],
   "source": [
    "model.train(\n",
    "    max_epochs=100,\n",
    "    batch_size=512,\n",
    "    accelerator = 'gpu',\n",
    "    plan_kwargs=plan_kwargs_bl,\n",
    "    early_stopping=False,\n",
    "    early_stopping_patience=20,\n",
    "    check_val_every_n_epoch=10,\n",
    "    num_workers=1,\n",
    "    enable_checkpointing=False,\n",
    ")"
   ]
  },
  {
   "cell_type": "code",
   "execution_count": null,
   "id": "361aeb08",
   "metadata": {},
   "outputs": [],
   "source": [
    "evaluate(test_adata, model, discrete_covriate_keys, continuous_covriate_keys, \n",
    "         ct_name = 'cell_type', dataset_name = 'NeuroIPS', \n",
    "         model = 'Biolord', benchmark_directory = '../Benchmark_models_no_ct')"
   ]
  },
  {
   "cell_type": "code",
   "execution_count": null,
   "id": "a394295c",
   "metadata": {},
   "outputs": [],
   "source": []
  },
  {
   "cell_type": "markdown",
   "id": "7ee68790",
   "metadata": {},
   "source": [
    "### sciATAC3"
   ]
  },
  {
   "cell_type": "code",
   "execution_count": null,
   "id": "139518df",
   "metadata": {},
   "outputs": [],
   "source": [
    "adata = sc.read_h5ad(\"../../Processed_benchmark_datasets/sciATAC3.h5ad\")"
   ]
  },
  {
   "cell_type": "code",
   "execution_count": null,
   "id": "c2aa5bb1",
   "metadata": {},
   "outputs": [],
   "source": [
    "discrete_covriate_keys = ['donor_id', 'sex', 'batch', 'tissue', 'cell_type'\n",
    "                         ]\n",
    "continuous_covriate_keys = ['day_of_pregnancy']"
   ]
  },
  {
   "cell_type": "code",
   "execution_count": null,
   "id": "f8265868",
   "metadata": {},
   "outputs": [],
   "source": [
    "train_adata = adata[adata.obs.split == 'train']\n",
    "validation_adata = adata[adata.obs.split == 'test']\n",
    "test_adata = adata[adata.obs.split == 'ood']\n"
   ]
  },
  {
   "cell_type": "markdown",
   "id": "e7326ff1",
   "metadata": {},
   "source": [
    "### with cell types"
   ]
  },
  {
   "cell_type": "code",
   "execution_count": null,
   "id": "074862d9",
   "metadata": {},
   "outputs": [],
   "source": [
    "model = DeepDive.DeepDive(adata = adata, \n",
    "                        discrete_covariate_names = discrete_covriate_keys,\n",
    "                        continuous_covariate_names = continuous_covriate_keys, \n",
    "                        **model_params\n",
    "                       )"
   ]
  },
  {
   "cell_type": "code",
   "execution_count": null,
   "id": "40a02741",
   "metadata": {},
   "outputs": [],
   "source": [
    "model.train_model(train_adata, validation_adata, \n",
    "                  **train_params)"
   ]
  },
  {
   "cell_type": "code",
   "execution_count": null,
   "id": "9a26c1af",
   "metadata": {},
   "outputs": [],
   "source": [
    "evaluate(test_adata, model, discrete_covriate_keys, continuous_covriate_keys, \n",
    "         ct_name = 'cell_type', dataset_name = 'sciATAC3')"
   ]
  },
  {
   "cell_type": "code",
   "execution_count": null,
   "id": "6c9fa598",
   "metadata": {},
   "outputs": [],
   "source": [
    "biolord.Biolord.setup_anndata(\n",
    "    adata,\n",
    "    ordered_attributes_keys=continuous_covriate_keys,\n",
    "    categorical_attributes_keys=discrete_covriate_keys,\n",
    ")\n",
    "\n",
    "model = biolord.Biolord(\n",
    "    adata=adata,\n",
    "    n_latent=128,\n",
    "    model_name=\"atac_poisson\",\n",
    "    module_params=module_params_bl,\n",
    "    split_key=\"split\",\n",
    ")"
   ]
  },
  {
   "cell_type": "code",
   "execution_count": null,
   "id": "a7e3fc6a",
   "metadata": {},
   "outputs": [],
   "source": [
    "model.train(\n",
    "    max_epochs=100,\n",
    "    batch_size=512,\n",
    "    accelerator = 'gpu',\n",
    "    plan_kwargs=plan_kwargs_bl,\n",
    "    early_stopping=False,\n",
    "    early_stopping_patience=20,\n",
    "    check_val_every_n_epoch=10,\n",
    "    num_workers=1,\n",
    "    enable_checkpointing=False,\n",
    ")"
   ]
  },
  {
   "cell_type": "code",
   "execution_count": null,
   "id": "39b4d677",
   "metadata": {},
   "outputs": [],
   "source": [
    "evaluate(test_adata, model, discrete_covriate_keys, continuous_covriate_keys, \n",
    "         ct_name = 'cell_type', dataset_name = 'sciATAC3', model = 'Biolord')"
   ]
  },
  {
   "cell_type": "markdown",
   "id": "6eb61817",
   "metadata": {},
   "source": [
    "### Without cell types"
   ]
  },
  {
   "cell_type": "code",
   "execution_count": null,
   "id": "21c114db",
   "metadata": {},
   "outputs": [],
   "source": [
    "discrete_covriate_keys = ['donor_id', 'sex', 'batch', 'tissue', \n",
    "                         ]\n",
    "continuous_covriate_keys = ['day_of_pregnancy']"
   ]
  },
  {
   "cell_type": "code",
   "execution_count": null,
   "id": "3aca4ff4",
   "metadata": {},
   "outputs": [],
   "source": [
    "model = DeepDive.DeepDive(adata = adata, \n",
    "                        discrete_covariate_names = discrete_covriate_keys,\n",
    "                        continuous_covariate_names = continuous_covriate_keys, \n",
    "                        **model_params\n",
    "                       )"
   ]
  },
  {
   "cell_type": "code",
   "execution_count": null,
   "id": "47a4cf88",
   "metadata": {},
   "outputs": [],
   "source": [
    "model.train_model(train_adata, validation_adata, \n",
    "                  **train_params)"
   ]
  },
  {
   "cell_type": "code",
   "execution_count": null,
   "id": "1be5ea5e",
   "metadata": {},
   "outputs": [],
   "source": [
    "evaluate(test_adata, model, discrete_covriate_keys, continuous_covriate_keys, \n",
    "         ct_name = 'cell_type', dataset_name = 'sciATAC3', benchmark_directory = '../Benchmark_models_no_ct')"
   ]
  },
  {
   "cell_type": "code",
   "execution_count": null,
   "id": "ab2dd9a4",
   "metadata": {},
   "outputs": [],
   "source": [
    "biolord.Biolord.setup_anndata(\n",
    "    adata,\n",
    "    ordered_attributes_keys=continuous_covriate_keys,\n",
    "    categorical_attributes_keys=discrete_covriate_keys,\n",
    ")\n",
    "\n",
    "model = biolord.Biolord(\n",
    "    adata=adata,\n",
    "    n_latent=128,\n",
    "    model_name=\"atac_poisson\",\n",
    "    module_params=module_params_bl,\n",
    "    split_key=\"split\",\n",
    ")"
   ]
  },
  {
   "cell_type": "code",
   "execution_count": null,
   "id": "dcd208c2",
   "metadata": {},
   "outputs": [],
   "source": [
    "model.train(\n",
    "    max_epochs=100,\n",
    "    batch_size=512,\n",
    "    accelerator = 'gpu',\n",
    "    plan_kwargs=plan_kwargs_bl,\n",
    "    early_stopping=False,\n",
    "    early_stopping_patience=20,\n",
    "    check_val_every_n_epoch=10,\n",
    "    num_workers=1,\n",
    "    enable_checkpointing=False,\n",
    ")"
   ]
  },
  {
   "cell_type": "code",
   "execution_count": null,
   "id": "39948957",
   "metadata": {},
   "outputs": [],
   "source": [
    "evaluate(test_adata, model, discrete_covriate_keys, continuous_covriate_keys, \n",
    "         ct_name = 'cell_type', dataset_name = 'sciATAC3', \n",
    "         model = 'Biolord', benchmark_directory = '../Benchmark_models_no_ct')"
   ]
  },
  {
   "cell_type": "code",
   "execution_count": null,
   "id": "e557456b",
   "metadata": {},
   "outputs": [],
   "source": []
  },
  {
   "cell_type": "markdown",
   "id": "6bf59912",
   "metadata": {},
   "source": [
    "### Gestation_cerebral_cortex"
   ]
  },
  {
   "cell_type": "code",
   "execution_count": null,
   "id": "0ed62eb6",
   "metadata": {},
   "outputs": [],
   "source": [
    "adata = sc.read_h5ad(\"../../Processed_benchmark_datasets/Gestation_cerebral_cortex.h5ad\")"
   ]
  },
  {
   "cell_type": "code",
   "execution_count": null,
   "id": "c5a0221c",
   "metadata": {},
   "outputs": [],
   "source": [
    "discrete_covriate_keys = ['Sample.ID', 'Tissue.ID', 'Sample.Type', 'Batch', 'Iterative.LSI.Clusters'\n",
    "                         ]\n",
    "continuous_covriate_keys = ['Age_int']"
   ]
  },
  {
   "cell_type": "code",
   "execution_count": null,
   "id": "d22cafe7",
   "metadata": {},
   "outputs": [],
   "source": [
    "adata.obs.columns = adata.obs.columns.map(lambda x:x.replace('.', ''))"
   ]
  },
  {
   "cell_type": "code",
   "execution_count": null,
   "id": "e9390e9c",
   "metadata": {},
   "outputs": [],
   "source": [
    "discrete_covriate_keys = [x.replace('.', '') for x in discrete_covriate_keys]"
   ]
  },
  {
   "cell_type": "code",
   "execution_count": null,
   "id": "ec12fd89",
   "metadata": {},
   "outputs": [],
   "source": [
    "adata.obs[discrete_covriate_keys] = adata.obs[discrete_covriate_keys].astype(str)"
   ]
  },
  {
   "cell_type": "code",
   "execution_count": null,
   "id": "93924e35",
   "metadata": {},
   "outputs": [],
   "source": [
    "train_adata = adata[adata.obs.split == 'train']\n",
    "validation_adata = adata[adata.obs.split == 'test']\n",
    "test_adata = adata[adata.obs.split == 'ood']"
   ]
  },
  {
   "cell_type": "markdown",
   "id": "3226f43d",
   "metadata": {},
   "source": [
    "### with cell types"
   ]
  },
  {
   "cell_type": "code",
   "execution_count": null,
   "id": "48fbb1fd",
   "metadata": {},
   "outputs": [],
   "source": [
    "model = DeepDive.DeepDive(adata = adata, \n",
    "                        discrete_covariate_names = discrete_covriate_keys,\n",
    "                        continuous_covariate_names = continuous_covriate_keys, \n",
    "                        **model_params\n",
    "                       )"
   ]
  },
  {
   "cell_type": "code",
   "execution_count": null,
   "id": "2d0bbdc1",
   "metadata": {},
   "outputs": [],
   "source": [
    "model.train_model(train_adata, validation_adata, \n",
    "                  **train_params)"
   ]
  },
  {
   "cell_type": "code",
   "execution_count": null,
   "id": "e002627d",
   "metadata": {},
   "outputs": [],
   "source": [
    "evaluate(test_adata, model, discrete_covriate_keys, continuous_covriate_keys, \n",
    "         ct_name = 'IterativeLSIClusters', dataset_name = 'Gestation_cerebral_cortex')"
   ]
  },
  {
   "cell_type": "code",
   "execution_count": null,
   "id": "2e419f99",
   "metadata": {},
   "outputs": [],
   "source": [
    "biolord.Biolord.setup_anndata(\n",
    "    adata,\n",
    "    ordered_attributes_keys=continuous_covriate_keys,\n",
    "    categorical_attributes_keys=discrete_covriate_keys,\n",
    ")\n",
    "\n",
    "model = biolord.Biolord(\n",
    "    adata=adata,\n",
    "    n_latent=128,\n",
    "    model_name=\"atac_poisson\",\n",
    "    module_params=module_params_bl,\n",
    "    split_key=\"split\",\n",
    ")"
   ]
  },
  {
   "cell_type": "code",
   "execution_count": null,
   "id": "fac46c38",
   "metadata": {},
   "outputs": [],
   "source": [
    "model.train(\n",
    "    max_epochs=100,\n",
    "    batch_size=512,\n",
    "    accelerator = 'gpu',\n",
    "    plan_kwargs=plan_kwargs_bl,\n",
    "    early_stopping=False,\n",
    "    early_stopping_patience=20,\n",
    "    check_val_every_n_epoch=10,\n",
    "    num_workers=1,\n",
    "    enable_checkpointing=False,\n",
    ")"
   ]
  },
  {
   "cell_type": "code",
   "execution_count": null,
   "id": "09d0bfae",
   "metadata": {},
   "outputs": [],
   "source": [
    "evaluate(test_adata, model, discrete_covriate_keys, continuous_covriate_keys, \n",
    "         ct_name = 'IterativeLSIClusters', dataset_name = 'Gestation_cerebral_cortex', model = 'Biolord')"
   ]
  },
  {
   "cell_type": "markdown",
   "id": "e45f591f",
   "metadata": {},
   "source": [
    "### Without cell types"
   ]
  },
  {
   "cell_type": "code",
   "execution_count": null,
   "id": "91fe18a0",
   "metadata": {},
   "outputs": [],
   "source": [
    "discrete_covriate_keys = ['SampleID', 'TissueID', 'SampleType', 'Batch', \n",
    "                         ]"
   ]
  },
  {
   "cell_type": "code",
   "execution_count": null,
   "id": "ccbf79e3",
   "metadata": {},
   "outputs": [],
   "source": [
    "model = DeepDive.DeepDive(adata = adata, \n",
    "                        discrete_covariate_names = discrete_covriate_keys,\n",
    "                        continuous_covariate_names = continuous_covriate_keys, \n",
    "                        **model_params\n",
    "                       )"
   ]
  },
  {
   "cell_type": "code",
   "execution_count": null,
   "id": "456cb507",
   "metadata": {},
   "outputs": [],
   "source": [
    "model.train_model(train_adata, validation_adata, \n",
    "                  **train_params)"
   ]
  },
  {
   "cell_type": "code",
   "execution_count": null,
   "id": "08e83273",
   "metadata": {},
   "outputs": [],
   "source": [
    "evaluate(test_adata, model, discrete_covriate_keys, continuous_covriate_keys, \n",
    "         ct_name = 'IterativeLSIClusters', dataset_name = 'Gestation_cerebral_cortex', benchmark_directory = '../Benchmark_models_no_ct')"
   ]
  },
  {
   "cell_type": "code",
   "execution_count": null,
   "id": "52143943",
   "metadata": {},
   "outputs": [],
   "source": [
    "biolord.Biolord.setup_anndata(\n",
    "    adata,\n",
    "    ordered_attributes_keys=continuous_covriate_keys,\n",
    "    categorical_attributes_keys=discrete_covriate_keys,\n",
    ")\n",
    "\n",
    "model = biolord.Biolord(\n",
    "    adata=adata,\n",
    "    n_latent=128,\n",
    "    model_name=\"atac_poisson\",\n",
    "    module_params=module_params_bl,\n",
    "    split_key=\"split\",\n",
    ")"
   ]
  },
  {
   "cell_type": "code",
   "execution_count": null,
   "id": "278402e4",
   "metadata": {},
   "outputs": [],
   "source": [
    "model.train(\n",
    "    max_epochs=100,\n",
    "    batch_size=512,\n",
    "    accelerator = 'gpu',\n",
    "    plan_kwargs=plan_kwargs_bl,\n",
    "    early_stopping=False,\n",
    "    early_stopping_patience=20,\n",
    "    check_val_every_n_epoch=10,\n",
    "    num_workers=1,\n",
    "    enable_checkpointing=False,\n",
    ")"
   ]
  },
  {
   "cell_type": "code",
   "execution_count": null,
   "id": "7fc51722",
   "metadata": {},
   "outputs": [],
   "source": [
    "evaluate(test_adata, model, discrete_covriate_keys, continuous_covriate_keys, \n",
    "         ct_name = 'IterativeLSIClusters', dataset_name = 'Gestation_cerebral_cortex', \n",
    "         model = 'Biolord', benchmark_directory = '../Benchmark_models_no_ct')"
   ]
  },
  {
   "cell_type": "code",
   "execution_count": null,
   "id": "f5e5163d",
   "metadata": {},
   "outputs": [],
   "source": []
  },
  {
   "cell_type": "markdown",
   "id": "4d8733b8",
   "metadata": {},
   "source": [
    "### Kidney"
   ]
  },
  {
   "cell_type": "code",
   "execution_count": null,
   "id": "7956962b",
   "metadata": {},
   "outputs": [],
   "source": [
    "adata = sc.read_h5ad(\"../../Processed_benchmark_datasets/Kidney.h5ad\")"
   ]
  },
  {
   "cell_type": "code",
   "execution_count": null,
   "id": "9c9dd228",
   "metadata": {},
   "outputs": [],
   "source": [
    "discrete_covriate_keys = ['sample', 'celltype', 'gender', 'race']\n",
    "continuous_covriate_keys = ['egfr', 'age']"
   ]
  },
  {
   "cell_type": "code",
   "execution_count": null,
   "id": "036fb246",
   "metadata": {},
   "outputs": [],
   "source": [
    "train_adata = adata[adata.obs.split == 'train']\n",
    "validation_adata = adata[adata.obs.split == 'test']\n",
    "test_adata = adata[adata.obs.split == 'ood']\n"
   ]
  },
  {
   "cell_type": "markdown",
   "id": "f7f1a10f",
   "metadata": {},
   "source": [
    "### with cell types"
   ]
  },
  {
   "cell_type": "code",
   "execution_count": null,
   "id": "0b1accbe",
   "metadata": {},
   "outputs": [],
   "source": [
    "model = DeepDive.DeepDive(adata = adata, \n",
    "                        discrete_covariate_names = discrete_covriate_keys,\n",
    "                        continuous_covariate_names = continuous_covriate_keys, \n",
    "                        **model_params\n",
    "                       )"
   ]
  },
  {
   "cell_type": "code",
   "execution_count": null,
   "id": "fae34292",
   "metadata": {},
   "outputs": [],
   "source": [
    "model.train_model(train_adata, validation_adata, \n",
    "                  **train_params)"
   ]
  },
  {
   "cell_type": "code",
   "execution_count": null,
   "id": "c392b819",
   "metadata": {},
   "outputs": [],
   "source": [
    "evaluate(test_adata, model, discrete_covriate_keys, continuous_covriate_keys, \n",
    "         ct_name = 'celltype', dataset_name = 'Kidney')"
   ]
  },
  {
   "cell_type": "code",
   "execution_count": null,
   "id": "2534dcaa",
   "metadata": {},
   "outputs": [],
   "source": [
    "biolord.Biolord.setup_anndata(\n",
    "    adata,\n",
    "    ordered_attributes_keys=continuous_covriate_keys,\n",
    "    categorical_attributes_keys=discrete_covriate_keys,\n",
    ")\n",
    "\n",
    "model = biolord.Biolord(\n",
    "    adata=adata,\n",
    "    n_latent=128,\n",
    "    model_name=\"atac_poisson\",\n",
    "    module_params=module_params_bl,\n",
    "    split_key=\"split\",\n",
    ")"
   ]
  },
  {
   "cell_type": "code",
   "execution_count": null,
   "id": "fb9ea6ac",
   "metadata": {},
   "outputs": [],
   "source": [
    "model.train(\n",
    "    max_epochs=100,\n",
    "    batch_size=512,\n",
    "    accelerator = 'gpu',\n",
    "    plan_kwargs=plan_kwargs_bl,\n",
    "    early_stopping=False,\n",
    "    early_stopping_patience=20,\n",
    "    check_val_every_n_epoch=10,\n",
    "    num_workers=1,\n",
    "    enable_checkpointing=False,\n",
    ")"
   ]
  },
  {
   "cell_type": "code",
   "execution_count": null,
   "id": "dfa0b2ff",
   "metadata": {},
   "outputs": [],
   "source": [
    "evaluate(test_adata, model, discrete_covriate_keys, continuous_covriate_keys, \n",
    "         ct_name = 'celltype', dataset_name = 'Kidney', model = 'Biolord')"
   ]
  },
  {
   "cell_type": "markdown",
   "id": "f3d8b83b",
   "metadata": {},
   "source": [
    "### Without cell types"
   ]
  },
  {
   "cell_type": "code",
   "execution_count": null,
   "id": "f9660b35",
   "metadata": {},
   "outputs": [],
   "source": [
    "discrete_covriate_keys = ['sample', 'gender', 'race']\n"
   ]
  },
  {
   "cell_type": "code",
   "execution_count": null,
   "id": "94932e93",
   "metadata": {},
   "outputs": [],
   "source": [
    "model = DeepDive.DeepDive(adata = adata, \n",
    "                        discrete_covariate_names = discrete_covriate_keys,\n",
    "                        continuous_covariate_names = continuous_covriate_keys, \n",
    "                        **model_params\n",
    "                       )"
   ]
  },
  {
   "cell_type": "code",
   "execution_count": null,
   "id": "b94b02f9",
   "metadata": {},
   "outputs": [],
   "source": [
    "model.train_model(train_adata, validation_adata, \n",
    "                  **train_params)"
   ]
  },
  {
   "cell_type": "code",
   "execution_count": null,
   "id": "12e8124d",
   "metadata": {},
   "outputs": [],
   "source": [
    "evaluate(test_adata, model, discrete_covriate_keys, continuous_covriate_keys, \n",
    "         ct_name = 'celltype', dataset_name = 'Kidney', benchmark_directory = '../Benchmark_models_no_ct')"
   ]
  },
  {
   "cell_type": "code",
   "execution_count": null,
   "id": "b7268145",
   "metadata": {},
   "outputs": [],
   "source": [
    "biolord.Biolord.setup_anndata(\n",
    "    adata,\n",
    "    ordered_attributes_keys=continuous_covriate_keys,\n",
    "    categorical_attributes_keys=discrete_covriate_keys,\n",
    ")\n",
    "\n",
    "model = biolord.Biolord(\n",
    "    adata=adata,\n",
    "    n_latent=128,\n",
    "    model_name=\"atac_poisson\",\n",
    "    module_params=module_params_bl,\n",
    "    split_key=\"split\",\n",
    ")"
   ]
  },
  {
   "cell_type": "code",
   "execution_count": null,
   "id": "55911758",
   "metadata": {},
   "outputs": [],
   "source": [
    "model.train(\n",
    "    max_epochs=100,\n",
    "    batch_size=512,\n",
    "    accelerator = 'gpu',\n",
    "    plan_kwargs=plan_kwargs_bl,\n",
    "    early_stopping=False,\n",
    "    early_stopping_patience=20,\n",
    "    check_val_every_n_epoch=10,\n",
    "    num_workers=1,\n",
    "    enable_checkpointing=False,\n",
    ")"
   ]
  },
  {
   "cell_type": "code",
   "execution_count": null,
   "id": "ea360734",
   "metadata": {},
   "outputs": [],
   "source": [
    "evaluate(test_adata, model, discrete_covriate_keys, continuous_covriate_keys, \n",
    "         ct_name = 'celltype', dataset_name = 'Kidney', \n",
    "         model = 'Biolord', benchmark_directory = '../Benchmark_models_no_ct')"
   ]
  },
  {
   "cell_type": "code",
   "execution_count": null,
   "id": "a956bc47",
   "metadata": {},
   "outputs": [],
   "source": []
  },
  {
   "cell_type": "markdown",
   "id": "f1832ef6",
   "metadata": {},
   "source": [
    "## Pancreas"
   ]
  },
  {
   "cell_type": "code",
   "execution_count": null,
   "id": "3bf39798",
   "metadata": {},
   "outputs": [],
   "source": [
    "adata = sc.read_h5ad(\"../../Processed_benchmark_datasets/Pancreas_ATAC.h5ad\")"
   ]
  },
  {
   "cell_type": "code",
   "execution_count": null,
   "id": "1996467e",
   "metadata": {},
   "outputs": [],
   "source": [
    "discrete_covriate_keys = ['donor', 'cell_type', \n",
    "                          'Diabetes status', 'Human islet resource center', 'Sex', 'Ethnicity', ' 10x multiome assay']\n",
    "continuous_covriate_keys = ['Islet index', 'Age', 'BMI', 'HbA1c', 'Purity']"
   ]
  },
  {
   "cell_type": "code",
   "execution_count": null,
   "id": "05090872",
   "metadata": {},
   "outputs": [],
   "source": [
    "train_adata = adata[adata.obs.split == 'train']\n",
    "validation_adata = adata[adata.obs.split == 'test']\n",
    "test_adata = adata[adata.obs.split == 'ood']\n"
   ]
  },
  {
   "cell_type": "markdown",
   "id": "86937fc4",
   "metadata": {},
   "source": [
    "### with cell types"
   ]
  },
  {
   "cell_type": "code",
   "execution_count": null,
   "id": "6d4b69af",
   "metadata": {},
   "outputs": [],
   "source": [
    "model = DeepDive.DeepDive(adata = adata, \n",
    "                        discrete_covariate_names = discrete_covriate_keys,\n",
    "                        continuous_covariate_names = continuous_covriate_keys, \n",
    "                        **model_params\n",
    "                       )"
   ]
  },
  {
   "cell_type": "code",
   "execution_count": null,
   "id": "686b529a",
   "metadata": {},
   "outputs": [],
   "source": [
    "model.train_model(train_adata, validation_adata, \n",
    "                  **train_params)"
   ]
  },
  {
   "cell_type": "code",
   "execution_count": null,
   "id": "c3e9e97b",
   "metadata": {},
   "outputs": [],
   "source": [
    "evaluate(test_adata, model, discrete_covriate_keys, continuous_covriate_keys, \n",
    "         ct_name = 'cell_type', dataset_name = 'Pancreas_ATAC')"
   ]
  },
  {
   "cell_type": "code",
   "execution_count": null,
   "id": "491bf976",
   "metadata": {},
   "outputs": [],
   "source": [
    "biolord.Biolord.setup_anndata(\n",
    "    adata,\n",
    "    ordered_attributes_keys=continuous_covriate_keys,\n",
    "    categorical_attributes_keys=discrete_covriate_keys,\n",
    ")\n",
    "\n",
    "model = biolord.Biolord(\n",
    "    adata=adata,\n",
    "    n_latent=128,\n",
    "    model_name=\"atac_poisson\",\n",
    "    module_params=module_params_bl,\n",
    "    split_key=\"split\",\n",
    ")"
   ]
  },
  {
   "cell_type": "code",
   "execution_count": null,
   "id": "273ffd66",
   "metadata": {},
   "outputs": [],
   "source": [
    "model.train(\n",
    "    max_epochs=100,\n",
    "    batch_size=512,\n",
    "    accelerator = 'gpu',\n",
    "    plan_kwargs=plan_kwargs_bl,\n",
    "    early_stopping=False,\n",
    "    early_stopping_patience=20,\n",
    "    check_val_every_n_epoch=10,\n",
    "    num_workers=1,\n",
    "    enable_checkpointing=False,\n",
    ")"
   ]
  },
  {
   "cell_type": "code",
   "execution_count": null,
   "id": "fb6ca2ad",
   "metadata": {},
   "outputs": [],
   "source": [
    "evaluate(test_adata, model, discrete_covriate_keys, continuous_covriate_keys, \n",
    "         ct_name = 'cell_type', dataset_name = 'Pancreas_ATAC', model = 'Biolord')"
   ]
  },
  {
   "cell_type": "markdown",
   "id": "1ef5516a",
   "metadata": {},
   "source": [
    "### Without cell types"
   ]
  },
  {
   "cell_type": "code",
   "execution_count": null,
   "id": "509eacf6",
   "metadata": {},
   "outputs": [],
   "source": [
    "discrete_covriate_keys = ['donor', 'Diabetes status', 'Human islet resource center', 'Sex', 'Ethnicity', ' 10x multiome assay']"
   ]
  },
  {
   "cell_type": "code",
   "execution_count": null,
   "id": "695c11bb",
   "metadata": {},
   "outputs": [],
   "source": [
    "model = DeepDive.DeepDive(adata = adata, \n",
    "                        discrete_covariate_names = discrete_covriate_keys,\n",
    "                        continuous_covariate_names = continuous_covriate_keys, \n",
    "                        **model_params\n",
    "                       )"
   ]
  },
  {
   "cell_type": "code",
   "execution_count": null,
   "id": "f2180f77",
   "metadata": {},
   "outputs": [],
   "source": [
    "model.train_model(train_adata, validation_adata, \n",
    "                  **train_params)"
   ]
  },
  {
   "cell_type": "code",
   "execution_count": null,
   "id": "af62ffe2",
   "metadata": {},
   "outputs": [],
   "source": [
    "evaluate(test_adata, model, discrete_covriate_keys, continuous_covriate_keys, \n",
    "         ct_name = 'cell_type', dataset_name = 'Pancreas_ATAC', benchmark_directory = '../Benchmark_models_no_ct')"
   ]
  },
  {
   "cell_type": "code",
   "execution_count": null,
   "id": "5d98ed61",
   "metadata": {},
   "outputs": [],
   "source": [
    "biolord.Biolord.setup_anndata(\n",
    "    adata,\n",
    "    ordered_attributes_keys=continuous_covriate_keys,\n",
    "    categorical_attributes_keys=discrete_covriate_keys,\n",
    ")\n",
    "\n",
    "model = biolord.Biolord(\n",
    "    adata=adata,\n",
    "    n_latent=128,\n",
    "    model_name=\"atac_poisson\",\n",
    "    module_params=module_params_bl,\n",
    "    split_key=\"split\",\n",
    ")"
   ]
  },
  {
   "cell_type": "code",
   "execution_count": null,
   "id": "c2b54e75",
   "metadata": {},
   "outputs": [],
   "source": [
    "model.train(\n",
    "    max_epochs=100,\n",
    "    batch_size=512,\n",
    "    accelerator = 'gpu',\n",
    "    plan_kwargs=plan_kwargs_bl,\n",
    "    early_stopping=False,\n",
    "    early_stopping_patience=20,\n",
    "    check_val_every_n_epoch=10,\n",
    "    num_workers=1,\n",
    "    enable_checkpointing=False,\n",
    ")"
   ]
  },
  {
   "cell_type": "code",
   "execution_count": null,
   "id": "233507e2",
   "metadata": {},
   "outputs": [],
   "source": [
    "evaluate(test_adata, model, discrete_covriate_keys, continuous_covriate_keys, \n",
    "         ct_name = 'cell_type', dataset_name = 'Pancreas_ATAC', \n",
    "         model = 'Biolord', benchmark_directory = '../Benchmark_models_no_ct')"
   ]
  },
  {
   "cell_type": "code",
   "execution_count": null,
   "id": "f97d01c6",
   "metadata": {},
   "outputs": [],
   "source": []
  },
  {
   "cell_type": "markdown",
   "id": "1971c693",
   "metadata": {},
   "source": [
    "### Plotting"
   ]
  },
  {
   "cell_type": "code",
   "execution_count": 121,
   "id": "99a2acce",
   "metadata": {},
   "outputs": [],
   "source": [
    "data = {\n",
    "    'Dataset_identifier': ['NeuroIPS', 'sciATAC3', 'Gestation_cerebral_cortex', 'Kidney', 'Pancreas_ATAC'],\n",
    "    'Cells': [69249, 720613, 31304, 27034, 218973],\n",
    "    'Features': [116490, 1050819, 657930, 195043, 557833],\n",
    "    'Filtered_features': [16134, 9746, 52685, 34948, 33248],\n",
    "    'Discrete_covariates': [\n",
    "        ['cell_type', 'batch', 'Site', 'DonorID', 'DonorBloodType', 'DonorRace', 'Ethnicity', 'DonorGender', 'DonorSmoker'],\n",
    "        ['donor_id', 'sex', 'batch', 'tissue', 'cell_type'],\n",
    "        ['Sample.ID', 'Age', 'Tissue.ID', 'Sample.Type', 'Batch', 'Iterative.LSI.Clusters'],\n",
    "        ['sample', 'celltype', 'age', 'gender', 'race'],\n",
    "        ['donor', 'cell_type', 'Diabetes status', 'Human islet resource center', 'Sex', 'Ethnicity', '10x multiome assay']\n",
    "    ],\n",
    "    'Continuous_covariates': [\n",
    "        ['DonorAge', 'DonorBMI'],\n",
    "        ['day_of_pregnancy'],\n",
    "        ['Age_int'],\n",
    "        ['egfr'],\n",
    "        ['Islet index', 'Age', 'BMI', 'HbA1c', 'Purity']\n",
    "    ],\n",
    "    'Donors': [10, 20, 13, 5, 34]\n",
    "}\n",
    "\n",
    "df_methods = pd.DataFrame(data)"
   ]
  },
  {
   "cell_type": "code",
   "execution_count": 122,
   "id": "90dce858",
   "metadata": {},
   "outputs": [],
   "source": [
    "root = '../data/'"
   ]
  },
  {
   "cell_type": "code",
   "execution_count": 123,
   "id": "7e1d4bde",
   "metadata": {},
   "outputs": [],
   "source": [
    "files = glob.glob('Benchmark_models*/*/*_*.txt', root_dir=root)"
   ]
  },
  {
   "cell_type": "code",
   "execution_count": 124,
   "id": "3a9bfefd",
   "metadata": {},
   "outputs": [],
   "source": [
    "aggr = []\n",
    "for f in files:\n",
    "    run_type = f.split('/')[0]\n",
    "    model = f.split('/')[1]\n",
    "    dataset = '_'.join(f.split('/')[-1].split('_')[:-1])\n",
    "    metric = f.split('/')[-1].split('_')[-1].split('.txt')[0]\n",
    "    \n",
    "    val = pd.read_csv(root+f, header = None).values#.item()\n",
    "\n",
    "    for v in val:\n",
    "        aggr.append([run_type, model, dataset, metric, v.item()])"
   ]
  },
  {
   "cell_type": "code",
   "execution_count": 125,
   "id": "e16bf622",
   "metadata": {},
   "outputs": [],
   "source": [
    "df = pd.DataFrame(aggr,columns = ['run_type', 'model', 'dataset', 'metric', 'score'])"
   ]
  },
  {
   "cell_type": "code",
   "execution_count": 126,
   "id": "80ce6af9",
   "metadata": {},
   "outputs": [],
   "source": [
    "df['n_cells'] = df.dataset.map(df_methods.Cells.to_dict())"
   ]
  },
  {
   "cell_type": "code",
   "execution_count": 127,
   "id": "b83bde6e",
   "metadata": {},
   "outputs": [],
   "source": [
    "def mapper(string):\n",
    "    name = '\\n'.join(string.split('_'))\n",
    "    name += \"\\n\"\n",
    "    name += str(df_methods.set_index('Dataset_identifier').Cells.to_dict()[string])\n",
    "    name += ' cells'\n",
    "    return name\n",
    "    \n",
    "df.dataset = [mapper(x) for x in df.dataset]"
   ]
  },
  {
   "cell_type": "code",
   "execution_count": 128,
   "id": "9fca5f14",
   "metadata": {},
   "outputs": [],
   "source": [
    "hue_order = ['biolord',\n",
    "             'deepdive'] \n"
   ]
  },
  {
   "cell_type": "code",
   "execution_count": 129,
   "id": "0596e6e8",
   "metadata": {},
   "outputs": [],
   "source": [
    "metrics = ['traditionalr2score']"
   ]
  },
  {
   "cell_type": "code",
   "execution_count": 130,
   "id": "7e2612f8",
   "metadata": {},
   "outputs": [],
   "source": [
    "df = df[df.metric.isin(metrics)]"
   ]
  },
  {
   "cell_type": "code",
   "execution_count": 131,
   "id": "752786c9",
   "metadata": {},
   "outputs": [],
   "source": [
    "df['hue'] = df.model + ':' + df.run_type"
   ]
  },
  {
   "cell_type": "code",
   "execution_count": 132,
   "id": "92aadb57",
   "metadata": {},
   "outputs": [],
   "source": [
    "hue_order = ['biolord:Benchmark_models','deepdive:Benchmark_models', 'biolord:Benchmark_models_no_ct',\n",
    "       'deepdive:Benchmark_models_no_ct', ]"
   ]
  },
  {
   "cell_type": "code",
   "execution_count": 137,
   "id": "638e466e",
   "metadata": {},
   "outputs": [
    {
     "data": {
      "image/png": "[encoded data removed]",
      "text/plain": [
       "<Figure size 800x500 with 1 Axes>"
      ]
     },
     "metadata": {},
     "output_type": "display_data"
    }
   ],
   "source": [
    "fig, ax = plt.subplots(len(metrics), 1, figsize = (8,5))\n",
    "for idx, i in enumerate(metrics):\n",
    "    df_sub = df[df.metric == i]\n",
    "    kwargs = {'alpha':1, \n",
    "              'linewidth':1, \n",
    "              'edgecolor':'k'}\n",
    "    sns.barplot(df_sub, \n",
    "                x = 'dataset', \n",
    "                y = 'score', \n",
    "                hue = 'hue', \n",
    "                hue_order = hue_order,\n",
    "                palette = 'Paired', \n",
    "                order = df.sort_values(['n_cells']).dataset.unique().tolist(),\n",
    "                estimator = 'mean',\n",
    "                ax = ax,\n",
    "                legend = True, # if idx == len(metrics) -1 else False,\n",
    "                **kwargs)\n",
    "\n",
    "    sns.stripplot(\n",
    "        df_sub,\n",
    "        x=\"dataset\", \n",
    "        y=\"score\", \n",
    "        hue=\"hue\", \n",
    "        hue_order = hue_order,\n",
    "        palette = ['k']*len(hue_order), \n",
    "        order = df.sort_values(['n_cells']).dataset.unique().tolist(),\n",
    "        dodge=True, alpha=0.0,size = 3, ax = ax,\n",
    "        legend = False\n",
    "    )\n",
    "\n",
    "    ax.set_ylabel(i)\n",
    "    ax.set_ylim([0,max(df_sub.score)*1.15])\n",
    "\n",
    "    ax.legend(loc=(1.04, 0.35))\n",
    "\n",
    "    for bars in ax.containers:\n",
    "        for p in ax.patches:\n",
    "            width = p.get_width()\n",
    "            height = p.get_height()\n",
    "            x, y = p.get_xy()\n",
    "            if isinstance(height, float):\n",
    "                ax.annotate(f'{float(height):.3}', \n",
    "                             (x + width/2, y + height*1.1), \n",
    "                             ha='center', rotation=90, fontsize = 7, fontweight = 'light')\n",
    "\n",
    "plt.tight_layout()\n",
    "plt.savefig('../figures/S3B.pdf', transparent = True)"
   ]
  },
  {
   "cell_type": "code",
   "execution_count": null,
   "id": "732cd20b",
   "metadata": {},
   "outputs": [],
   "source": []
  },
  {
   "cell_type": "code",
   "execution_count": null,
   "id": "5cd06186",
   "metadata": {},
   "outputs": [],
   "source": []
  },
  {
   "cell_type": "markdown",
   "id": "85873ab5",
   "metadata": {},
   "source": [
    "## Biolord w celltypes"
   ]
  },
  {
   "cell_type": "code",
   "execution_count": null,
   "id": "7de2e5eb",
   "metadata": {},
   "outputs": [],
   "source": [
    "adata = sc.read_h5ad(\"Pancreas_ATAC.h5ad\")"
   ]
  },
  {
   "cell_type": "code",
   "execution_count": null,
   "id": "eb834c2d",
   "metadata": {},
   "outputs": [],
   "source": [
    "discrete_covriate_keys = ['donor', 'cell_type', \n",
    "                          'Diabetes status', 'Human islet resource center', 'Sex', 'Ethnicity', ' 10x multiome assay']\n",
    "continuous_covriate_keys = ['Islet index', 'Age', 'BMI', 'HbA1c', 'Purity']"
   ]
  },
  {
   "cell_type": "code",
   "execution_count": null,
   "id": "12c221c2",
   "metadata": {},
   "outputs": [],
   "source": [
    "adata.obs.columns = adata.obs.columns.map(lambda x:x.replace('.', ''))"
   ]
  },
  {
   "cell_type": "code",
   "execution_count": null,
   "id": "c10e7f17",
   "metadata": {},
   "outputs": [],
   "source": [
    "discrete_covriate_keys = [x.replace('.', '') for x in discrete_covriate_keys]"
   ]
  },
  {
   "cell_type": "code",
   "execution_count": null,
   "id": "c09b95a2",
   "metadata": {},
   "outputs": [],
   "source": [
    "biolord.Biolord.setup_anndata(\n",
    "    adata,\n",
    "    ordered_attributes_keys=continuous_covriate_keys,\n",
    "    categorical_attributes_keys=discrete_covriate_keys,\n",
    ")\n",
    "\n",
    "model = biolord.Biolord(\n",
    "    adata=adata,\n",
    "    n_latent=128,\n",
    "    model_name=\"atac_poisson\",\n",
    "    module_params=module_params_bl,\n",
    "    split_key=\"split\",\n",
    ")"
   ]
  },
  {
   "cell_type": "code",
   "execution_count": null,
   "id": "61b4319d",
   "metadata": {},
   "outputs": [],
   "source": [
    "model_path = f'../Benchmark_models/biolord/Pancreas_ATAC.pt'\n"
   ]
  },
  {
   "cell_type": "code",
   "execution_count": null,
   "id": "2a94fea3",
   "metadata": {},
   "outputs": [],
   "source": [
    "model.module.load_state_dict(torch.load(model_path))"
   ]
  },
  {
   "cell_type": "code",
   "execution_count": null,
   "id": "5fbc21e6",
   "metadata": {},
   "outputs": [],
   "source": [
    "model.is_trained = True\n",
    "model.is_trained_ = True\n"
   ]
  },
  {
   "cell_type": "code",
   "execution_count": null,
   "id": "d63a1744",
   "metadata": {},
   "outputs": [],
   "source": [
    "z_basal, z = model.get_latent_representation_adata(adata, batch_size=256, )"
   ]
  },
  {
   "cell_type": "code",
   "execution_count": null,
   "id": "95cc968d",
   "metadata": {},
   "outputs": [],
   "source": [
    "sc.pp.neighbors(z_basal)\n",
    "sc.tl.umap(z_basal, min_dist = 0.2)"
   ]
  },
  {
   "cell_type": "code",
   "execution_count": null,
   "id": "5774e7ef",
   "metadata": {},
   "outputs": [],
   "source": [
    "discrete_covriate_keys = ['donor', 'cell_type', \n",
    "                          'Diabetes status', 'Human islet resource center', 'Sex', 'Ethnicity', ' 10x multiome assay']\n",
    "\n",
    "sc.set_figure_params(vector_friendly=True, dpi_save=300, transparent=True) \n",
    "sc.pl.umap(z_basal, color = discrete_covriate_keys, size = 1, save = 'S2C2.pdf')\n",
    "\n"
   ]
  },
  {
   "cell_type": "markdown",
   "id": "3aec0ba4",
   "metadata": {},
   "source": [
    "## Biolord wo celltype"
   ]
  },
  {
   "cell_type": "code",
   "execution_count": null,
   "id": "d44eb7b6",
   "metadata": {},
   "outputs": [],
   "source": [
    "discrete_covriate_keys = ['donor', \n",
    "                          'Diabetes status', 'Human islet resource center', 'Sex', 'Ethnicity', ' 10x multiome assay']\n",
    "continuous_covriate_keys = ['Islet index', 'Age', 'BMI', 'HbA1c', 'Purity']"
   ]
  },
  {
   "cell_type": "code",
   "execution_count": null,
   "id": "42b07a48",
   "metadata": {},
   "outputs": [],
   "source": [
    "adata.obs.columns = adata.obs.columns.map(lambda x:x.replace('.', ''))"
   ]
  },
  {
   "cell_type": "code",
   "execution_count": null,
   "id": "9f00309f",
   "metadata": {},
   "outputs": [],
   "source": [
    "discrete_covriate_keys = [x.replace('.', '') for x in discrete_covriate_keys]"
   ]
  },
  {
   "cell_type": "code",
   "execution_count": null,
   "id": "ee4964eb",
   "metadata": {},
   "outputs": [],
   "source": [
    "biolord.Biolord.setup_anndata(\n",
    "    adata,\n",
    "    ordered_attributes_keys=continuous_covriate_keys,\n",
    "    categorical_attributes_keys=discrete_covriate_keys,\n",
    ")\n",
    "\n",
    "model = biolord.Biolord(\n",
    "    adata=adata,\n",
    "    n_latent=128,\n",
    "    model_name=\"atac_poisson\",\n",
    "    module_params=module_params_bl,\n",
    "    split_key=\"split\",\n",
    ")"
   ]
  },
  {
   "cell_type": "code",
   "execution_count": null,
   "id": "4586a60a",
   "metadata": {},
   "outputs": [],
   "source": [
    "model_path = f'../Benchmark_models_no_ct/biolord/Pancreas_ATAC.pt'\n"
   ]
  },
  {
   "cell_type": "code",
   "execution_count": null,
   "id": "59610760",
   "metadata": {},
   "outputs": [],
   "source": [
    "model.module.load_state_dict(torch.load(model_path))"
   ]
  },
  {
   "cell_type": "code",
   "execution_count": null,
   "id": "5b57674f",
   "metadata": {},
   "outputs": [],
   "source": [
    "model.is_trained = True\n",
    "model.is_trained_ = True\n"
   ]
  },
  {
   "cell_type": "code",
   "execution_count": null,
   "id": "8953a3dc",
   "metadata": {},
   "outputs": [],
   "source": [
    "z_basal, z = model.get_latent_representation_adata(adata, batch_size=256, )"
   ]
  },
  {
   "cell_type": "code",
   "execution_count": null,
   "id": "663a8290",
   "metadata": {},
   "outputs": [],
   "source": [
    "sc.pp.neighbors(z_basal)\n",
    "sc.tl.umap(z_basal, min_dist = 0.2)"
   ]
  },
  {
   "cell_type": "code",
   "execution_count": null,
   "id": "9089b510",
   "metadata": {},
   "outputs": [],
   "source": [
    "discrete_covriate_keys = ['donor', 'cell_type', \n",
    "                          'Diabetes status', 'Human islet resource center', 'Sex', 'Ethnicity', ' 10x multiome assay']\n",
    "\n",
    "sc.set_figure_params(vector_friendly=True, dpi_save=300, transparent=True) \n",
    "sc.pl.umap(z_basal, color = discrete_covriate_keys, size = 1, save = 'S2C1.pdf')\n",
    "\n"
   ]
  },
  {
   "cell_type": "markdown",
   "id": "b8bcd46d",
   "metadata": {},
   "source": [
    "## DeepDive w celltypes"
   ]
  },
  {
   "cell_type": "code",
   "execution_count": null,
   "id": "eb430f0d",
   "metadata": {},
   "outputs": [],
   "source": [
    "discrete_covriate_keys = ['donor', 'cell_type', \n",
    "                          'Diabetes status', 'Human islet resource center', 'Sex', 'Ethnicity', ' 10x multiome assay']\n",
    "continuous_covriate_keys = ['Islet index', 'Age', 'BMI', 'HbA1c', 'Purity']"
   ]
  },
  {
   "cell_type": "code",
   "execution_count": null,
   "id": "a8fd740a",
   "metadata": {},
   "outputs": [],
   "source": [
    "adata.obs.columns = adata.obs.columns.map(lambda x:x.replace('.', ''))"
   ]
  },
  {
   "cell_type": "code",
   "execution_count": null,
   "id": "f4cc65d8",
   "metadata": {},
   "outputs": [],
   "source": [
    "discrete_covriate_keys = [x.replace('.', '') for x in discrete_covriate_keys]"
   ]
  },
  {
   "cell_type": "code",
   "execution_count": null,
   "id": "2d44e89f",
   "metadata": {},
   "outputs": [],
   "source": [
    "\n",
    "model = DeepDive.DeepDive(adata = adata, \n",
    "                        discrete_covariate_names = discrete_covriate_keys,\n",
    "                        continuous_covariate_names = continuous_covriate_keys, \n",
    "                        **model_params\n",
    "                  \n",
    "                       )"
   ]
  },
  {
   "cell_type": "code",
   "execution_count": null,
   "id": "2df2475a",
   "metadata": {},
   "outputs": [],
   "source": [
    "model_path = f'../Benchmark_models/deepdive/Pancreas_ATAC.pt'\n"
   ]
  },
  {
   "cell_type": "code",
   "execution_count": null,
   "id": "3a833d8b",
   "metadata": {},
   "outputs": [],
   "source": [
    "model.load_state_dict(torch.load(model_path))"
   ]
  },
  {
   "cell_type": "code",
   "execution_count": null,
   "id": "67770dc9",
   "metadata": {},
   "outputs": [],
   "source": [
    "set_dropout(model)"
   ]
  },
  {
   "cell_type": "code",
   "execution_count": null,
   "id": "ed470dca",
   "metadata": {},
   "outputs": [],
   "source": [
    "z = model.get_latent(\n",
    "        adata,\n",
    "        covars_to_add=[],\n",
    "        batch_size=256,\n",
    "        num_workers=10,\n",
    "        add_unknown = True,\n",
    "        use_decoder = 'all',\n",
    "    )"
   ]
  },
  {
   "cell_type": "code",
   "execution_count": null,
   "id": "6820b3d9",
   "metadata": {},
   "outputs": [],
   "source": [
    "sc.pp.neighbors(z)\n",
    "sc.tl.umap(z, min_dist = 0.2)"
   ]
  },
  {
   "cell_type": "code",
   "execution_count": null,
   "id": "5461d17d",
   "metadata": {},
   "outputs": [],
   "source": [
    "discrete_covriate_keys = ['donor', 'cell_type', \n",
    "                          'Diabetes status', 'Human islet resource center', 'Sex', 'Ethnicity', ' 10x multiome assay']\n",
    "\n",
    "sc.set_figure_params(vector_friendly=True, dpi_save=300, transparent=True) \n",
    "sc.pl.umap(z, color = discrete_covriate_keys, size = 1, save = 'S2C4.pdf')\n",
    "\n"
   ]
  },
  {
   "cell_type": "markdown",
   "id": "a1a63618",
   "metadata": {},
   "source": [
    "## DeepDive wo celltypes"
   ]
  },
  {
   "cell_type": "code",
   "execution_count": null,
   "id": "751e2410",
   "metadata": {},
   "outputs": [],
   "source": [
    "discrete_covriate_keys = ['donor', \n",
    "                          'Diabetes status', 'Human islet resource center', 'Sex', 'Ethnicity', ' 10x multiome assay']\n",
    "continuous_covriate_keys = ['Islet index', 'Age', 'BMI', 'HbA1c', 'Purity']"
   ]
  },
  {
   "cell_type": "code",
   "execution_count": null,
   "id": "91c978d9",
   "metadata": {},
   "outputs": [],
   "source": [
    "adata.obs.columns = adata.obs.columns.map(lambda x:x.replace('.', ''))"
   ]
  },
  {
   "cell_type": "code",
   "execution_count": null,
   "id": "72e547a8",
   "metadata": {},
   "outputs": [],
   "source": [
    "discrete_covriate_keys = [x.replace('.', '') for x in discrete_covriate_keys]"
   ]
  },
  {
   "cell_type": "code",
   "execution_count": null,
   "id": "3cda1a5c",
   "metadata": {},
   "outputs": [],
   "source": [
    "\n",
    "model = DeepDive.DeepDive(adata = adata, \n",
    "\n",
    "                        discrete_covariate_names = discrete_covriate_keys,\n",
    "                        continuous_covariate_names = continuous_covriate_keys, \n",
    "                          #n_decoders = 5,\n",
    "\n",
    "                        **model_params\n",
    "                  \n",
    "                       )"
   ]
  },
  {
   "cell_type": "code",
   "execution_count": null,
   "id": "a23a0c9c",
   "metadata": {},
   "outputs": [],
   "source": [
    "model_path = f'../../Benchmark_models_no_ct/deepdive/Pancreas_ATAC.pt'\n"
   ]
  },
  {
   "cell_type": "code",
   "execution_count": null,
   "id": "5122dc29",
   "metadata": {},
   "outputs": [],
   "source": [
    "model.load_state_dict(torch.load(model_path))"
   ]
  },
  {
   "cell_type": "code",
   "execution_count": null,
   "id": "864d7e2c",
   "metadata": {},
   "outputs": [],
   "source": [
    "set_dropout(model)"
   ]
  },
  {
   "cell_type": "code",
   "execution_count": null,
   "id": "61d2193a",
   "metadata": {},
   "outputs": [],
   "source": [
    "z = model.get_latent(\n",
    "        adata,\n",
    "        covars_to_add=[],\n",
    "        batch_size=256,\n",
    "        num_workers=10,\n",
    "        add_unknown = True,\n",
    "        use_decoder = 'all',\n",
    "    )"
   ]
  },
  {
   "cell_type": "code",
   "execution_count": null,
   "id": "a97d9f3f",
   "metadata": {},
   "outputs": [],
   "source": [
    "sc.pp.neighbors(z)\n",
    "sc.tl.umap(z, min_dist = 0.2)"
   ]
  },
  {
   "cell_type": "code",
   "execution_count": null,
   "id": "6e768c16",
   "metadata": {},
   "outputs": [],
   "source": [
    "discrete_covriate_keys = ['donor', 'cell_type', \n",
    "                          'Diabetes status', 'Human islet resource center', 'Sex', 'Ethnicity', ' 10x multiome assay']\n",
    "\n",
    "sc.set_figure_params(vector_friendly=True, dpi_save=300, transparent=True) \n",
    "sc.pl.umap(z, color = discrete_covriate_keys, size = 1, save = 'S2C4.pdf')\n",
    "\n"
   ]
  },
  {
   "cell_type": "code",
   "execution_count": null,
   "id": "17e0afcb",
   "metadata": {},
   "outputs": [],
   "source": []
  },
  {
   "cell_type": "code",
   "execution_count": null,
   "id": "220e9620",
   "metadata": {},
   "outputs": [],
   "source": []
  }
 ],
 "metadata": {
  "kernelspec": {
   "display_name": "Python 3 (ipykernel)",
   "language": "python",
   "name": "python3"
  },
  "language_info": {
   "codemirror_mode": {
    "name": "ipython",
    "version": 3
   },
   "file_extension": ".py",
   "mimetype": "text/x-python",
   "name": "python",
   "nbconvert_exporter": "python",
   "pygments_lexer": "ipython3",
   "version": "3.10.12"
  }
 },
 "nbformat": 4,
 "nbformat_minor": 5
}
