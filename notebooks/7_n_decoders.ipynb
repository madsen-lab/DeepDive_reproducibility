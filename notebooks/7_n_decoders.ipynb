{
 "cells": [
  {
   "cell_type": "markdown",
   "id": "06d25820",
   "metadata": {},
   "source": [
    "## Testing N decoders"
   ]
  },
  {
   "cell_type": "markdown",
   "id": "ec3d7eae",
   "metadata": {},
   "source": [
    "## Imports"
   ]
  },
  {
   "cell_type": "code",
   "execution_count": 1,
   "id": "6d845465",
   "metadata": {},
   "outputs": [],
   "source": [
    "import scanpy as sc\n",
    "import pandas as pd\n",
    "import numpy as np\n",
    "import glob\n",
    "import seaborn as sns\n",
    "import matplotlib.pyplot as plt\n",
    "import torch\n",
    "import torch.nn as nn\n",
    "from torch.distributions import Normal\n",
    "from typing import Optional, Callable, List\n",
    "from collections import OrderedDict\n",
    "\n",
    "import numpy as np\n",
    "import scipy\n",
    "from sklearn.preprocessing import OneHotEncoder\n",
    "import torch\n",
    "\n",
    "import json\n",
    "import time\n",
    "from collections import defaultdict\n",
    "import numpy as np\n",
    "from tqdm import tqdm\n",
    "from sklearn.metrics import precision_recall_curve, average_precision_score\n",
    "\n",
    "import torch\n",
    "from torch import nn\n",
    "from torch.distributions.kl import kl_divergence as kl\n",
    "from torch.distributions import Normal, Poisson\n",
    "import torch.nn.functional as F\n",
    "import DeepDive"
   ]
  },
  {
   "cell_type": "code",
   "execution_count": 2,
   "id": "de96fcc8",
   "metadata": {},
   "outputs": [],
   "source": [
    "import sys\n",
    "sys.path.insert(0, \"../utils\")\n",
    "from utils import preprocess, get_colormap_colors\n",
    "from downsampled import sample_w_cramer, calc_de\n",
    "from simulation import compare_groups, get_model_DE, get_DE"
   ]
  },
  {
   "cell_type": "code",
   "execution_count": null,
   "id": "31f6a694",
   "metadata": {},
   "outputs": [],
   "source": []
  },
  {
   "cell_type": "markdown",
   "id": "eb5c8fd6",
   "metadata": {},
   "source": [
    "# Simulated data"
   ]
  },
  {
   "cell_type": "code",
   "execution_count": 3,
   "id": "3a2fad98",
   "metadata": {},
   "outputs": [],
   "source": [
    "model_params = {\n",
    "}\n",
    "\n",
    "train_params = {\n",
    "    'batch_size' : 512, \n",
    "}"
   ]
  },
  {
   "cell_type": "code",
   "execution_count": 4,
   "id": "9e4df545",
   "metadata": {},
   "outputs": [],
   "source": [
    "discrete_covriate_keys = ['Uppercase', 'Lowercase']"
   ]
  },
  {
   "cell_type": "code",
   "execution_count": 5,
   "id": "8989e058",
   "metadata": {},
   "outputs": [],
   "source": [
    "n_cells = 5000\n",
    "n_features = 5000\n",
    "covariates = {\n",
    "    \"Uppercase\": [\"A\", \"B\"],\n",
    "    \"Lowercase\": [\"a\", \"b\"],\n",
    "}\n",
    "steps = np.arange(0.0, 1.05, 0.1)"
   ]
  },
  {
   "cell_type": "raw",
   "id": "1040e6fd",
   "metadata": {},
   "source": [
    "n_decoders = [1, 5, 20]\n",
    "n_runs = 3\n",
    "\n",
    "for run in range(n_runs):\n",
    "    for idx, i in enumerate(steps):\n",
    "        dependency_matrix = generate_dependency_matrix(2,2,i)\n",
    "\n",
    "        simulation_result = simulate_scATAC_seq_data(\n",
    "            n_cells, \n",
    "            n_features, \n",
    "            covariates=covariates,\n",
    "            max_effect_sizes=[0.7, 0.7],\n",
    "            sample_feature_p=[0.10, 0.10],\n",
    "            dependency=dependency_matrix\n",
    "        )\n",
    "\n",
    "        # Access the fragment count matrix and covariate assignments\n",
    "        fragment_counts = simulation_result[\"data\"]\n",
    "        covariate_assignments = simulation_result[\"covariate_assignments\"]\n",
    "        pivot = simulation_result[\"pivot\"]\n",
    "        effect_sizes = simulation_result[\"effect_sizes\"]\n",
    "\n",
    "        adata = anndata.AnnData(fragment_counts)\n",
    "        adata.X = sparse.csr_matrix(adata.X) \n",
    "        adata.obs = covariate_assignments\n",
    "        adata.obs[discrete_covriate_keys] = adata.obs[discrete_covriate_keys].astype(str)\n",
    "        adata.write_h5ad(f'Simulated/simulated_{run}_{idx}_{i}.h5ad')\n",
    "\n",
    "        import pickle \n",
    "\n",
    "        with open(f'Simulated/effectsize_{run}_{idx}_{i}.pkl', 'wb') as f:\n",
    "            pickle.dump(effect_sizes, f)\n",
    "\n",
    "        with open(f'Simulated/pivot_{run}_{idx}_{i}.pkl', 'wb') as f:\n",
    "            pickle.dump(pivot, f)\n",
    "        \n",
    "        for d in n_decoders:\n",
    "            model = DeepDive.DeepDive(adata = adata, \n",
    "                                discrete_covariate_names = discrete_covriate_keys,\n",
    "                                      n_epochs_pretrain_ae = 200*d,\n",
    "                                      n_decoders = d,\n",
    "                                **model_params,\n",
    "\n",
    "                               )\n",
    "            model.train_model(adata, None, max_epoch = 300*d,\n",
    "                          **train_params)\n",
    "\n",
    "            model_path = f'Simulated/DeepDIVE_{run}_{idx}_{i}_{d}.pt'\n",
    "            torch.save(model.state_dict(), model_path)\n",
    "            model.load_state_dict(torch.load(model_path))\n",
    "            \n",
    "            \n",
    "\n",
    "            observed = get_DE(adata.copy(), effect_sizes)\n",
    "\n",
    "            DE, DE_low = get_model_DE(model, adata)\n",
    "\n",
    "            observed['Difference'] = DE['Difference'].values\n",
    "            observed['Zscore'] = DE['Zscore'].values\n",
    "            observed['FDR'] = DE['FDR'].values\n",
    "            observed['Pvalue'] = DE['Pvalue'].values\n",
    "            observed['Difference_low'] = DE_low['Difference'].values\n",
    "            observed['Zscore_low'] = DE_low['Zscore'].values\n",
    "            observed['FDR_low'] = DE_low['FDR'].values\n",
    "            observed['Pvalue_low'] = DE_low['Pvalue'].values\n",
    "\n",
    "            observed.to_csv(f'Simulated/output_{run}_{idx}_{i}_{d}.tsv', sep = '\\t')\n"
   ]
  },
  {
   "cell_type": "code",
   "execution_count": 6,
   "id": "c88f2277",
   "metadata": {},
   "outputs": [],
   "source": [
    "files = glob.glob(f'output_*.tsv', root_dir = '../data/Simulated_n_decoders')"
   ]
  },
  {
   "cell_type": "code",
   "execution_count": 7,
   "id": "a3c32f06",
   "metadata": {},
   "outputs": [
    {
     "name": "stdout",
     "output_type": "stream",
     "text": [
      "output_0_2_0.2_20.tsv\n",
      "output_2_1_0.1_5.tsv\n",
      "output_1_1_0.1_1.tsv\n",
      "output_2_5_0.5_20.tsv\n",
      "output_1_6_0.6000000000000001_5.tsv\n",
      "output_2_4_0.4_1.tsv\n",
      "output_0_9_0.9_5.tsv\n",
      "output_0_6_0.6000000000000001_5.tsv\n",
      "output_2_10_1.0_5.tsv\n",
      "output_1_4_0.4_20.tsv\n",
      "output_1_3_0.30000000000000004_20.tsv\n",
      "output_2_5_0.5_1.tsv\n",
      "output_1_8_0.8_5.tsv\n",
      "output_1_1_0.1_20.tsv\n",
      "output_1_5_0.5_5.tsv\n",
      "output_1_4_0.4_1.tsv\n",
      "output_2_3_0.30000000000000004_1.tsv\n",
      "output_2_0_0.0_5.tsv\n",
      "output_0_6_0.6000000000000001_1.tsv\n",
      "output_1_5_0.5_1.tsv\n",
      "output_1_0_0.0_20.tsv\n",
      "output_0_1_0.1_20.tsv\n",
      "output_2_8_0.8_20.tsv\n",
      "output_2_4_0.4_5.tsv\n",
      "output_0_2_0.2_1.tsv\n",
      "output_1_4_0.4_5.tsv\n",
      "output_2_7_0.7000000000000001_20.tsv\n",
      "output_2_6_0.6000000000000001_1.tsv\n",
      "output_1_7_0.7000000000000001_5.tsv\n",
      "output_1_9_0.9_5.tsv\n",
      "output_1_10_1.0_5.tsv\n",
      "output_0_6_0.6000000000000001_20.tsv\n",
      "output_0_1_0.1_1.tsv\n",
      "output_0_8_0.8_20.tsv\n",
      "output_0_7_0.7000000000000001_20.tsv\n",
      "output_0_10_1.0_20.tsv\n",
      "output_2_2_0.2_5.tsv\n",
      "output_2_3_0.30000000000000004_20.tsv\n",
      "output_2_2_0.2_1.tsv\n",
      "output_2_7_0.7000000000000001_1.tsv\n",
      "output_2_7_0.7000000000000001_5.tsv\n",
      "output_0_4_0.4_1.tsv\n",
      "output_2_2_0.2_20.tsv\n",
      "output_2_0_0.0_1.tsv\n",
      "output_2_0_0.0_20.tsv\n",
      "output_0_1_0.1_5.tsv\n",
      "output_2_3_0.30000000000000004_5.tsv\n",
      "output_0_4_0.4_5.tsv\n",
      "output_0_3_0.30000000000000004_20.tsv\n",
      "output_0_7_0.7000000000000001_5.tsv\n",
      "output_1_2_0.2_20.tsv\n",
      "output_1_10_1.0_20.tsv\n",
      "output_2_1_0.1_20.tsv\n",
      "output_0_0_0.0_1.tsv\n",
      "output_0_8_0.8_1.tsv\n",
      "output_1_7_0.7000000000000001_1.tsv\n",
      "output_0_9_0.9_1.tsv\n",
      "output_2_9_0.9_5.tsv\n",
      "output_0_8_0.8_5.tsv\n",
      "output_0_10_1.0_1.tsv\n",
      "output_0_10_1.0_5.tsv\n",
      "output_0_0_0.0_20.tsv\n",
      "output_0_5_0.5_5.tsv\n",
      "output_2_10_1.0_20.tsv\n",
      "output_1_6_0.6000000000000001_1.tsv\n",
      "output_1_3_0.30000000000000004_1.tsv\n",
      "output_0_3_0.30000000000000004_1.tsv\n",
      "output_2_8_0.8_1.tsv\n",
      "output_0_5_0.5_20.tsv\n",
      "output_1_9_0.9_20.tsv\n",
      "output_1_5_0.5_20.tsv\n",
      "output_2_8_0.8_5.tsv\n",
      "output_1_3_0.30000000000000004_5.tsv\n",
      "output_0_2_0.2_5.tsv\n",
      "output_1_9_0.9_1.tsv\n",
      "output_1_7_0.7000000000000001_20.tsv\n",
      "output_1_0_0.0_1.tsv\n",
      "output_0_7_0.7000000000000001_1.tsv\n",
      "output_2_6_0.6000000000000001_20.tsv\n",
      "output_0_9_0.9_20.tsv\n",
      "output_0_5_0.5_1.tsv\n",
      "output_1_8_0.8_1.tsv\n",
      "output_1_0_0.0_5.tsv\n",
      "output_2_1_0.1_1.tsv\n",
      "output_2_6_0.6000000000000001_5.tsv\n",
      "output_2_9_0.9_1.tsv\n",
      "output_1_10_1.0_1.tsv\n",
      "output_0_4_0.4_20.tsv\n",
      "output_2_9_0.9_20.tsv\n",
      "output_2_5_0.5_5.tsv\n",
      "output_2_10_1.0_1.tsv\n",
      "output_1_2_0.2_5.tsv\n",
      "output_2_4_0.4_20.tsv\n",
      "output_1_1_0.1_5.tsv\n",
      "output_0_0_0.0_5.tsv\n",
      "output_1_8_0.8_20.tsv\n",
      "output_1_2_0.2_1.tsv\n",
      "output_0_3_0.30000000000000004_5.tsv\n",
      "output_1_6_0.6000000000000001_20.tsv\n"
     ]
    }
   ],
   "source": [
    "entanglement = []\n",
    "indexes = []\n",
    "n_decoders = []\n",
    "\n",
    "average_precision_dd_p = []\n",
    "average_precision_lfc_p = []\n",
    "\n",
    "runs = []\n",
    "\n",
    "for f in files:\n",
    "    print(f)\n",
    "    _, run, idx, i, d = f.split('.tsv')[0].split('_')\n",
    "    \n",
    "\n",
    "\n",
    "    \n",
    "    i = float(i)\n",
    "    idx = int(idx)\n",
    "    run = int(run)\n",
    "    d = int(d)\n",
    "    runs.append(run)\n",
    "    indexes.append(idx)\n",
    "    entanglement.append(i)\n",
    "    n_decoders.append(d)\n",
    "    observed = pd.read_csv('../data/Simulated_n_decoders/'+f, sep = '\\t', index_col = 0)\n",
    "    \n",
    "    average_precision_dd_p.append(average_precision_score(abs(observed.Eff_up) > 0, -np.log10(observed.Pvalue + 1e-8)))\n",
    "    average_precision_lfc_p.append(average_precision_score(abs(observed.Eff_up) > 0, -np.log10(observed.A_p + 1e-8)))\n",
    "\n"
   ]
  },
  {
   "cell_type": "code",
   "execution_count": 8,
   "id": "9c6f11f8",
   "metadata": {},
   "outputs": [],
   "source": [
    "result = pd.concat([pd.Series(x) for x in [indexes, entanglement, runs, n_decoders, average_precision_lfc_p, average_precision_dd_p, ]],axis = 1)\n",
    "result.columns = ['idx', 'i', 'run', 'n_decoders', 'lfc_p', 'dd_p' ]\n",
    "result = result.sort_values('idx')"
   ]
  },
  {
   "cell_type": "code",
   "execution_count": 9,
   "id": "48e1c697",
   "metadata": {},
   "outputs": [
    {
     "data": {
      "image/png": "[encoded data removed]",
      "text/plain": [
       "<Figure size 200x200 with 1 Axes>"
      ]
     },
     "metadata": {},
     "output_type": "display_data"
    }
   ],
   "source": [
    "x = result[result.idx == 6]\n",
    "plt.subplots(figsize=(2,2))\n",
    "sns.barplot(x, x = 'n_decoders', y = 'dd_p', edgecolor = 'k', linewidth = 0.5\n",
    "           )\n",
    "plt.ylabel('Average precision')\n",
    "plt.xlabel('# Decoders')\n",
    "plt.savefig('../figures/S4B.pdf')"
   ]
  },
  {
   "cell_type": "code",
   "execution_count": null,
   "id": "7fbc7c29",
   "metadata": {},
   "outputs": [],
   "source": []
  },
  {
   "cell_type": "code",
   "execution_count": null,
   "id": "b9c687e1",
   "metadata": {},
   "outputs": [],
   "source": []
  },
  {
   "cell_type": "markdown",
   "id": "59f8d38d",
   "metadata": {},
   "source": [
    "# Real data"
   ]
  },
  {
   "cell_type": "markdown",
   "id": "b16a9575",
   "metadata": {},
   "source": [
    "## Setup data"
   ]
  },
  {
   "cell_type": "code",
   "execution_count": 10,
   "id": "2bace73d",
   "metadata": {},
   "outputs": [],
   "source": [
    "adata = sc.read_h5ad(\"../data/islet.h5ad\")"
   ]
  },
  {
   "cell_type": "code",
   "execution_count": 11,
   "id": "af93bf6f",
   "metadata": {},
   "outputs": [],
   "source": [
    "mapper = {0:'alpha',\n",
    "1:'beta', \n",
    "2:'beta', \n",
    "3:'beta', \n",
    "4:'alpha', \n",
    "5:'beta', \n",
    "6:'delta', \n",
    "7:'acinar', \n",
    "8:'alpha', \n",
    "9:'ductal', \n",
    "10:'gamma', \n",
    "11:'stellate', \n",
    "12:'immune', \n",
    "13:'endothelial',\n",
    "}\n",
    "adata.obs['celltype'] = adata.obs.leiden.map(mapper)"
   ]
  },
  {
   "cell_type": "code",
   "execution_count": 12,
   "id": "f5b6276b",
   "metadata": {},
   "outputs": [],
   "source": [
    "discrete_covriate_keys = ['donor', 'celltype', 'Disease', 'Gender']\n",
    "continuous_covriate_keys = ['Age', 'HbA1c', 'Purity', 'map_frac', 'BMI']"
   ]
  },
  {
   "cell_type": "code",
   "execution_count": 13,
   "id": "e6085239",
   "metadata": {},
   "outputs": [],
   "source": [
    "adata = adata[adata.obs.celltype == 'beta']"
   ]
  },
  {
   "cell_type": "code",
   "execution_count": 14,
   "id": "2aa5f6eb",
   "metadata": {},
   "outputs": [],
   "source": [
    "adata = preprocess(adata, discrete_covriate_keys, continuous_covriate_keys, frac = 0.1).copy()"
   ]
  },
  {
   "cell_type": "code",
   "execution_count": 15,
   "id": "b934ce4b",
   "metadata": {},
   "outputs": [],
   "source": [
    "data = adata.copy()"
   ]
  },
  {
   "cell_type": "markdown",
   "id": "84b760c1",
   "metadata": {},
   "source": [
    "## Make baseline with balanced covariates"
   ]
  },
  {
   "cell_type": "code",
   "execution_count": 16,
   "id": "808f030a",
   "metadata": {},
   "outputs": [],
   "source": [
    "data_sampled = sample_w_cramer(data, 40000, 0)"
   ]
  },
  {
   "cell_type": "code",
   "execution_count": 17,
   "id": "b3f800d7",
   "metadata": {},
   "outputs": [],
   "source": [
    "data_sampled.write_h5ad('../data/Real_n_decoders/baseline.h5ad')"
   ]
  },
  {
   "cell_type": "code",
   "execution_count": 18,
   "id": "e04b450a",
   "metadata": {},
   "outputs": [],
   "source": [
    "df_full_sex, df_full_d = calc_de(data_sampled)\n",
    "df_full_sex = df_full_sex.set_index('M_n')\n",
    "df_full_d = df_full_d.set_index('T2D_n')"
   ]
  },
  {
   "cell_type": "code",
   "execution_count": 19,
   "id": "df6c8bc9",
   "metadata": {},
   "outputs": [],
   "source": [
    "discrete_covriate_keys = ['Gender', 'Disease']\n"
   ]
  },
  {
   "cell_type": "raw",
   "id": "2fa12f58",
   "metadata": {},
   "source": [
    "steps = [0.6]\n",
    "    \n",
    "n_runs = 3\n",
    "\n",
    "model_params = {\n",
    "}\n",
    "\n",
    "train_params = {\n",
    "    'batch_size' : 512, \n",
    "}\n",
    "\n",
    "\n",
    "for run in range(n_runs):\n",
    "    for idx, i in enumerate(steps):\n",
    "\n",
    "        dataset_given_cramer = sample_w_cramer(data, 20_000, i).copy()\n",
    "        dataset_given_cramer.write_h5ad(f'../data/Real_n_decoders/downsampled_{run}_{i}.h5ad')    \n",
    "        \n",
    "        for ndecoders in [1, 5, 20]:\n",
    "            data_sampled_entangled = dataset_given_cramer.copy()\n",
    "            \n",
    "            model = DeepDive.DeepDive(adata = data_sampled_entangled, \n",
    "                        discrete_covariate_names = discrete_covriate_keys,\n",
    "                                       n_decoders= ndecoders,\n",
    "                                      n_epochs_pretrain_ae = 200*ndecoders,\n",
    "                        **model_params\n",
    "\n",
    "                       )\n",
    "            model.train_model(data_sampled_entangled, None, \n",
    "                              max_epoch = 300*ndecoders,\n",
    "                          **train_params)\n",
    "    \n",
    "            cramer = cramers_v(data_sampled_entangled.obs.Gender, data_sampled_entangled.obs.Disease)\n",
    "\n",
    "            df_entangled_sex, df_entangled_d = calc_de(data_sampled_entangled)\n",
    "            df_entangled_sex = df_entangled_sex.set_index('M_n')\n",
    "            df_entangled_d = df_entangled_d.set_index('T2D_n')\n",
    "            df_entangled_d['M_l'] = df_entangled_sex['M_l'][df_entangled_d.index]\n",
    "            df_entangled_d['M_p'] = df_entangled_sex['M_p'][df_entangled_d.index]\n",
    "            df_entangled_d['M_l_full'] = df_full_sex['M_l'][df_entangled_d.index]\n",
    "            df_entangled_d['M_p_full'] = df_full_sex['M_p'][df_entangled_d.index]\n",
    "            df_entangled_d['T2D_l_full'] = df_full_d['T2D_l'][df_entangled_d.index]\n",
    "            df_entangled_d['T2D_p_full'] = df_full_d['T2D_p'][df_entangled_d.index]\n",
    "\n",
    "            DE = compare_groups(model, adata=data_sampled_entangled, groupA=\"T2D\", groupB=\"Non\", \n",
    "                            covariate=\"Disease\", add_unknown=True, batch_size=256,\n",
    "                            exclude_covariates=None,fdr_method=\"fdr_bh\",num_workers=10)\n",
    "            DE = DE.set_index('Feature')\n",
    "            df_entangled_d['model_T2D'] = DE.Difference[df_entangled_d.index].copy()\n",
    "\n",
    "            DE = compare_groups(model, adata=data_sampled_entangled, groupA=\"M\", groupB=\"F\", \n",
    "                            covariate=\"Gender\", add_unknown=True, batch_size=256,\n",
    "                            exclude_covariates=None,fdr_method=\"fdr_bh\",num_workers=10)\n",
    "            DE = DE.set_index('Feature')\n",
    "            df_entangled_d['model_M'] = DE.Difference[df_entangled_d.index].copy()\n",
    "\n",
    "            df_entangled_d.to_csv(f'../data/Real_n_decoders/output_{run}_{i}_{ndecoders}.tsv', sep = '\\t')\n"
   ]
  },
  {
   "cell_type": "code",
   "execution_count": 20,
   "id": "7805b61a",
   "metadata": {},
   "outputs": [],
   "source": [
    "runs = []\n",
    "entanglement = []\n",
    "ndec = []\n",
    "average_precision_lfc = []\n",
    "average_precision_dd = []\n",
    "\n",
    "files = glob.glob('output*', root_dir='../data/Real_n_decoders')\n",
    "for f in files:\n",
    "    _, run, i, n = f.split('.tsv')[0].split('_')\n",
    "    try:\n",
    "        i = float(i)\n",
    "        n = int(n)\n",
    "        run = int(run)\n",
    "    except:\n",
    "        pass\n",
    "    \n",
    "    runs.append(run)\n",
    "    entanglement.append(i)\n",
    "    ndec.append(n)\n",
    "    \n",
    "    df_entangled_d = pd.read_csv('../data/Real_n_decoders/'+f, sep = '\\t', index_col = 0)\n",
    "    \n",
    "    df_entangled_d['M_l_full'] = df_full_sex['M_l'][df_entangled_d.index]\n",
    "    df_entangled_d['M_p_full'] = df_full_sex['M_p'][df_entangled_d.index]\n",
    "    df_entangled_d['T2D_l_full'] = df_full_d['T2D_l'][df_entangled_d.index]\n",
    "    df_entangled_d['T2D_p_full'] = df_full_d['T2D_p'][df_entangled_d.index]\n",
    "\n",
    "    average_precision_lfc.append(average_precision_score(df_entangled_d.M_p_full < 0.05, abs(df_entangled_d.M_l)))\n",
    "    average_precision_dd.append(average_precision_score(df_entangled_d.M_p_full < 0.05, abs(df_entangled_d.model_M)))\n"
   ]
  },
  {
   "cell_type": "code",
   "execution_count": 21,
   "id": "f23805e0",
   "metadata": {},
   "outputs": [],
   "source": [
    "result = pd.concat([pd.Series(x) for x in [entanglement, runs, ndec, \n",
    "                                           average_precision_lfc, average_precision_dd]],axis = 1)\n",
    "result.columns = ['entanglement', 'run', 'ndec', 'lfc', 'dd']"
   ]
  },
  {
   "cell_type": "code",
   "execution_count": 22,
   "id": "a37db692",
   "metadata": {},
   "outputs": [
    {
     "data": {
      "image/png": "[encoded data removed]",
      "text/plain": [
       "<Figure size 200x200 with 1 Axes>"
      ]
     },
     "metadata": {},
     "output_type": "display_data"
    }
   ],
   "source": [
    "plt.subplots(figsize=(2,2))\n",
    "sns.barplot(result, x = 'ndec', y = 'dd', edgecolor = 'k', linewidth = 0.5\n",
    "           )\n",
    "plt.ylabel('Average precision')\n",
    "plt.xlabel('# Decoders')\n",
    "plt.savefig('../figures/S4C.pdf')"
   ]
  },
  {
   "cell_type": "code",
   "execution_count": null,
   "id": "7f916961",
   "metadata": {},
   "outputs": [],
   "source": []
  },
  {
   "cell_type": "markdown",
   "id": "7cd255de",
   "metadata": {},
   "source": [
    "## Show the effect of entanglement on selected peaks"
   ]
  },
  {
   "cell_type": "code",
   "execution_count": 23,
   "id": "acb12c47",
   "metadata": {},
   "outputs": [],
   "source": [
    "test = sc.read_h5ad('../data/Real_n_decoders/downsampled_0_0.6.h5ad')"
   ]
  },
  {
   "cell_type": "code",
   "execution_count": 24,
   "id": "a4935faa",
   "metadata": {},
   "outputs": [],
   "source": [
    "valid = sc.read_h5ad('../data/Real_n_decoders/baseline.h5ad')"
   ]
  },
  {
   "cell_type": "code",
   "execution_count": 25,
   "id": "30422367",
   "metadata": {},
   "outputs": [],
   "source": [
    "sc.pp.normalize_total(test)\n",
    "sc.pp.log1p(test)\n",
    "\n",
    "sc.pp.normalize_total(valid)\n",
    "sc.pp.log1p(valid)"
   ]
  },
  {
   "cell_type": "code",
   "execution_count": 26,
   "id": "4d813814",
   "metadata": {},
   "outputs": [],
   "source": [
    "test_df = test.to_df()\n",
    "test_df['Sex'] = test.obs.Gender\n",
    "test_df['Disease'] = test.obs.Disease\n",
    "\n",
    "\n",
    "valid_df = valid.to_df()\n",
    "valid_df['Sex'] = valid.obs.Gender\n",
    "valid_df['Disease'] = valid.obs.Disease"
   ]
  },
  {
   "cell_type": "code",
   "execution_count": 27,
   "id": "87858c43",
   "metadata": {},
   "outputs": [],
   "source": [
    "select = '2:129038441-129038941'"
   ]
  },
  {
   "cell_type": "code",
   "execution_count": 28,
   "id": "540906b7",
   "metadata": {},
   "outputs": [],
   "source": [
    "test_df['to_plot'] = test_df[select].copy()\n",
    "valid_df['to_plot'] = valid_df[select].copy()"
   ]
  },
  {
   "cell_type": "code",
   "execution_count": 29,
   "id": "163e3d6d",
   "metadata": {},
   "outputs": [],
   "source": [
    "test_df_plot = test_df[['Sex', 'to_plot']]\n",
    "test_df_plot2 = test_df[['Disease', 'to_plot']]\n",
    "valid_df_plot = valid_df[['Sex', 'to_plot']]\n",
    "valid_df_plot2 = valid_df[['Disease', 'to_plot']]"
   ]
  },
  {
   "cell_type": "code",
   "execution_count": 30,
   "id": "fc0b3999",
   "metadata": {},
   "outputs": [],
   "source": [
    "test_df_plot = test_df_plot[test_df_plot.to_plot != 0]\n",
    "valid_df_plot = valid_df_plot[valid_df_plot.to_plot != 0]\n",
    "\n",
    "test_df_plot2 = test_df_plot2[test_df_plot2.to_plot != 0]\n",
    "valid_df_plot2 = valid_df_plot2[valid_df_plot2.to_plot != 0]"
   ]
  },
  {
   "cell_type": "code",
   "execution_count": 31,
   "id": "dba74bb4",
   "metadata": {},
   "outputs": [
    {
     "data": {
      "image/png": "[encoded data removed]",
      "text/plain": [
       "<Figure size 250x200 with 2 Axes>"
      ]
     },
     "metadata": {},
     "output_type": "display_data"
    }
   ],
   "source": [
    "fig, ax = plt.subplots(1, 2, figsize=(2.5,2))\n",
    "sns.boxplot(test_df_plot, x = 'Sex', y = 'to_plot', fliersize = 0, ax = ax[0])\n",
    "sns.boxplot(test_df_plot2, x = 'Disease', y = 'to_plot', fliersize = 0, ax = ax[0])\n",
    "sns.boxplot(valid_df_plot, x = 'Sex', y = 'to_plot', fliersize = False, ax = ax[1])\n",
    "sns.boxplot(valid_df_plot2, x = 'Disease', y = 'to_plot', fliersize = False, ax = ax[1])\n",
    "\n",
    "ax[0].set_ylim(0, 1.5)\n",
    "ax[1].set_ylim(0, 1.5)\n",
    "\n",
    "ax[0].set_title('Entangled')\n",
    "ax[1].set_title('Unentangled')\n",
    "\n",
    "ax[0].set_ylabel(f'{select} \\naccessibility')\n",
    "ax[1].set_ylabel('')\n",
    "\n",
    "plt.tight_layout()\n",
    "plt.savefig('../figures/S4F.pdf')\n"
   ]
  },
  {
   "cell_type": "code",
   "execution_count": null,
   "id": "6c60f39e",
   "metadata": {},
   "outputs": [],
   "source": []
  },
  {
   "cell_type": "code",
   "execution_count": null,
   "id": "8acac589",
   "metadata": {},
   "outputs": [],
   "source": []
  },
  {
   "cell_type": "code",
   "execution_count": null,
   "id": "94137bbe",
   "metadata": {},
   "outputs": [],
   "source": []
  }
 ],
 "metadata": {
  "kernelspec": {
   "display_name": "Python 3 (ipykernel)",
   "language": "python",
   "name": "python3"
  },
  "language_info": {
   "codemirror_mode": {
    "name": "ipython",
    "version": 3
   },
   "file_extension": ".py",
   "mimetype": "text/x-python",
   "name": "python",
   "nbconvert_exporter": "python",
   "pygments_lexer": "ipython3",
   "version": "3.10.12"
  }
 },
 "nbformat": 4,
 "nbformat_minor": 5
}
