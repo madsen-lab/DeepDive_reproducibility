{
 "cells": [
  {
   "cell_type": "markdown",
   "id": "02669400",
   "metadata": {},
   "source": [
    "# Disentangling obesity and diabetes in pancreatic islets "
   ]
  },
  {
   "cell_type": "code",
   "execution_count": 1,
   "id": "7773cd41",
   "metadata": {},
   "outputs": [],
   "source": [
    "import scanpy as sc\n",
    "import anndata as ad\n",
    "import DeepDive\n",
    "import seaborn as sns\n",
    "import numpy as np\n",
    "import scipy \n",
    "from statsmodels.stats.multitest import multipletests\n",
    "import matplotlib.pyplot as plt\n",
    "\n",
    "import torch\n",
    "import pandas as pd\n",
    "import xgboost as xgb\n",
    "from sklearn.model_selection import train_test_split\n",
    "from sklearn.metrics import cohen_kappa_score, average_precision_score, accuracy_score\n",
    "from memelite.io import read_meme\n",
    "from memelite.fimo import _fast_hits, _fast_convert, _all_pwm_to_mapping\n",
    "import pychromvar as pc\n",
    "import mygene\n",
    "from anndata import AnnData\n",
    "from statsmodels.stats.multitest import multipletests\n",
    "import gseapy as gp\n",
    "import statsmodels.formula.api as smf\n",
    "from statsmodels.tools.tools import add_constant\n",
    "from statsmodels.regression.linear_model import OLS\n",
    "from scipy.stats import pearsonr, spearmanr\n",
    "\n",
    "import os\n",
    "import glob"
   ]
  },
  {
   "cell_type": "code",
   "execution_count": 2,
   "id": "e9b90cd0",
   "metadata": {},
   "outputs": [],
   "source": [
    "import sys\n",
    "sys.path.insert(0, \"../utils\")"
   ]
  },
  {
   "cell_type": "code",
   "execution_count": 3,
   "id": "f3a1b98c",
   "metadata": {},
   "outputs": [],
   "source": [
    "from utils import preprocess, set_dropout\n",
    "from pancreas import covariate_importance, calculate_metric, compare_groups_de, compute_deviations, permutation_test, counterfactual_prediction"
   ]
  },
  {
   "cell_type": "markdown",
   "id": "2b98f413",
   "metadata": {},
   "source": [
    "## Load data and train DeepDive model"
   ]
  },
  {
   "cell_type": "code",
   "execution_count": 4,
   "id": "8ad70e36",
   "metadata": {},
   "outputs": [],
   "source": [
    "n_decoders = 10\n",
    "model_params = {\n",
    "    'n_epochs_pretrain_ae' : 200*n_decoders,\n",
    "    'n_decoders' : n_decoders,\n",
    "}\n",
    "\n",
    "train_params = {\n",
    "    'max_epoch' : 300*n_decoders, \n",
    "    'batch_size' : 512, \n",
    "}"
   ]
  },
  {
   "cell_type": "code",
   "execution_count": 5,
   "id": "33b7657b",
   "metadata": {},
   "outputs": [],
   "source": [
    "adata = sc.read_h5ad(\"../data/islet.h5ad\")"
   ]
  },
  {
   "cell_type": "code",
   "execution_count": 6,
   "id": "2708e122",
   "metadata": {},
   "outputs": [],
   "source": [
    "mapper = {0:'alpha',\n",
    "1:'beta', \n",
    "2:'beta', \n",
    "3:'beta', \n",
    "4:'alpha', \n",
    "5:'beta', \n",
    "6:'delta', \n",
    "7:'acinar', \n",
    "8:'alpha', \n",
    "9:'ductal', \n",
    "10:'gamma', \n",
    "11:'stellate', \n",
    "12:'immune', \n",
    "13:'endothelial',\n",
    "}\n",
    "adata.obs['celltype'] = adata.obs.leiden.map(mapper)"
   ]
  },
  {
   "cell_type": "code",
   "execution_count": 7,
   "id": "d519bd0a",
   "metadata": {},
   "outputs": [],
   "source": [
    "discrete_covriate_keys = ['donor', 'celltype', 'Center', 'Disease', 'Storage', 'Gender', 'Race']\n",
    "continuous_covriate_keys = ['Age', 'BMI', 'HbA1c', 'Purity', 'map_frac']"
   ]
  },
  {
   "cell_type": "code",
   "execution_count": 8,
   "id": "dc46be52",
   "metadata": {},
   "outputs": [],
   "source": [
    "adata = preprocess(adata, discrete_covriate_keys, continuous_covriate_keys, frac = 0.01).copy()"
   ]
  },
  {
   "cell_type": "code",
   "execution_count": 9,
   "id": "240d869e",
   "metadata": {},
   "outputs": [],
   "source": [
    "model = DeepDive.DeepDive(adata = adata, \n",
    "                        discrete_covariate_names = discrete_covriate_keys,\n",
    "                        continuous_covariate_names = continuous_covriate_keys, \n",
    "                        **model_params                \n",
    "                       )"
   ]
  },
  {
   "cell_type": "code",
   "execution_count": 10,
   "id": "892f8a11",
   "metadata": {},
   "outputs": [
    {
     "name": "stdout",
     "output_type": "stream",
     "text": [
      "Loaded model\n"
     ]
    }
   ],
   "source": [
    "model_path = f'../models/Pancreas/pancreas.pt'\n",
    "if not os.path.exists(model_path):\n",
    "    model.train_model(adata, None, **train_params)\n",
    "    torch.save(model.state_dict(), model_path)\n",
    "else:\n",
    "    model.load_state_dict(torch.load(model_path))\n",
    "    print(\"Loaded model\")"
   ]
  },
  {
   "cell_type": "code",
   "execution_count": 11,
   "id": "ac556752",
   "metadata": {},
   "outputs": [],
   "source": [
    "set_dropout(model)"
   ]
  },
  {
   "cell_type": "markdown",
   "id": "62d45278",
   "metadata": {},
   "source": [
    "## Covariate importance"
   ]
  },
  {
   "cell_type": "code",
   "execution_count": 12,
   "id": "88e92f6a",
   "metadata": {},
   "outputs": [],
   "source": [
    "res= covariate_importance(model, 'celltype')"
   ]
  },
  {
   "cell_type": "code",
   "execution_count": 13,
   "id": "7b83a412",
   "metadata": {},
   "outputs": [],
   "source": [
    "res = pd.DataFrame({i:res[i].set_index('Covariate')['Importance'] for i in model.data_register['covariate_names_unique']['celltype'][:-1]})"
   ]
  },
  {
   "cell_type": "code",
   "execution_count": 14,
   "id": "d255ce7a",
   "metadata": {},
   "outputs": [],
   "source": [
    "order = res.idxmax(axis = 1).sort_values().index\n",
    "colorder = ['alpha', 'beta','gamma', 'delta', 'acinar', 'ductal', 'endothelial','immune', 'stellate']"
   ]
  },
  {
   "cell_type": "code",
   "execution_count": 15,
   "id": "67405b7d",
   "metadata": {},
   "outputs": [
    {
     "data": {
      "image/png": "[encoded data removed]",
      "text/plain": [
       "<Figure size 300x150 with 2 Axes>"
      ]
     },
     "metadata": {},
     "output_type": "display_data"
    }
   ],
   "source": [
    "plt.subplots(figsize=(3, 1.5))\n",
    "sns.heatmap(res.loc[order, colorder], cmap = 'Reds', linecolor = 'k', linewidth = 0.5)\n",
    "plt.savefig('../figures/F2B.pdf')"
   ]
  },
  {
   "cell_type": "markdown",
   "id": "25334e4d",
   "metadata": {},
   "source": [
    "## Unknown variation"
   ]
  },
  {
   "cell_type": "code",
   "execution_count": 16,
   "id": "e28363cc",
   "metadata": {},
   "outputs": [],
   "source": [
    "basal = model.get_latent(adata, covars_to_add = [])"
   ]
  },
  {
   "cell_type": "code",
   "execution_count": null,
   "id": "7fa592ba",
   "metadata": {},
   "outputs": [
    {
     "name": "stderr",
     "output_type": "stream",
     "text": [
      "... storing 'celltype' as categorical\n"
     ]
    },
    {
     "name": "stdout",
     "output_type": "stream",
     "text": [
      "WARNING: saving figure to file figures/umapS5A.pdf\n"
     ]
    }
   ],
   "source": [
    "sc.pp.neighbors(basal, n_neighbors=15)\n",
    "sc.tl.umap(basal, )\n",
    "basal_subset = sc.pp.subsample(basal, n_obs = 50_000, copy = True)\n",
    "sc.pl.umap(basal_subset, color = ['celltype'], save = 'S5A', )\n"
   ]
  },
  {
   "cell_type": "markdown",
   "id": "17cc69d8",
   "metadata": {},
   "source": [
    "## Differentially accessible peaks"
   ]
  },
  {
   "cell_type": "code",
   "execution_count": 16,
   "id": "fc3707f8",
   "metadata": {},
   "outputs": [],
   "source": [
    "eps = 1e-8\n",
    "p_thresh = 0.01\n",
    "de_diff = 0.1"
   ]
  },
  {
   "cell_type": "code",
   "execution_count": 17,
   "id": "878d7c20",
   "metadata": {},
   "outputs": [],
   "source": [
    "background = {'celltype':'beta'}"
   ]
  },
  {
   "cell_type": "code",
   "execution_count": 18,
   "id": "c19f467e",
   "metadata": {},
   "outputs": [],
   "source": [
    "DE_diabetes = compare_groups_de(model, adata, covariate=\"Disease\", groupA=\"T2D\", groupB=\"Non\", background = background)\n",
    "DE_diabetes['Significant'] = (DE_diabetes.FDR <= p_thresh) & (np.abs(DE_diabetes.Difference) >= de_diff)"
   ]
  },
  {
   "cell_type": "code",
   "execution_count": 19,
   "id": "3f442774",
   "metadata": {},
   "outputs": [],
   "source": [
    "DE_BMI = compare_groups_de(model, adata, 'BMI', background = background)\n",
    "DE_BMI['Significant'] = (DE_BMI.FDR <= p_thresh) & (np.abs(DE_BMI.Difference) >= de_diff)"
   ]
  },
  {
   "cell_type": "code",
   "execution_count": 20,
   "id": "3dec44d5",
   "metadata": {},
   "outputs": [
    {
     "data": {
      "image/png": "[encoded data removed]",
      "text/plain": [
       "<Figure size 300x300 with 1 Axes>"
      ]
     },
     "metadata": {},
     "output_type": "display_data"
    }
   ],
   "source": [
    "plt.subplots(figsize=(3,3))\n",
    "sns.scatterplot(x = DE_BMI.Difference, y = DE_diabetes.Difference, hue = DE_BMI.Significant | DE_diabetes.Significant, edgecolor = 'k', palette = ['lightgrey', 'firebrick'], s = 10)\n",
    "plt.legend([])\n",
    "plt.ylim(-1.1, 1.1)\n",
    "plt.xlim(-0.5, 0.5)\n",
    "\n",
    "plt.xlabel('BMI (LFC)')\n",
    "plt.ylabel('T2D (LFC)')\n",
    "\n",
    "A = set(DE_BMI[DE_BMI.Significant].Feature.tolist())\n",
    "B = set(DE_diabetes[DE_diabetes.Significant].Feature.tolist())\n",
    "C = A.intersection(B)\n",
    "D = A.union(B)\n",
    "j = float(len(C))/float(len(D))\n",
    "plt.text(x = -0.45, y = 1-0.05, s = f'Jaccard = {round(j, 2)}')\n",
    "\n",
    "plt.savefig('../figures/S5B.pdf')"
   ]
  },
  {
   "cell_type": "markdown",
   "id": "d4bbbb8f",
   "metadata": {},
   "source": [
    "## Enrichment of GWAS variants"
   ]
  },
  {
   "cell_type": "code",
   "execution_count": 21,
   "id": "30f4972b",
   "metadata": {},
   "outputs": [],
   "source": [
    "df = pd.DataFrame([DE_BMI.Feature, DE_BMI.Significant, DE_diabetes.Significant], index = ['Feature', 'BMI', 'T2D']).T"
   ]
  },
  {
   "cell_type": "code",
   "execution_count": 22,
   "id": "46849fd0",
   "metadata": {},
   "outputs": [],
   "source": [
    "df['group'] = df[['BMI', 'T2D']].apply(lambda x: x.map(int)).idxmax(axis = 1)#colmax#.sum(axis = 1)"
   ]
  },
  {
   "cell_type": "code",
   "execution_count": 23,
   "id": "68190f8e",
   "metadata": {},
   "outputs": [],
   "source": [
    "df['Sum'] = df[['BMI', 'T2D']].apply(lambda x: x.map(int)).sum(axis = 1)"
   ]
  },
  {
   "cell_type": "code",
   "execution_count": 24,
   "id": "8314499e",
   "metadata": {},
   "outputs": [],
   "source": [
    "df.loc[df.Sum == 0, 'group'] = 'NS'\n",
    "df.loc[df.Sum == 2, 'group'] = 'Both'"
   ]
  },
  {
   "cell_type": "code",
   "execution_count": 25,
   "id": "02514f1a",
   "metadata": {},
   "outputs": [],
   "source": [
    "for i in df.group.unique():\n",
    "    tmp = df[df.group == i]\n",
    "    \n",
    "    #pd.DataFrame([split(x) for x in tmp.Feature]).to_csv(f'../results/GWAS_enrich/peaks/{i}.bed',sep = '\\t', \n",
    "    #                                                     header = None, index=False)"
   ]
  },
  {
   "cell_type": "code",
   "execution_count": 26,
   "id": "85d5e5b2",
   "metadata": {},
   "outputs": [],
   "source": [
    "# Run bash script: scripts/LDSC.sh "
   ]
  },
  {
   "cell_type": "code",
   "execution_count": 27,
   "id": "5147d08b",
   "metadata": {},
   "outputs": [],
   "source": [
    "# Define the path to results\n",
    "results_dir = \"../results/GWAS_enrich/results/\"\n",
    "result_files = glob.glob(os.path.join(results_dir, \"*.results\"))"
   ]
  },
  {
   "cell_type": "code",
   "execution_count": 28,
   "id": "83a97a7d",
   "metadata": {},
   "outputs": [],
   "source": [
    "map_label = {'group_BothL2_0':'Both', 'group_BMIL2_0':'BMI', 'group_T2DL2_0':'T2D', 'group_NSL2_0':'NS'}"
   ]
  },
  {
   "cell_type": "code",
   "execution_count": 29,
   "id": "39248c0b",
   "metadata": {},
   "outputs": [],
   "source": [
    "all_results = []\n",
    "\n",
    "for fname in result_files:\n",
    "    tmp_res = pd.read_csv(fname, sep=\"\\t\")\n",
    "    tmp_res['Category'] =tmp_res.Category.map(lambda x: x.replace('group_', '').replace('L2_0', ''))\n",
    "    \n",
    "    base = os.path.basename(fname)\n",
    "    underscore_idx = base.find('_')\n",
    "    dot_idx = base.find('.')\n",
    "    tmp_res[\"Trait\"] = base[underscore_idx + 1 : dot_idx]\n",
    "    all_results.append(tmp_res)\n",
    "\n",
    "res = pd.concat(all_results, ignore_index=True)\n",
    "\n",
    "res[\"Pval\"] = -np.log10(res[\"Enrichment_p\"])\n",
    "\n",
    "_, fdr_corrected, _, _ = multipletests(res[\"Enrichment_p\"], method='fdr_bh')\n",
    "res[\"FDR\"] = -np.log10(fdr_corrected)"
   ]
  },
  {
   "cell_type": "code",
   "execution_count": 30,
   "id": "f886ac60",
   "metadata": {},
   "outputs": [],
   "source": [
    "order = ['Both', 'BMI', 'T2D', 'NS']"
   ]
  },
  {
   "cell_type": "code",
   "execution_count": 31,
   "id": "9e63122b",
   "metadata": {},
   "outputs": [],
   "source": [
    "color = ['indianred','royalblue']"
   ]
  },
  {
   "cell_type": "code",
   "execution_count": 32,
   "id": "b08fb26b",
   "metadata": {},
   "outputs": [],
   "source": [
    "order = ['BMI', 'T2D']"
   ]
  },
  {
   "cell_type": "code",
   "execution_count": 33,
   "id": "16a15d68",
   "metadata": {},
   "outputs": [
    {
     "data": {
      "image/png": "[encoded data removed]",
      "text/plain": [
       "<Figure size 500x200 with 3 Axes>"
      ]
     },
     "metadata": {},
     "output_type": "display_data"
    }
   ],
   "source": [
    "trait = 'BMI'\n",
    "tmp = res[res.Trait == trait]\n",
    "fig, ax = plt.subplots(1, 3, figsize=(5,2))\n",
    "\n",
    "sns.barplot(tmp, x = 'Category', y = 'Enrichment', ax = ax[0], order = order, edgecolor = 'k', palette = color)\n",
    "ax[0].axhline(0, color='k', linewidth=0.5)\n",
    "ax[0].set_title(trait)\n",
    "\n",
    "trait = 'T2D'\n",
    "tmp = res[res.Trait == trait]\n",
    "\n",
    "sns.barplot(tmp, x = 'Category', y = 'Enrichment', ax = ax[1], order = order, edgecolor = 'k', palette = color)\n",
    "ax[1].axhline(0, color='k', linewidth=0.5)\n",
    "ax[1].set_title(trait)\n",
    "\n",
    "trait = 'Handedness'\n",
    "tmp = res[res.Trait == trait]\n",
    "\n",
    "sns.barplot(tmp, x = 'Category', y = 'Enrichment', ax = ax[2], order = order, edgecolor = 'k', palette = color)\n",
    "ax[2].axhline(0, color='k', linewidth=0.5)\n",
    "ax[2].set_title(trait)\n",
    "\n",
    "ax[0].set_xlabel('')\n",
    "ax[1].set_xlabel('DeepDive DA peaks')\n",
    "ax[2].set_xlabel('')\n",
    "\n",
    "plt.tight_layout()\n",
    "plt.savefig('../figures/S5C.pdf')"
   ]
  },
  {
   "cell_type": "markdown",
   "id": "1c94df6b",
   "metadata": {},
   "source": [
    "## Covariate effects on beta cell subtype proportions"
   ]
  },
  {
   "cell_type": "markdown",
   "id": "9633cf45",
   "metadata": {},
   "source": [
    "### Load subtype information"
   ]
  },
  {
   "cell_type": "code",
   "execution_count": 34,
   "id": "6cf407f2",
   "metadata": {},
   "outputs": [],
   "source": [
    "sub_meta = pd.read_csv('../data/Pancreas/AI_beta_subtype.csv', index_col = 2)"
   ]
  },
  {
   "cell_type": "code",
   "execution_count": 35,
   "id": "e91a38a2",
   "metadata": {},
   "outputs": [],
   "source": [
    "common_cells = adata.obs_names.intersection(sub_meta.index)\n",
    "adata_subset = adata[common_cells].copy()\n",
    "sub_meta_sorted = sub_meta.loc[adata_subset.obs_names]\n",
    "adata_subset.obs[\"subtype\"] = sub_meta_sorted[\"subtype\"].values"
   ]
  },
  {
   "cell_type": "markdown",
   "id": "c08cc212",
   "metadata": {},
   "source": [
    "### Reconstruct"
   ]
  },
  {
   "cell_type": "code",
   "execution_count": 36,
   "id": "c8660baa",
   "metadata": {},
   "outputs": [],
   "source": [
    "recon_original = model.predict(\n",
    "        adata_subset,\n",
    "        covars_to_add=['celltype', 'Disease', 'Gender', 'Race', 'Age', 'BMI', 'HbA1c'],\n",
    "        predict_mode='selected',\n",
    "        add_unknown=True,\n",
    "        library_size=10000,\n",
    "    )"
   ]
  },
  {
   "cell_type": "markdown",
   "id": "59789164",
   "metadata": {},
   "source": [
    "### Train classifier"
   ]
  },
  {
   "cell_type": "code",
   "execution_count": 37,
   "id": "4757b597",
   "metadata": {},
   "outputs": [
    {
     "name": "stdout",
     "output_type": "stream",
     "text": [
      "Loading trained model.\n"
     ]
    }
   ],
   "source": [
    "# XGBoost parameters\n",
    "max_depth = 3\n",
    "fraction = 0.05\n",
    "lr = 0.05\n",
    "min_child_weight = 2\n",
    "colsample_bytree = 0.1\n",
    "model_path = \"../models/Pancreas/xgb_model.json\"\n",
    "# Get datasets\n",
    "features = np.array(((adata_subset.X > 0).sum(axis = 0) / 90290) >= fraction)[0,:]\n",
    "X = np.array(recon_original.X)[:,features]\n",
    "y = (recon_original.obs['subtype'] == \"beta_2\").astype(int).to_numpy()\n",
    "X_train, X_test, y_train, y_test = train_test_split(X, y, test_size=0.1, random_state=42)\n",
    "X_train, X_eval, y_train, y_eval = train_test_split(X_train, y_train, test_size=0.1, random_state=42)\n",
    "\n",
    "# Make dataset object\n",
    "X_train = xgb.QuantileDMatrix(X_train, y_train, max_bin = 15)\n",
    "X_test = xgb.QuantileDMatrix(X_test, y_test, max_bin = 15, ref=X_train)\n",
    "X_eval = xgb.QuantileDMatrix(X_eval, y_eval, max_bin = 15, ref=X_train)\n",
    "\n",
    "if not os.path.exists(model_path):\n",
    "    # Set evals\n",
    "    evals = [(X_train, \"train\"), (X_eval, \"eval\")]\n",
    "    print('Train model')\n",
    "\n",
    "    # Define parameters\n",
    "    params = {\n",
    "        \"tree_method\": \"gpu_hist\",\n",
    "        \"predictor\": \"gpu_predictor\",\n",
    "        \"learning_rate\": lr,\n",
    "        \"min_child_weight\": min_child_weight,\n",
    "        \"max_depth\": max_depth,\n",
    "        \"colsample_bytree\": colsample_bytree,\n",
    "        \"objective\": \"binary:logistic\",\n",
    "        \"eval_metric\": \"logloss\",\n",
    "        \"max_bin\": 15\n",
    "    }\n",
    "\n",
    "\n",
    "    # Train model\n",
    "    bst = xgb.train(\n",
    "        params,\n",
    "        X_train,\n",
    "        num_boost_round=500,\n",
    "        evals=evals,\n",
    "        early_stopping_rounds=50,\n",
    "        verbose_eval=False\n",
    "    )\n",
    "\n",
    "    # Save model\n",
    "    bst.save_model(model_path)\n",
    "else:\n",
    "    print(\"Loading trained model.\")\n",
    "    bst = xgb.Booster()\n",
    "    bst.load_model(model_path)"
   ]
  },
  {
   "cell_type": "code",
   "execution_count": 38,
   "id": "3dc8c993",
   "metadata": {},
   "outputs": [],
   "source": [
    "# Predicts\n",
    "y_train_pred = bst.predict(X_train)\n",
    "y_eval_pred = bst.predict(X_eval)\n",
    "y_test_pred = bst.predict(X_test)\n",
    "\n",
    "# Make dictionary\n",
    "predictions = {\n",
    "    'Train': {'Truth': y_train, 'Prediction': y_train_pred},\n",
    "    'Eval': {'Truth': y_eval, 'Prediction': y_eval_pred},\n",
    "    'Test': {'Truth': y_test, 'Prediction': y_test_pred}\n",
    "}\n",
    "\n",
    "# Calculate metrics\n",
    "ds, met, score = [], [], []\n",
    "for dataset in predictions.keys():\n",
    "    for metric in ['Kappa', 'Accuracy','AP']:\n",
    "        score.append(calculate_metric(bst, predictions[dataset]['Truth'], predictions[dataset]['Prediction'], metric))\n",
    "        ds.append(dataset)\n",
    "        met.append(metric)\n",
    "        \n",
    "# Create pandas object\n",
    "results = pd.DataFrame({\n",
    "    'Dataset': ds,\n",
    "    'Metric': met,\n",
    "    'Score': score\n",
    "})"
   ]
  },
  {
   "cell_type": "code",
   "execution_count": 39,
   "id": "9f7766e6",
   "metadata": {},
   "outputs": [
    {
     "data": {
      "image/png": "[encoded data removed]",
      "text/plain": [
       "<Figure size 300x200 with 1 Axes>"
      ]
     },
     "metadata": {},
     "output_type": "display_data"
    }
   ],
   "source": [
    "fig, ax = plt.subplots(1, 1, figsize=(3, 2))\n",
    "kwargs = {'alpha':1, \n",
    "              'linewidth':0.5, \n",
    "              'edgecolor':'k'}\n",
    "colors = ['lightgray', 'blue', 'green']\n",
    "\n",
    "sns.barplot(y = 'Score', x = 'Metric', hue = 'Dataset', \n",
    "            palette = 'Blues', \n",
    "            data = results, **kwargs)\n",
    "plt.savefig('../figures/S5E.pdf')"
   ]
  },
  {
   "cell_type": "code",
   "execution_count": 40,
   "id": "59a93144",
   "metadata": {},
   "outputs": [],
   "source": [
    "X_dmat = xgb.QuantileDMatrix(X, max_bin = 15, ref=X_train)\n",
    "prediction = bst.predict(X_dmat)\n",
    "recon_original.obs['predicted_subtype'] = (prediction >= 0.5).astype(int)\n",
    "recon_original.obs['predicted_subtype'] = recon_original.obs['predicted_subtype'].map({0: 'beta_1', 1:'beta_2'})"
   ]
  },
  {
   "cell_type": "code",
   "execution_count": 41,
   "id": "548cd33c",
   "metadata": {},
   "outputs": [],
   "source": [
    "means = recon_original.obs.assign(authorBeta2 = (recon_original.obs['subtype'] == 'beta_2').astype(int)).assign(modelBeta2 = (recon_original.obs['predicted_subtype'] == 'beta_2').astype(int)).groupby(\"donor\").mean()"
   ]
  },
  {
   "cell_type": "code",
   "execution_count": 42,
   "id": "7fdaa625",
   "metadata": {},
   "outputs": [
    {
     "data": {
      "image/png": "[encoded data removed]",
      "text/plain": [
       "<Figure size 300x200 with 1 Axes>"
      ]
     },
     "metadata": {},
     "output_type": "display_data"
    }
   ],
   "source": [
    "fig, ax = plt.subplots(1, 1, figsize=(3, 2))\n",
    "author_df = means[['HbA1c', 'authorBeta2']]\n",
    "author_df = author_df.rename(columns = {'authorBeta2': 'Proportion'})\n",
    "author_df['Source'] = \"Author\"\n",
    "\n",
    "model_df = means[['HbA1c', 'modelBeta2']]\n",
    "model_df = model_df.rename(columns = {'modelBeta2': 'Proportion'})\n",
    "model_df['Source'] = \"Model\"\n",
    "\n",
    "combined = pd.concat((author_df, model_df))\n",
    "sns.scatterplot(data=combined, x=\"HbA1c\", y=\"Proportion\", \n",
    "                hue=\"Source\", edgecolor = 'k', linewidth = 0.5, s = 20)\n",
    "sns.regplot(data=author_df, x=\"HbA1c\", y=\"Proportion\", ci=95, \n",
    "            scatter=False, label=\"Author\", color=\"blue\")\n",
    "sns.regplot(data=model_df, x=\"HbA1c\", y=\"Proportion\", ci=95, \n",
    "            scatter=False, label=\"Model\", color=\"orange\")\n",
    "plt.ylim(0, 1)\n",
    "plt.savefig('../figures/S5F.pdf')"
   ]
  },
  {
   "cell_type": "code",
   "execution_count": null,
   "id": "1f802f88",
   "metadata": {},
   "outputs": [],
   "source": []
  },
  {
   "cell_type": "markdown",
   "id": "dcfad1a3",
   "metadata": {},
   "source": [
    "## Counterfactual prediction"
   ]
  },
  {
   "cell_type": "code",
   "execution_count": 43,
   "id": "017d2b5a",
   "metadata": {},
   "outputs": [],
   "source": [
    "# Define cells to include \n",
    "select_ND = (adata_subset.obs.celltype == 'beta') & (adata_subset.obs['Disease'] == 'Non' )\n",
    "select_T2D = (adata_subset.obs.celltype == 'beta') & (adata_subset.obs['Disease'] == 'T2D' )"
   ]
  },
  {
   "cell_type": "code",
   "execution_count": 44,
   "id": "f5b75314",
   "metadata": {},
   "outputs": [],
   "source": [
    "### Type 2 diabetics\n",
    "## Get data\n",
    "adata_T2D = adata_subset[select_T2D].copy()\n",
    "\n",
    "## Counterfactual\n",
    "# Original\n",
    "T2D_original = counterfactual_prediction(model, adata_T2D,  {}, bst, features, X_train)\n",
    "\n",
    "# Diabetes\n",
    "T2D_to_ND = counterfactual_prediction(model, adata_T2D,  {'Disease':'Non'}, bst, features, X_train)\n",
    "\n",
    "# HbA1c\n",
    "HbA1c_step = 0.2 * (adata.obs['HbA1c'].max() - adata.obs['HbA1c'].min())\n",
    "T2D_hba1c_one = counterfactual_prediction(model, adata_T2D,  {'HbA1c': -1 * HbA1c_step}, bst, features, X_train)\n",
    "T2D_hba1c_two = counterfactual_prediction(model, adata_T2D,  {'HbA1c': -2 * HbA1c_step}, bst, features, X_train)\n",
    "T2D_hba1c_three = counterfactual_prediction(model, adata_T2D,  {'HbA1c': -3 * HbA1c_step}, bst, features, X_train)\n",
    "T2D_hba1c_four = counterfactual_prediction(model, adata_T2D,  {'HbA1c': -4 * HbA1c_step}, bst, features, X_train)\n",
    "\n",
    "# Age\n",
    "Age_step = 0.2 * (adata.obs['Age'].max() - adata.obs['Age'].min())\n",
    "T2D_age_one = counterfactual_prediction(model, adata_T2D,  {'Age': -1 * Age_step}, bst, features, X_train)\n",
    "T2D_age_two = counterfactual_prediction(model, adata_T2D,  {'Age': -2 * Age_step}, bst, features, X_train)\n",
    "T2D_age_three = counterfactual_prediction(model, adata_T2D,  {'Age': -3 * Age_step}, bst, features, X_train)\n",
    "T2D_age_four = counterfactual_prediction(model, adata_T2D,  {'Age': -4 * Age_step}, bst, features, X_train)\n",
    "\n",
    "# BMI\n",
    "BMI_step = 0.2 * (adata.obs['BMI'].max() - adata.obs['BMI'].min())\n",
    "T2D_bmi_one = counterfactual_prediction(model, adata_T2D,  {'BMI': -1 * BMI_step}, bst, features, X_train)\n",
    "T2D_bmi_two = counterfactual_prediction(model, adata_T2D,  {'BMI': -2 * BMI_step}, bst, features, X_train)\n",
    "T2D_bmi_three = counterfactual_prediction(model, adata_T2D,  {'BMI': -3 * BMI_step}, bst, features, X_train)\n",
    "T2D_bmi_four = counterfactual_prediction(model, adata_T2D,  {'BMI': -4 * BMI_step}, bst, features, X_train)"
   ]
  },
  {
   "cell_type": "code",
   "execution_count": 45,
   "id": "b26d31a3",
   "metadata": {},
   "outputs": [],
   "source": [
    "# Setup diabetes\n",
    "original = pd.DataFrame({'donor': adata_T2D.obs['donor'],'Proportion': T2D_original}).groupby('donor').mean()\n",
    "original['Counterfactual'] = 0\n",
    "diabetes_cf = pd.DataFrame({'donor': adata_T2D.obs['donor'],'Proportion': T2D_to_ND}).groupby('donor').mean()\n",
    "diabetes_cf['Counterfactual'] = 1\n",
    "T2D_diabetes_cf = pd.concat((original, diabetes_cf))\n",
    "\n",
    "# Setup HbA1c\n",
    "HbA1c_one = pd.DataFrame({'donor': adata_T2D.obs['donor'],'Proportion': T2D_hba1c_one}).groupby('donor').mean()\n",
    "HbA1c_one['Counterfactual'] = 0.2\n",
    "HbA1c_two = pd.DataFrame({'donor': adata_T2D.obs['donor'],'Proportion': T2D_hba1c_two}).groupby('donor').mean()\n",
    "HbA1c_two['Counterfactual'] = 0.4\n",
    "HbA1c_three = pd.DataFrame({'donor': adata_T2D.obs['donor'],'Proportion': T2D_hba1c_three}).groupby('donor').mean()\n",
    "HbA1c_three['Counterfactual'] = 0.6\n",
    "HbA1c_four = pd.DataFrame({'donor': adata_T2D.obs['donor'],'Proportion': T2D_hba1c_four}).groupby('donor').mean()\n",
    "HbA1c_four['Counterfactual'] = 0.8\n",
    "T2D_HbA1c_cf = pd.concat((original, HbA1c_one, HbA1c_two, HbA1c_three, HbA1c_four))\n",
    "\n",
    "# Setup BMI\n",
    "BMI_one = pd.DataFrame({'donor': adata_T2D.obs['donor'],'Proportion': T2D_bmi_one}).groupby('donor').mean()\n",
    "BMI_one['Counterfactual'] = 0.2\n",
    "BMI_two = pd.DataFrame({'donor': adata_T2D.obs['donor'],'Proportion': T2D_bmi_two}).groupby('donor').mean()\n",
    "BMI_two['Counterfactual'] = 0.4\n",
    "BMI_three = pd.DataFrame({'donor': adata_T2D.obs['donor'],'Proportion': T2D_bmi_three}).groupby('donor').mean()\n",
    "BMI_three['Counterfactual'] = 0.6\n",
    "BMI_four = pd.DataFrame({'donor': adata_T2D.obs['donor'],'Proportion': T2D_bmi_four}).groupby('donor').mean()\n",
    "BMI_four['Counterfactual'] = 0.8\n",
    "T2D_BMI_cf = pd.concat((original, BMI_one, BMI_two, BMI_three, BMI_four))\n",
    "\n",
    "# Setup age\n",
    "Age_one = pd.DataFrame({'donor': adata_T2D.obs['donor'],'Proportion': T2D_age_one}).groupby('donor').mean()\n",
    "Age_one['Counterfactual'] = 0.2\n",
    "Age_two = pd.DataFrame({'donor': adata_T2D.obs['donor'],'Proportion': T2D_age_two}).groupby('donor').mean()\n",
    "Age_two['Counterfactual'] = 0.4\n",
    "Age_three = pd.DataFrame({'donor': adata_T2D.obs['donor'],'Proportion': T2D_age_three}).groupby('donor').mean()\n",
    "Age_three['Counterfactual'] = 0.6\n",
    "Age_four = pd.DataFrame({'donor': adata_T2D.obs['donor'],'Proportion': T2D_age_four}).groupby('donor').mean()\n",
    "Age_four['Counterfactual'] = 0.8\n",
    "T2D_Age_cf = pd.concat((original, Age_one, Age_two, Age_three, Age_four))"
   ]
  },
  {
   "cell_type": "code",
   "execution_count": 46,
   "id": "1ecbfb9d",
   "metadata": {},
   "outputs": [],
   "source": [
    "### Non-diabetics\n",
    "## Get data\n",
    "adata_ND = adata_subset[select_ND].copy()\n",
    "\n",
    "## Counterfactual\n",
    "# Original\n",
    "ND_original = counterfactual_prediction(model, adata_ND,  {}, bst, features, X_train)\n",
    "\n",
    "# Diabetes\n",
    "ND_to_T2D = counterfactual_prediction(model, adata_ND,  {'Disease':'T2D'}, bst, features, X_train)\n",
    "\n",
    "# HbA1c\n",
    "HbA1c_step = 0.2 * (adata.obs['HbA1c'].max() - adata.obs['HbA1c'].min())\n",
    "ND_hba1c_one = counterfactual_prediction(model, adata_ND,  {'HbA1c': 1 * HbA1c_step}, bst, features, X_train)\n",
    "ND_hba1c_two = counterfactual_prediction(model, adata_ND,  {'HbA1c': 2 * HbA1c_step}, bst, features, X_train)\n",
    "ND_hba1c_three = counterfactual_prediction(model, adata_ND,  {'HbA1c': 3 * HbA1c_step}, bst, features, X_train)\n",
    "ND_hba1c_four = counterfactual_prediction(model, adata_ND,  {'HbA1c': 4 * HbA1c_step}, bst, features, X_train)\n",
    "\n",
    "# Age\n",
    "Age_step = 0.2 * (adata.obs['Age'].max() - adata.obs['Age'].min())\n",
    "ND_age_one = counterfactual_prediction(model, adata_ND,  {'Age': 1 * Age_step}, bst, features, X_train)\n",
    "ND_age_two = counterfactual_prediction(model, adata_ND,  {'Age': 2 * Age_step}, bst, features, X_train)\n",
    "ND_age_three = counterfactual_prediction(model, adata_ND,  {'Age': 3 * Age_step}, bst, features, X_train)\n",
    "ND_age_four = counterfactual_prediction(model, adata_ND,  {'Age': 4 * Age_step}, bst, features, X_train)\n",
    "\n",
    "# BMI\n",
    "BMI_step = 0.2 * (adata.obs['BMI'].max() - adata.obs['BMI'].min())\n",
    "ND_bmi_one = counterfactual_prediction(model, adata_ND,  {'BMI': 1 * BMI_step}, bst, features, X_train)\n",
    "ND_bmi_two = counterfactual_prediction(model, adata_ND,  {'BMI': 2 * BMI_step}, bst, features, X_train)\n",
    "ND_bmi_three = counterfactual_prediction(model, adata_ND,  {'BMI': 3 * BMI_step}, bst, features, X_train)\n",
    "ND_bmi_four = counterfactual_prediction(model, adata_ND,  {'BMI': 4 * BMI_step}, bst, features, X_train)"
   ]
  },
  {
   "cell_type": "code",
   "execution_count": 47,
   "id": "25d32fe7",
   "metadata": {},
   "outputs": [],
   "source": [
    "# Setup diabetes\n",
    "original = pd.DataFrame({'donor': adata_ND.obs['donor'],'Proportion': ND_original}).groupby('donor').mean()\n",
    "original['Counterfactual'] = 0\n",
    "diabetes_cf = pd.DataFrame({'donor': adata_ND.obs['donor'],'Proportion': ND_to_T2D}).groupby('donor').mean()\n",
    "diabetes_cf['Counterfactual'] = 1\n",
    "ND_diabetes_cf = pd.concat((original, diabetes_cf))\n",
    "\n",
    "# Setup HbA1c\n",
    "HbA1c_one = pd.DataFrame({'donor': adata_ND.obs['donor'],'Proportion': ND_hba1c_one}).groupby('donor').mean()\n",
    "HbA1c_one['Counterfactual'] = 0.2\n",
    "HbA1c_two = pd.DataFrame({'donor': adata_ND.obs['donor'],'Proportion': ND_hba1c_two}).groupby('donor').mean()\n",
    "HbA1c_two['Counterfactual'] = 0.4\n",
    "HbA1c_three = pd.DataFrame({'donor': adata_ND.obs['donor'],'Proportion': ND_hba1c_three}).groupby('donor').mean()\n",
    "HbA1c_three['Counterfactual'] = 0.6\n",
    "HbA1c_four = pd.DataFrame({'donor': adata_ND.obs['donor'],'Proportion': ND_hba1c_four}).groupby('donor').mean()\n",
    "HbA1c_four['Counterfactual'] = 0.8\n",
    "ND_HbA1c_cf = pd.concat((original, HbA1c_one, HbA1c_two, HbA1c_three, HbA1c_four))\n",
    "\n",
    "# Setup BMI\n",
    "BMI_one = pd.DataFrame({'donor': adata_ND.obs['donor'],'Proportion': ND_bmi_one}).groupby('donor').mean()\n",
    "BMI_one['Counterfactual'] = 0.2\n",
    "BMI_two = pd.DataFrame({'donor': adata_ND.obs['donor'],'Proportion': ND_bmi_two}).groupby('donor').mean()\n",
    "BMI_two['Counterfactual'] = 0.4\n",
    "BMI_three = pd.DataFrame({'donor': adata_ND.obs['donor'],'Proportion': ND_bmi_three}).groupby('donor').mean()\n",
    "BMI_three['Counterfactual'] = 0.6\n",
    "BMI_four = pd.DataFrame({'donor': adata_ND.obs['donor'],'Proportion': ND_bmi_four}).groupby('donor').mean()\n",
    "BMI_four['Counterfactual'] = 0.8\n",
    "ND_BMI_cf = pd.concat((original, BMI_one, BMI_two, BMI_three, BMI_four))\n",
    "\n",
    "# Setup age\n",
    "Age_one = pd.DataFrame({'donor': adata_ND.obs['donor'],'Proportion': ND_age_one}).groupby('donor').mean()\n",
    "Age_one['Counterfactual'] = 0.2\n",
    "Age_two = pd.DataFrame({'donor': adata_ND.obs['donor'],'Proportion': ND_age_two}).groupby('donor').mean()\n",
    "Age_two['Counterfactual'] = 0.4\n",
    "Age_three = pd.DataFrame({'donor': adata_ND.obs['donor'],'Proportion': ND_age_three}).groupby('donor').mean()\n",
    "Age_three['Counterfactual'] = 0.6\n",
    "Age_four = pd.DataFrame({'donor': adata_ND.obs['donor'],'Proportion': ND_age_four}).groupby('donor').mean()\n",
    "Age_four['Counterfactual'] = 0.8\n",
    "ND_Age_cf = pd.concat((original, Age_one, Age_two, Age_three, Age_four))"
   ]
  },
  {
   "cell_type": "code",
   "execution_count": 48,
   "id": "d193abb8",
   "metadata": {},
   "outputs": [
    {
     "name": "stderr",
     "output_type": "stream",
     "text": [
      "2025-10-14 13:15:53 INFO     Using categorical units to plot a list of strings that are all parsable as floats or dates. If these strings should be plotted as numbers, cast to the appropriate data type before plotting.\n",
      "2025-10-14 13:15:53 INFO     Using categorical units to plot a list of strings that are all parsable as floats or dates. If these strings should be plotted as numbers, cast to the appropriate data type before plotting.\n",
      "2025-10-14 13:15:53 INFO     Using categorical units to plot a list of strings that are all parsable as floats or dates. If these strings should be plotted as numbers, cast to the appropriate data type before plotting.\n",
      "2025-10-14 13:15:53 INFO     Using categorical units to plot a list of strings that are all parsable as floats or dates. If these strings should be plotted as numbers, cast to the appropriate data type before plotting.\n",
      "2025-10-14 13:15:53 INFO     Using categorical units to plot a list of strings that are all parsable as floats or dates. If these strings should be plotted as numbers, cast to the appropriate data type before plotting.\n",
      "2025-10-14 13:15:53 INFO     Using categorical units to plot a list of strings that are all parsable as floats or dates. If these strings should be plotted as numbers, cast to the appropriate data type before plotting.\n",
      "2025-10-14 13:15:53 INFO     Using categorical units to plot a list of strings that are all parsable as floats or dates. If these strings should be plotted as numbers, cast to the appropriate data type before plotting.\n",
      "2025-10-14 13:15:53 INFO     Using categorical units to plot a list of strings that are all parsable as floats or dates. If these strings should be plotted as numbers, cast to the appropriate data type before plotting.\n",
      "2025-10-14 13:15:53 INFO     Using categorical units to plot a list of strings that are all parsable as floats or dates. If these strings should be plotted as numbers, cast to the appropriate data type before plotting.\n",
      "2025-10-14 13:15:53 INFO     Using categorical units to plot a list of strings that are all parsable as floats or dates. If these strings should be plotted as numbers, cast to the appropriate data type before plotting.\n",
      "2025-10-14 13:15:53 INFO     Using categorical units to plot a list of strings that are all parsable as floats or dates. If these strings should be plotted as numbers, cast to the appropriate data type before plotting.\n",
      "2025-10-14 13:15:53 INFO     Using categorical units to plot a list of strings that are all parsable as floats or dates. If these strings should be plotted as numbers, cast to the appropriate data type before plotting.\n",
      "2025-10-14 13:15:53 INFO     Using categorical units to plot a list of strings that are all parsable as floats or dates. If these strings should be plotted as numbers, cast to the appropriate data type before plotting.\n",
      "2025-10-14 13:15:53 INFO     Using categorical units to plot a list of strings that are all parsable as floats or dates. If these strings should be plotted as numbers, cast to the appropriate data type before plotting.\n",
      "2025-10-14 13:15:53 INFO     Using categorical units to plot a list of strings that are all parsable as floats or dates. If these strings should be plotted as numbers, cast to the appropriate data type before plotting.\n",
      "2025-10-14 13:15:53 INFO     Using categorical units to plot a list of strings that are all parsable as floats or dates. If these strings should be plotted as numbers, cast to the appropriate data type before plotting.\n"
     ]
    },
    {
     "data": {
      "image/png": "[encoded data removed]",
      "text/plain": [
       "<Figure size 720x400 with 8 Axes>"
      ]
     },
     "metadata": {},
     "output_type": "display_data"
    }
   ],
   "source": [
    "fig, axes = plt.subplots(2, 4, figsize=(1.8*4, 2*2))\n",
    "sns.boxplot(y = 'Proportion', x = 'Counterfactual', data = ND_diabetes_cf, ax=axes[0,0])\n",
    "axes[0,0].set_ylim(0,1.0)\n",
    "axes[0,0].set_title(\"Diabetes status\")\n",
    "sns.boxplot(y = 'Proportion', x = 'Counterfactual', data = ND_HbA1c_cf, ax=axes[0,1])\n",
    "axes[0,1].set_ylim(0,1.0)\n",
    "axes[0,1].set_title(\"HbA1c\")\n",
    "sns.boxplot(y = 'Proportion', x = 'Counterfactual', data = ND_BMI_cf, ax=axes[0,2])\n",
    "axes[0,2].set_ylim(0,1.0)\n",
    "axes[0,2].set_title(\"BMI\")\n",
    "sns.boxplot(y = 'Proportion', x = 'Counterfactual', data = ND_Age_cf, ax=axes[0,3])\n",
    "axes[0,3].set_ylim(0,1.0)\n",
    "axes[0,3].set_title(\"Age\")\n",
    "\n",
    "sns.boxplot(y = 'Proportion', x = 'Counterfactual', data = T2D_diabetes_cf, ax=axes[1,0])\n",
    "axes[1,0].set_ylim(0,1.0)\n",
    "axes[1,0].set_title(\"Diabetes status\")\n",
    "sns.boxplot(y = 'Proportion', x = 'Counterfactual', data = T2D_HbA1c_cf, ax=axes[1,1])\n",
    "axes[1,1].set_ylim(0,1.0)\n",
    "axes[1,1].set_title(\"HbA1c\")\n",
    "sns.boxplot(y = 'Proportion', x = 'Counterfactual', data = T2D_BMI_cf, ax=axes[1,2])\n",
    "axes[1,2].set_ylim(0,1.0)\n",
    "axes[1,2].set_title(\"BMI\")\n",
    "sns.boxplot(y = 'Proportion', x = 'Counterfactual', data = T2D_Age_cf, ax=axes[1,3])\n",
    "axes[1,3].set_ylim(0,1.0)\n",
    "axes[1,3].set_title(\"Age\")\n",
    "plt.tight_layout()\n",
    "plt.savefig('../figures/F2C.pdf')"
   ]
  },
  {
   "cell_type": "markdown",
   "id": "95468303",
   "metadata": {},
   "source": [
    "### Running ChromVAR"
   ]
  },
  {
   "cell_type": "raw",
   "id": "557ae027",
   "metadata": {},
   "source": [
    "# Reconstruct for all beta-cells\n",
    "recon_original = model.predict(\n",
    "        adata_subset,\n",
    "        covars_to_add=['celltype', 'Disease', 'Gender', 'Race', 'Age', 'BMI', 'HbA1c'],\n",
    "        predict_mode='selected',\n",
    "        add_unknown=True,\n",
    "        library_size=10000,\n",
    "    )"
   ]
  },
  {
   "cell_type": "raw",
   "id": "9dea6471",
   "metadata": {},
   "source": [
    "# Predict labels\n",
    "X = xgb.QuantileDMatrix(np.array(recon_original.X)[:,features], max_bin = 15, ref=X_train)\n",
    "pred = bst.predict(X)\n",
    "recon_original.obs['predicted_subtype'] = (pred > 0.5).astype(int)"
   ]
  },
  {
   "cell_type": "raw",
   "id": "cb49be89",
   "metadata": {},
   "source": [
    "# Get beta-2 cells from diabetics\n",
    "select_T2D = (recon_original.obs['predicted_subtype'] == 1) & (recon_original.obs['Disease'] == 'T2D' )\n",
    "adata_T2D = adata_subset[select_T2D].copy()\n",
    "adata_T2D_cf = adata_T2D.copy()\n",
    "adata_T2D_cf.obs['Disease'] = \"ND\"\n",
    "adata_subset_cf = AnnData.concatenate(adata_T2D, adata_T2D_cf)"
   ]
  },
  {
   "cell_type": "raw",
   "id": "61772741",
   "metadata": {},
   "source": [
    "# Reconstruct for counterfactuals\n",
    "recon_cf = model.predict(\n",
    "        adata_subset_cf,\n",
    "        covars_to_add=['celltype', 'Disease', 'Gender', 'Race', 'Age', 'BMI', 'HbA1c'],\n",
    "        predict_mode='selected',\n",
    "        add_unknown=True,\n",
    "        library_size=10000,\n",
    "    )"
   ]
  },
  {
   "cell_type": "raw",
   "id": "3de10e28",
   "metadata": {},
   "source": [
    "# Setup for chromVAR and normalize\n",
    "recon_original.var.index = ['chr'+x for x in recon_original.var.index]\n",
    "recon_original = recon_original[:,features].copy()\n",
    "sc.pp.normalize_total(recon_original, target_sum = 1000)\n",
    "\n",
    "recon_cf.var.index = ['chr'+x for x in recon_cf.var.index]\n",
    "recon_cf = recon_cf[:,features].copy()\n",
    "sc.pp.normalize_total(recon_cf, target_sum = 1000)"
   ]
  },
  {
   "cell_type": "raw",
   "id": "46295998",
   "metadata": {},
   "source": [
    "# Get background peaks\n",
    "pc.add_peak_seq(recon_original, genome_file=\"../data/Pancreas/hg19.fa\", delimiter=\":|-\")\n",
    "pc.add_gc_bias(recon_original)\n",
    "pc.get_bg_peaks(recon_original)\n",
    "\n",
    "pc.add_peak_seq(recon_cf, genome_file=\"../data/Pancreas/hg19.fa\", delimiter=\":|-\")\n",
    "pc.add_gc_bias(recon_cf)\n",
    "pc.get_bg_peaks(recon_cf)"
   ]
  },
  {
   "cell_type": "raw",
   "id": "002dc448",
   "metadata": {},
   "source": [
    "# Find motifs\n",
    "recon_original = find_motifs(recon_original, \"../data/Pancreas/consensus_pwms.meme\")\n",
    "recon_cf = find_motifs(recon_cf, \"../data/Pancreas/consensus_pwms.meme\")"
   ]
  },
  {
   "cell_type": "raw",
   "id": "a67008d3",
   "metadata": {},
   "source": [
    "recon_original.write(\"../../Reproducibility/data/Pancreas/recon_original.h5ad\") \n",
    "recon_cf.write(\"../../Reproducibility/data/Pancreas/recon_cf.h5ad\") "
   ]
  },
  {
   "cell_type": "code",
   "execution_count": 49,
   "id": "35efc406",
   "metadata": {},
   "outputs": [],
   "source": [
    "recon_original = sc.read_h5ad(\"../data/Pancreas/recon_original.h5ad\")\n",
    "recon_cf = sc.read_h5ad(\"../data/Pancreas/recon_cf.h5ad\")"
   ]
  },
  {
   "cell_type": "raw",
   "id": "6ad9c3ac",
   "metadata": {},
   "source": [
    "# Compute deviations\n",
    "dev_original = compute_deviations(recon_original, gpu = True)\n",
    "dev_original.obs = recon_original.obs\n",
    "dev_cf = compute_deviations(recon_cf, gpu = True)\n",
    "dev_cf.obs = recon_cf.obs"
   ]
  },
  {
   "cell_type": "raw",
   "id": "3f808f1e",
   "metadata": {},
   "source": [
    "dev_original.write(\"../../Reproducibility/data/Pancreas/dev_original.h5ad\") \n",
    "dev_cf.write(\"../../Reproducibility/data/Pancreas/dev_cf.h5ad\") "
   ]
  },
  {
   "cell_type": "code",
   "execution_count": 50,
   "id": "a1e29f44",
   "metadata": {},
   "outputs": [],
   "source": [
    "dev_original = sc.read_h5ad(\"../data/Pancreas/dev_original.h5ad\")\n",
    "dev_cf = sc.read_h5ad(\"../data/Pancreas/dev_cf.h5ad\")"
   ]
  },
  {
   "cell_type": "code",
   "execution_count": 51,
   "id": "0cf51dd4",
   "metadata": {},
   "outputs": [],
   "source": [
    "motifs_cf = permutation_test(dev_cf, groupby = \"Disease\", group1 = \"T2D\", group2=\"ND\")"
   ]
  },
  {
   "cell_type": "code",
   "execution_count": 52,
   "id": "8bee0b7d",
   "metadata": {},
   "outputs": [],
   "source": [
    "dev_original.obs['predicted_subtype'] = dev_original.obs['predicted_subtype'].replace({0: 'beta1', 1: 'beta2'})"
   ]
  },
  {
   "cell_type": "code",
   "execution_count": 53,
   "id": "5b836158",
   "metadata": {},
   "outputs": [],
   "source": [
    "motifs_subtypes = permutation_test(dev_original, groupby = \"predicted_subtype\", group1 = \"beta1\", group2=\"beta2\")"
   ]
  },
  {
   "cell_type": "code",
   "execution_count": 54,
   "id": "a96db6ff",
   "metadata": {},
   "outputs": [],
   "source": [
    "rejected, pvals_corrected, _, _ = multipletests(np.array(motifs_subtypes['pval']), alpha=0.05, method='fdr_bh')\n",
    "motifs_subtypes['FDR'] = pvals_corrected\n",
    "rejected, pvals_corrected, _, _ = multipletests(np.array(motifs_cf['pval']), alpha=0.05, method='fdr_bh')\n",
    "motifs_cf['FDR'] = pvals_corrected\n"
   ]
  },
  {
   "cell_type": "code",
   "execution_count": null,
   "id": "005dcfe2",
   "metadata": {},
   "outputs": [],
   "source": []
  },
  {
   "cell_type": "markdown",
   "id": "35f9514a",
   "metadata": {},
   "source": [
    "### Correlation to GSIS"
   ]
  },
  {
   "cell_type": "code",
   "execution_count": 55,
   "id": "3c11aa89",
   "metadata": {},
   "outputs": [],
   "source": [
    "# Process RNA-seq and GSIS\n",
    "RNA = pd.read_csv(\"../../Reproducibility/data/Pancreas/proc_rnaseq.csv\", index_col=0)\n",
    "donor = pd.read_csv(\"../../Reproducibility/data/Pancreas/donor.csv\")\n",
    "isolation = pd.read_csv(\"../../Reproducibility/data/Pancreas/isolation.csv\")\n",
    "GSIS = pd.read_csv(\"../../Reproducibility/data/Pancreas/gsis.csv\")\n",
    "\n",
    "GSIS = GSIS[GSIS['gluc_conc_group'] == \"1_16.7\"]\n",
    "GSIS_mean = GSIS.groupby(\"record_id\").mean()\n",
    "GSIS_mean.index.name = None\n",
    "RNA = RNA.T\n",
    "gene_names = RNA.columns.tolist()\n",
    "RNA = pd.merge(RNA, GSIS_mean[['stim_index','culturetime2']], left_index=True, right_index=True)\n",
    "RNA = pd.merge(RNA, donor[['record_id', 'donorage','donorsex']], left_index=True, right_on='record_id')\n",
    "RNA = pd.merge(RNA, isolation[['record_id', 'coldischemiatime','puritypercentage','trappedpercentage','digesttime']], left_on='record_id', right_on='record_id')\n",
    "\n",
    "# Scaling\n",
    "RNA[\"donorsex\"] = RNA[\"donorsex\"].map({\"Male\": 0, \"Female\": 1})\n",
    "RNA['donorage'] = (RNA['donorage'] - RNA['donorage'].mean()) / RNA['donorage'].std()\n",
    "RNA['coldischemiatime'] = (RNA['coldischemiatime'] - RNA['coldischemiatime'].mean()) / RNA['coldischemiatime'].std()\n",
    "RNA['puritypercentage'] = (RNA['puritypercentage'] - RNA['puritypercentage'].mean()) / RNA['puritypercentage'].std()\n",
    "RNA['trappedpercentage'] = (RNA['trappedpercentage'] - RNA['trappedpercentage'].mean()) / RNA['trappedpercentage'].std()\n",
    "RNA['digesttime'] = (RNA['digesttime'] - RNA['digesttime'].mean()) / RNA['digesttime'].std()"
   ]
  },
  {
   "cell_type": "code",
   "execution_count": 56,
   "id": "56d75aff",
   "metadata": {},
   "outputs": [],
   "source": [
    "# Loop\n",
    "counter = 0\n",
    "for gene in gene_names:\n",
    "    ds = RNA[[gene, 'culturetime2', 'donorage','donorsex', 'coldischemiatime','puritypercentage','trappedpercentage','digesttime','stim_index']].copy()\n",
    "    ds = ds.dropna()\n",
    "    ds[gene] = (ds[gene] - ds[gene].mean()) / ds[gene].std()\n",
    "    x = ds[[gene, 'culturetime2', 'donorage','donorsex', 'coldischemiatime','puritypercentage','trappedpercentage','digesttime','stim_index']]\n",
    "    x = add_constant(x)\n",
    "    ols_model = OLS(ds['stim_index'].values, x)\n",
    "    fit = ols_model.fit()\n",
    "    coef = fit.params[gene]\n",
    "    pval = fit.pvalues[gene]\n",
    "\n",
    "    res_tmp = pd.DataFrame({\n",
    "        'Entrez': gene,\n",
    "        'Pearson': coef,\n",
    "        'Pvalue': pval\n",
    "    }, index = [counter])\n",
    "    if counter == 0:\n",
    "        targets = res_tmp\n",
    "    else:\n",
    "        targets = pd.concat((targets,res_tmp))\n",
    "    counter += 1\n",
    "    "
   ]
  },
  {
   "cell_type": "code",
   "execution_count": 57,
   "id": "c05841e9",
   "metadata": {},
   "outputs": [
    {
     "name": "stderr",
     "output_type": "stream",
     "text": [
      "2025-10-14 13:18:10 WARNING  Input sequence provided is already in string format. No operation performed\n",
      "2025-10-14 13:18:10 WARNING  Input sequence provided is already in string format. No operation performed\n",
      "2025-10-14 13:18:10 INFO     querying 1-1000 ...\n",
      "2025-10-14 13:18:12 INFO     HTTP Request: POST https://mygene.info/v3/query/ \"HTTP/1.1 200 OK\"\n",
      "2025-10-14 13:18:13 INFO     querying 1001-2000 ...\n",
      "2025-10-14 13:18:14 INFO     HTTP Request: POST https://mygene.info/v3/query/ \"HTTP/1.1 200 OK\"\n",
      "2025-10-14 13:18:15 INFO     querying 2001-3000 ...\n",
      "2025-10-14 13:18:16 INFO     HTTP Request: POST https://mygene.info/v3/query/ \"HTTP/1.1 200 OK\"\n",
      "2025-10-14 13:18:17 INFO     querying 3001-4000 ...\n",
      "2025-10-14 13:18:18 INFO     HTTP Request: POST https://mygene.info/v3/query/ \"HTTP/1.1 200 OK\"\n",
      "2025-10-14 13:18:19 INFO     querying 4001-5000 ...\n",
      "2025-10-14 13:18:20 INFO     HTTP Request: POST https://mygene.info/v3/query/ \"HTTP/1.1 200 OK\"\n",
      "2025-10-14 13:18:21 INFO     querying 5001-6000 ...\n",
      "2025-10-14 13:18:23 INFO     HTTP Request: POST https://mygene.info/v3/query/ \"HTTP/1.1 200 OK\"\n",
      "2025-10-14 13:18:24 INFO     querying 6001-7000 ...\n",
      "2025-10-14 13:18:25 INFO     HTTP Request: POST https://mygene.info/v3/query/ \"HTTP/1.1 200 OK\"\n",
      "2025-10-14 13:18:26 INFO     querying 7001-8000 ...\n",
      "2025-10-14 13:18:27 INFO     HTTP Request: POST https://mygene.info/v3/query/ \"HTTP/1.1 200 OK\"\n",
      "2025-10-14 13:18:28 INFO     querying 8001-9000 ...\n",
      "2025-10-14 13:18:29 INFO     HTTP Request: POST https://mygene.info/v3/query/ \"HTTP/1.1 200 OK\"\n",
      "2025-10-14 13:18:30 INFO     querying 9001-10000 ...\n",
      "2025-10-14 13:18:31 INFO     HTTP Request: POST https://mygene.info/v3/query/ \"HTTP/1.1 200 OK\"\n",
      "2025-10-14 13:18:32 INFO     querying 10001-11000 ...\n",
      "2025-10-14 13:18:33 INFO     HTTP Request: POST https://mygene.info/v3/query/ \"HTTP/1.1 200 OK\"\n",
      "2025-10-14 13:18:34 INFO     querying 11001-12000 ...\n",
      "2025-10-14 13:18:36 INFO     HTTP Request: POST https://mygene.info/v3/query/ \"HTTP/1.1 200 OK\"\n",
      "2025-10-14 13:18:37 INFO     querying 12001-13000 ...\n",
      "2025-10-14 13:18:38 INFO     HTTP Request: POST https://mygene.info/v3/query/ \"HTTP/1.1 200 OK\"\n",
      "2025-10-14 13:18:39 INFO     querying 13001-14000 ...\n",
      "2025-10-14 13:18:40 INFO     HTTP Request: POST https://mygene.info/v3/query/ \"HTTP/1.1 200 OK\"\n",
      "2025-10-14 13:18:41 INFO     querying 14001-14313 ...\n",
      "2025-10-14 13:18:41 INFO     HTTP Request: POST https://mygene.info/v3/query/ \"HTTP/1.1 200 OK\"\n",
      "2025-10-14 13:18:42 INFO     Finished.\n",
      "2025-10-14 13:18:42 WARNING  14 input query terms found no hit:\t['100129503', '101927533', '101929759', '102724889', '105372569', '105376171', '107984138', '1079843\n",
      "2025-10-14 13:18:42 INFO     Pass \"returnall=True\" to return complete lists of duplicate or missing query terms.\n"
     ]
    }
   ],
   "source": [
    "# Initialize mygene\n",
    "mg = mygene.MyGeneInfo()\n",
    "\n",
    "# Query Entrez spearmanro get gene symbols\n",
    "results = mg.querymany(targets['Entrez'].tolist(), scopes='entrezgene', fields='symbol', species='human')\n",
    "\n",
    "# Convert to DataFrame for filtering\n",
    "results_df = pd.DataFrame(results)\n",
    "\n",
    "# Filter: keep only entries that are NOT ambiguous (i.e., not duplicated or missing)\n",
    "filtered = results_df[\n",
    "    (results_df['notfound'] != True) &   # Remove entries not found\n",
    "    (~results_df.duplicated('query', keep=False))  # Remove duplicated queries (ambiguous)\n",
    "]\n",
    "filtered['Entrez'] = filtered['query'].astype(int)\n",
    "\n",
    "# Merge back with original df on Entrez ID\n",
    "targets_clean = targets.merge(filtered[['Entrez', 'symbol']], left_on='Entrez', right_on='Entrez', how='inner')"
   ]
  },
  {
   "cell_type": "code",
   "execution_count": 58,
   "id": "ac37f5eb",
   "metadata": {},
   "outputs": [
    {
     "data": {
      "image/png": "[encoded data removed]",
      "text/plain": [
       "<Figure size 200x200 with 1 Axes>"
      ]
     },
     "metadata": {},
     "output_type": "display_data"
    }
   ],
   "source": [
    "fig, ax = plt.subplots(1, 1, figsize=(2,2))\n",
    "\n",
    "sns.histplot(targets_clean.Pearson, bins = 25) \n",
    "plt.xlabel('Expression - GSIS - regression beta')\n",
    "plt.ylabel('Count')\n",
    "plt.savefig('../figuresS5F.pdf')"
   ]
  },
  {
   "cell_type": "code",
   "execution_count": 59,
   "id": "eca59bd8",
   "metadata": {},
   "outputs": [],
   "source": [
    "motif_metadata = pd.read_csv(\"../data/Pancreas/metadata.tsv\", sep=\"\\t\")"
   ]
  },
  {
   "cell_type": "code",
   "execution_count": 60,
   "id": "0b1e8439",
   "metadata": {},
   "outputs": [],
   "source": [
    "targets_motifs = targets_clean[targets_clean['symbol'].isin(motif_metadata['tf_name'])]"
   ]
  },
  {
   "cell_type": "code",
   "execution_count": 61,
   "id": "c636db6e",
   "metadata": {},
   "outputs": [],
   "source": [
    "rejected, pvals_corrected, _, _ = multipletests(np.array(targets_motifs['Pvalue']), alpha=0.05, method='fdr_bh')\n",
    "targets_motiftargets_motifs = targets_clean[targets_clean['symbol'].isin(motif_metadata['tf_name'])]\n",
    "targets_motifs['FDR'] = pvals_corrected\n",
    "targets_motifs.to_csv(\"../results/Pancreas/GSIS_motifs_processed.csv\")"
   ]
  },
  {
   "cell_type": "code",
   "execution_count": 62,
   "id": "d534c3e7",
   "metadata": {},
   "outputs": [],
   "source": [
    "adata_rna = sc.read_h5ad(\"../../Reproducibility/data/Pancreas/multiome_RNA_raw.h5ad\")\n",
    "annot = pd.read_csv(\"../data/Pancreas/GSE200044_multiome_beta_annotation.csv\", index_col=1)\n",
    "annot.index.name = None\n",
    "adata_rna = adata_rna[adata_rna.obs.index.isin(annot.index),:].copy()\n",
    "freq = np.array((adata_rna.X > 0).sum(axis = 0)) / adata_rna.shape[0]\n",
    "sc.pp.normalize_total(adata_rna)\n",
    "sc.pp.log1p(adata_rna)\n",
    "avg = np.array(adata_rna.X.mean(axis = 0))\n",
    "expression = pd.DataFrame({\n",
    "    'Gene': adata_rna.var.index.tolist(),\n",
    "    'Frequency': freq.ravel(),\n",
    "    'Average': avg.ravel()\n",
    "})"
   ]
  },
  {
   "cell_type": "code",
   "execution_count": 63,
   "id": "e53385d4",
   "metadata": {},
   "outputs": [],
   "source": [
    "dev_original_df = dev_original.to_df()\n",
    "dev_original_df['subtype'] = dev_original.obs.subtype\n",
    "chromvar_deviations = dev_original_df.groupby('subtype').mean().T\n",
    "\n",
    "dev_cf_df = dev_cf.to_df()\n",
    "dev_cf_df['batch'] = dev_cf.obs.batch\n",
    "chromvar_deviations['counterfactual_raw'] = dev_cf_df.groupby('batch').mean().loc['0']\n",
    "chromvar_deviations['counterfactual_ND'] = dev_cf_df.groupby('batch').mean().loc['1']\n"
   ]
  },
  {
   "cell_type": "code",
   "execution_count": 64,
   "id": "37986833",
   "metadata": {},
   "outputs": [],
   "source": [
    "# Set threshold\n",
    "threshold = 0.0\n",
    "frequency_threshold = 0.01\n",
    "differential_threshold = 1\n",
    "\n",
    "# Define up and downregulated motifs\n",
    "downregulated = motifs_subtypes[(motifs_subtypes['FDR'] <= 0.01) & (motifs_subtypes['stat'] > differential_threshold)]\n",
    "upregulated = motifs_subtypes[(motifs_subtypes['FDR'] <= 0.01) & (motifs_subtypes['stat'] < -differential_threshold)]\n",
    "\n",
    "# Get ones with support\n",
    "motifs_cf_up = motifs_cf.loc[upregulated.index,:]\n",
    "upregulated_any_support = motifs_cf_up[ (motifs_cf_up['stat'] > -threshold)]\n",
    "motifs_cf_down = motifs_cf.loc[downregulated.index,:]\n",
    "downregulated_any_support = motifs_cf_down[ (motifs_cf_down['stat'] < threshold)]\n",
    "\n",
    "# Define unsupported and different support levels\n",
    "motifs = {}\n",
    "motifs['upregulated_None'] = upregulated[~upregulated.index.isin(upregulated_any_support.index)]\n",
    "motifs['downregulated_None'] = downregulated[~downregulated.index.isin(downregulated_any_support.index)]\n",
    "motifs['upregulated_Support'] = upregulated_any_support\n",
    "motifs['downregulated_Support'] = downregulated_any_support"
   ]
  },
  {
   "cell_type": "code",
   "execution_count": 65,
   "id": "c40bf3c2",
   "metadata": {},
   "outputs": [],
   "source": [
    "chromvar_deviations['subtypes_FDR'] = motifs_subtypes['FDR'] \n",
    "chromvar_deviations['cf_FDR'] = motifs_cf['FDR'] "
   ]
  },
  {
   "cell_type": "code",
   "execution_count": 66,
   "id": "af06b41a",
   "metadata": {},
   "outputs": [],
   "source": [
    "chromvar_deviations['delta_b2-b1'] = chromvar_deviations['beta_2'] - chromvar_deviations['beta_1']\n",
    "chromvar_deviations['delta_raw-cf'] = chromvar_deviations['counterfactual_ND'] - chromvar_deviations['counterfactual_raw']"
   ]
  },
  {
   "cell_type": "code",
   "execution_count": 67,
   "id": "3825ca1b",
   "metadata": {},
   "outputs": [],
   "source": [
    "chromvar_deviations['group'] = 'Unaffected'"
   ]
  },
  {
   "cell_type": "code",
   "execution_count": 68,
   "id": "5423a197",
   "metadata": {},
   "outputs": [],
   "source": [
    "chromvar_deviations.loc[motifs['upregulated_None'].index, 'group'] = 'upregulated_None'\n",
    "chromvar_deviations.loc[motifs['downregulated_None'].index, 'group'] = 'downregulated_None'\n",
    "chromvar_deviations.loc[motifs['upregulated_Support'].index, 'group'] = 'upregulated_Support'\n",
    "chromvar_deviations.loc[motifs['downregulated_Support'].index, 'group'] = 'downregulated_Support'\n"
   ]
  },
  {
   "cell_type": "code",
   "execution_count": 69,
   "id": "b4f6068f",
   "metadata": {},
   "outputs": [],
   "source": [
    "chromvar_deviations['regulation'] = 'Unregulated'\n",
    "chromvar_deviations.loc[motifs['upregulated_None'].index, 'regulation'] = 'Upregulated'\n",
    "chromvar_deviations.loc[motifs['downregulated_None'].index, 'regulation'] = 'Downregulated'\n",
    "chromvar_deviations.loc[motifs['upregulated_Support'].index, 'regulation'] = 'Upregulated'\n",
    "chromvar_deviations.loc[motifs['downregulated_Support'].index, 'regulation'] = 'Downregulated'\n",
    "\n",
    "chromvar_deviations['Support'] = 'Nan'\n",
    "chromvar_deviations.loc[motifs['upregulated_None'].index, 'Support'] = 'Unsupported'\n",
    "chromvar_deviations.loc[motifs['downregulated_None'].index, 'Support'] = 'Unsupported'\n",
    "chromvar_deviations.loc[motifs['upregulated_Support'].index, 'Support'] = 'Supported'\n",
    "chromvar_deviations.loc[motifs['downregulated_Support'].index, 'Support'] = 'Supported'"
   ]
  },
  {
   "cell_type": "code",
   "execution_count": 70,
   "id": "48b71108",
   "metadata": {},
   "outputs": [],
   "source": [
    "chromvar_deviations.to_csv('../results/Pancreas/cf_support.tsv',\n",
    "          sep=\";\",         \n",
    "          decimal=\",\",      \n",
    "          float_format=\"%.10g\")"
   ]
  },
  {
   "cell_type": "code",
   "execution_count": 71,
   "id": "e2505a53",
   "metadata": {},
   "outputs": [],
   "source": [
    "palette = {'Unaffected': 'lightgray', 'upregulated_None': 'darksalmon', 'upregulated_Support': 'firebrick', 'downregulated_None':'cornflowerblue', 'downregulated_Support': 'royalblue'}"
   ]
  },
  {
   "cell_type": "code",
   "execution_count": 72,
   "id": "2304613b",
   "metadata": {},
   "outputs": [
    {
     "data": {
      "image/png": "[encoded data removed]",
      "text/plain": [
       "<Figure size 260x200 with 1 Axes>"
      ]
     },
     "metadata": {},
     "output_type": "display_data"
    }
   ],
   "source": [
    "fig, ax = plt.subplots(1, 1, figsize=(2.6,2))\n",
    "plt.hlines(0, xmin = chromvar_deviations['delta_b2-b1'].min()*1.05, xmax = chromvar_deviations['delta_b2-b1'].max()*1.05,linestyles = '--', color = 'grey', linewidth = 1 )\n",
    "plt.vlines(0, ymin = chromvar_deviations['delta_raw-cf'].min()*1.05, ymax = chromvar_deviations['delta_raw-cf'].max()*1.05,linestyles = '--', color = 'grey', linewidth = 1 )\n",
    "\n",
    "sns.scatterplot(chromvar_deviations[chromvar_deviations.group == 'Unaffected'], x = 'delta_b2-b1', y = 'delta_raw-cf', hue = 'group', palette = palette, edgecolor = 'k', linewidth = 0.5, s = 10)\n",
    "sns.scatterplot(chromvar_deviations[chromvar_deviations.group != 'Unaffected'], x = 'delta_b2-b1', y = 'delta_raw-cf', hue = 'group', palette = palette, edgecolor = 'k', linewidth = 0.5, s = 20)\n",
    "\n",
    "box = ax.get_position()\n",
    "ax.set_position([box.x0, box.y0, box.width * 0.8, box.height])\n",
    "lim = max(chromvar_deviations['delta_b2-b1'].abs().max(), chromvar_deviations['delta_raw-cf'].abs().max())\n",
    "ax.legend(loc='center left', bbox_to_anchor=(1, 0.5))\n",
    "plt.xlabel(u'Δ Beta subtypes')\n",
    "plt.ylabel(u'Δ Counterfactual (T2D-> ND)')\n",
    "plt.savefig('../figures/F2D.pdf')"
   ]
  },
  {
   "cell_type": "code",
   "execution_count": null,
   "id": "ade972d1",
   "metadata": {},
   "outputs": [],
   "source": []
  },
  {
   "cell_type": "code",
   "execution_count": 73,
   "id": "4a58aad7",
   "metadata": {},
   "outputs": [
    {
     "name": "stderr",
     "output_type": "stream",
     "text": [
      "2025-10-14 13:18:46 INFO     Using categorical units to plot a list of strings that are all parsable as floats or dates. If these strings should be plotted as numbers, cast to the appropriate data type before plotting.\n",
      "2025-10-14 13:18:46 INFO     Using categorical units to plot a list of strings that are all parsable as floats or dates. If these strings should be plotted as numbers, cast to the appropriate data type before plotting.\n"
     ]
    },
    {
     "data": {
      "image/png": "[encoded data removed]",
      "text/plain": [
       "<Figure size 300x200 with 1 Axes>"
      ]
     },
     "metadata": {},
     "output_type": "display_data"
    }
   ],
   "source": [
    "# Set threshold\n",
    "threshold = 0.0\n",
    "frequency_threshold = 0.01\n",
    "differential_threshold = 1\n",
    "\n",
    "# Define up and downregulated motifs\n",
    "downregulated = motifs_subtypes[(motifs_subtypes['FDR'] <= 0.01) & (motifs_subtypes['stat'] > differential_threshold)]\n",
    "upregulated = motifs_subtypes[(motifs_subtypes['FDR'] <= 0.01) & (motifs_subtypes['stat'] < -differential_threshold)]\n",
    "\n",
    "# Get ones with support\n",
    "motifs_cf_up = motifs_cf.loc[upregulated.index,:]\n",
    "upregulated_any_support = motifs_cf_up[ (motifs_cf_up['stat'] > -threshold)]\n",
    "motifs_cf_down = motifs_cf.loc[downregulated.index,:]\n",
    "downregulated_any_support = motifs_cf_down[ (motifs_cf_down['stat'] < threshold)]\n",
    "\n",
    "# Define unsupported and different support levels\n",
    "motifs = {}\n",
    "motifs['upregulated_None'] = upregulated[~upregulated.index.isin(upregulated_any_support.index)]\n",
    "motifs['downregulated_None'] = downregulated[~downregulated.index.isin(downregulated_any_support.index)]\n",
    "motifs['upregulated_Support'] = upregulated_any_support\n",
    "motifs['downregulated_Support'] = downregulated_any_support\n",
    "\n",
    "# Get motif cluter ID\n",
    "for key in motifs.keys():\n",
    "    motifs[key] = [s.split(\":\")[0] for s in motifs[key].index]\n",
    "    \n",
    "# Get list of TFs as a dictionary\n",
    "tfs = {}\n",
    "for key in motifs.keys():\n",
    "    tfs[key] = list(motif_metadata[motif_metadata['cluster'].isin(motifs[key])]['tf_name'].unique())\n",
    "\n",
    "# Combine\n",
    "for key in tfs.keys():\n",
    "    df_tmp = pd.DataFrame({\n",
    "        'TF': tfs[key],\n",
    "        'Support': key.split(\"_\")[1],\n",
    "        'Direction': key.split(\"_\")[0]\n",
    "    })\n",
    "    \n",
    "    if key == list(tfs.keys())[0]:\n",
    "        combined = df_tmp\n",
    "    else:\n",
    "        combined = pd.concat((combined, df_tmp))\n",
    "        \n",
    "# Keep only unique TFs \n",
    "priority_order = {\"Support\": 0, \"None\": 1}\n",
    "combined[\"Priority\"] = combined[\"Support\"].map(priority_order)\n",
    "combined = combined.sort_values(\"Priority\")\n",
    "combined = combined.drop_duplicates(subset=\"TF\", keep=\"first\")\n",
    "combined = combined.drop(columns=\"Priority\")\n",
    "combined = pd.merge(combined, targets_motifs[['Pearson','Pvalue','symbol','FDR']], left_on='TF', right_on='symbol')\n",
    "combined = pd.merge(combined, expression, left_on='TF', right_on='Gene')\n",
    "\n",
    "# Calculate random sets\n",
    "all_tfs = pd.DataFrame({'TF': motif_metadata[motif_metadata['cluster'].isin([s.split(\":\")[0] for s in motifs_subtypes.index] )]['tf_name'].unique()})\n",
    "all_tfs = all_tfs[all_tfs['TF'].isin(targets_motifs['symbol'])]\n",
    "all_tfs = all_tfs[all_tfs['TF'].isin(expression['Gene'])]\n",
    "random_size = []\n",
    "for i in range(1000):\n",
    "    sampled_tfs = all_tfs.sample(n=100)\n",
    "    sampled_tfs = sampled_tfs[sampled_tfs['TF'].isin(targets_motifs[targets_motifs['FDR'] <= 0.01]['symbol'])]\n",
    "    sampled_tfs = sampled_tfs[sampled_tfs['TF'].isin(expression[ expression['Frequency'] >= frequency_threshold]['Gene'])]\n",
    "    random_size.append(len(sampled_tfs) / 100)\n",
    "random_size = np.array(random_size).mean()\n",
    "\n",
    "# Get fractions\n",
    "overlap = len(combined[ (combined['Support'] == \"Support\") & (combined['Frequency'] >= frequency_threshold) & (combined['FDR'] <= 0.05)])\n",
    "size = len(combined[ (combined['Support'] == \"Support\")])\n",
    "support = overlap / size\n",
    "\n",
    "overlap = len(combined[ (combined['Support'] == \"None\") & (combined['Frequency'] >= frequency_threshold) & (combined['FDR'] <= 0.05)])\n",
    "size = len(combined[ (combined['Support'] == \"None\")])\n",
    "no_support = overlap / size\n",
    "\n",
    "fig, ax = plt.subplots(1, 1, figsize=(3, 2))\n",
    "sns.barplot([no_support, support, random_size])\n",
    "plt.xticks(ticks = [0,1,2], labels=['None','Support','Random'])\n",
    "plt.xlabel(\"Counterfactual support\")\n",
    "plt.ylabel(\"Fraction of genes associated with GSIS\")\n",
    "plt.savefig('../figures/F2F.pdf')"
   ]
  },
  {
   "cell_type": "code",
   "execution_count": 74,
   "id": "960409bb",
   "metadata": {},
   "outputs": [
    {
     "name": "stderr",
     "output_type": "stream",
     "text": [
      "2025-10-14 13:18:48 INFO     Using categorical units to plot a list of strings that are all parsable as floats or dates. If these strings should be plotted as numbers, cast to the appropriate data type before plotting.\n",
      "2025-10-14 13:18:48 INFO     Using categorical units to plot a list of strings that are all parsable as floats or dates. If these strings should be plotted as numbers, cast to the appropriate data type before plotting.\n"
     ]
    },
    {
     "data": {
      "image/png": "[encoded data removed]",
      "text/plain": [
       "<Figure size 300x200 with 1 Axes>"
      ]
     },
     "metadata": {},
     "output_type": "display_data"
    }
   ],
   "source": [
    "# Import coloc data from redRibbon paper\n",
    "coloc = pd.read_csv(\"../data/Pancreas/results.tsv\", sep=\"\\t\")\n",
    "\n",
    "# Combine\n",
    "for key in tfs.keys():\n",
    "    df_tmp = pd.DataFrame({\n",
    "        'TF': tfs[key],\n",
    "        'Support': key.split(\"_\")[1],\n",
    "        'Direction': key.split(\"_\")[0]\n",
    "    })\n",
    "    \n",
    "    if key == list(tfs.keys())[0]:\n",
    "        combined = df_tmp\n",
    "    else:\n",
    "        combined = pd.concat((combined, df_tmp))\n",
    "        \n",
    "# Keep only unique TFs \n",
    "priority_order = {\"Support\": 0, \"None\": 1}\n",
    "combined[\"Priority\"] = combined[\"Support\"].map(priority_order)\n",
    "combined = combined.sort_values(\"Priority\")\n",
    "combined = combined.drop_duplicates(subset=\"TF\", keep=\"first\")\n",
    "combined = combined.drop(columns=\"Priority\")\n",
    "combined = pd.merge(combined, expression, left_on='TF', right_on='Gene')\n",
    "combined['hit'] = combined['TF'].isin(coloc['shortid']).astype(int)\n",
    "\n",
    "# Calculate random sets\n",
    "all_tfs = pd.DataFrame({'TF': motif_metadata[motif_metadata['cluster'].isin([s.split(\":\")[0] for s in motifs_subtypes.index] )]['tf_name'].unique()})\n",
    "all_tfs = all_tfs[all_tfs['TF'].isin(expression['Gene'])]\n",
    "\n",
    "random_size = []\n",
    "for i in range(1000):\n",
    "    sampled_tfs = all_tfs.sample(n=50)\n",
    "    sampled_tfs = sampled_tfs[sampled_tfs['TF'].isin(coloc['shortid'])]\n",
    "    sampled_tfs = sampled_tfs[sampled_tfs['TF'].isin(expression[ expression['Frequency'] >= frequency_threshold]['Gene'])]\n",
    "    random_size.append(len(sampled_tfs) / 50)\n",
    "    \n",
    "random_size = np.array(random_size).mean()\n",
    "\n",
    "# Get fractions\n",
    "overlap = len(combined[ (combined['Support'] == \"Support\") & (combined['Frequency'] >= frequency_threshold) & (combined['hit'] == 1)])\n",
    "size = len(combined[ (combined['Support'] == \"Support\")])\n",
    "support = overlap / size\n",
    "\n",
    "overlap = len(combined[ (combined['Support'] == \"None\") & (combined['Frequency'] >= frequency_threshold) & (combined['hit'] == 1)])\n",
    "size = len(combined[ (combined['Support'] == \"None\")])\n",
    "no_support = overlap / size\n",
    "\n",
    "fig, ax = plt.subplots(1, 1, figsize=(3, 2))\n",
    "\n",
    "sns.barplot([no_support, support,random_size])\n",
    "plt.xticks(ticks = [0,1,2], labels=['None','Support','Random'])\n",
    "plt.xlabel(\"Counterfactual support\")\n",
    "plt.ylabel(\"Fraction of targets supported by genetic evidence\")\n",
    "plt.savefig('../figures/F2E.pdf')"
   ]
  },
  {
   "cell_type": "code",
   "execution_count": null,
   "id": "be560ed5",
   "metadata": {},
   "outputs": [],
   "source": []
  },
  {
   "cell_type": "code",
   "execution_count": null,
   "id": "8ef70a3a",
   "metadata": {},
   "outputs": [],
   "source": []
  }
 ],
 "metadata": {
  "kernelspec": {
   "display_name": "Python 3 (ipykernel)",
   "language": "python",
   "name": "python3"
  },
  "language_info": {
   "codemirror_mode": {
    "name": "ipython",
    "version": 3
   },
   "file_extension": ".py",
   "mimetype": "text/x-python",
   "name": "python",
   "nbconvert_exporter": "python",
   "pygments_lexer": "ipython3",
   "version": "3.10.12"
  }
 },
 "nbformat": 4,
 "nbformat_minor": 5
}
