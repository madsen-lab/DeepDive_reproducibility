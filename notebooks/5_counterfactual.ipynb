{
 "cells": [
  {
   "cell_type": "markdown",
   "id": "3948c89c",
   "metadata": {},
   "source": [
    "# Counterfactual prediction"
   ]
  },
  {
   "cell_type": "markdown",
   "id": "edb428bd",
   "metadata": {},
   "source": [
    "## Imports"
   ]
  },
  {
   "cell_type": "code",
   "execution_count": 1,
   "id": "3de0aabe",
   "metadata": {},
   "outputs": [],
   "source": [
    "import scanpy as sc\n",
    "import seaborn as sns\n",
    "import matplotlib.pyplot as plt\n",
    "import anndata\n",
    "import numpy as np\n",
    "import pandas as pd\n",
    "import seaborn as sns\n",
    "from sklearn.preprocessing import minmax_scale\n",
    "from scipy import sparse\n",
    "import os\n",
    "import DeepDive\n",
    "import torch\n",
    "from sklearn.metrics import roc_auc_score, roc_curve\n",
    "from sklearn.metrics import precision_recall_curve, average_precision_score\n",
    "from sklearn.metrics import r2_score"
   ]
  },
  {
   "cell_type": "code",
   "execution_count": 2,
   "id": "f910d1e2",
   "metadata": {},
   "outputs": [],
   "source": [
    "import sys\n",
    "sys.path.insert(0, \"../utils\")\n",
    "from utils import get_colormap_colors, preprocess, set_dropout\n",
    "from simulation import simulate_scATAC_seq_data, get_DE, get_model_DE, compare_groups"
   ]
  },
  {
   "cell_type": "markdown",
   "id": "8e21fac5",
   "metadata": {},
   "source": [
    "## Counterfactual predicition in simulated data"
   ]
  },
  {
   "cell_type": "code",
   "execution_count": null,
   "id": "479f359c",
   "metadata": {},
   "outputs": [],
   "source": [
    "n_decoders = 5\n",
    "model_params = {\n",
    "    'n_epochs_pretrain_ae' : 200*n_decoders,\n",
    "    'n_decoders' : n_decoders,\n",
    "}\n",
    "train_params = {\n",
    "    'max_epoch' : 300*n_decoders, \n",
    "    'batch_size' : 512, \n",
    "}\n",
    "discrete_covriate_keys = ['Uppercase', 'Lowercase']\n"
   ]
  },
  {
   "cell_type": "code",
   "execution_count": null,
   "id": "e0100942",
   "metadata": {},
   "outputs": [],
   "source": [
    "steps = np.arange(0.0, 1.05, 0.1)"
   ]
  },
  {
   "cell_type": "code",
   "execution_count": null,
   "id": "c41ab4f5",
   "metadata": {},
   "outputs": [],
   "source": [
    "entanglement = []\n",
    "runs = []\n",
    "r2s_counter = []\n",
    "r2s_uncounter = []\n",
    "\n",
    "\n",
    "n_runs = 3\n",
    "for run in range(n_runs):\n",
    "    for idx, i in enumerate(steps):\n",
    "        dependency_matrix = generate_dependency_matrix(2,2,i)\n",
    "\n",
    "        simulation_result = simulate_scATAC_seq_data(\n",
    "            n_cells, \n",
    "            n_features, \n",
    "            covariates=covariates,\n",
    "            max_effect_sizes=[0.7, 0.7],\n",
    "            sample_feature_p=[0.10, 0.10],\n",
    "            dependency=dependency_matrix\n",
    "        )\n",
    "\n",
    "        # Access the fragment count matrix and covariate assignments\n",
    "        fragment_counts = simulation_result[\"data\"]\n",
    "        covariate_assignments = simulation_result[\"covariate_assignments\"]\n",
    "        pivot = simulation_result[\"pivot\"]\n",
    "        effect_sizes = simulation_result[\"effect_sizes\"]\n",
    "\n",
    "        adata = anndata.AnnData(fragment_counts)\n",
    "        adata.X = sparse.csr_matrix(adata.X) \n",
    "        adata.obs = covariate_assignments\n",
    "        adata.obs[discrete_covriate_keys] = adata.obs[discrete_covriate_keys].astype(str)\n",
    "        adata_to_train = adata[~((adata.obs.Uppercase == 'A') & (adata.obs.Lowercase == 'b'))]\n",
    "        \n",
    "\n",
    "        model = DeepDive.DeepDive(adata = adata, \n",
    "                            discrete_covariate_names = discrete_covriate_keys,\n",
    "                            **model_params\n",
    "\n",
    "                           )\n",
    "        model.train_model(adata_to_train, None, \n",
    "                      **train_params)\n",
    "\n",
    "        model_path = f'Combinations/DeepDIVE_{run}_{idx}_{i}.pt'\n",
    "        torch.save(model.state_dict(), model_path)\n",
    "        model.load_state_dict(torch.load(model_path))\n",
    "\n",
    "        \n",
    "        adata_to_eval = adata[((adata.obs.Uppercase == 'A') & (adata.obs.Lowercase == 'b'))].copy()\n",
    "        adata_to_counter = adata[((adata.obs.Uppercase == 'A') & (adata.obs.Lowercase == 'a'))].copy()\n",
    "        \n",
    "        rec_uncounter = model.predict(adata_to_counter, library_size = 10000).copy()\n",
    "        rec_uncounter = rec_uncounter.to_df()\n",
    "        \n",
    "        adata_to_counter.obs['Lowercase'] = 'b'\n",
    "        rec = model.predict(adata_to_counter, library_size = 10000)\n",
    "        rec = rec.to_df()\n",
    "        \n",
    "        norm = (adata_to_eval.to_df().T / adata_to_eval.to_df().sum(axis = 1)).T * 10000\n",
    "        \n",
    "        change = np.log2(effect_sizes['Uppercase']['A'] / effect_sizes['Uppercase']['B']) \n",
    "        change = change + np.log2(effect_sizes['Lowercase']['a'] / effect_sizes['Lowercase']['b'])\n",
    "        change = change != 0\n",
    "        \n",
    "        r2_uncounter = round(np.corrcoef(norm.mean()[change], rec_uncounter.mean()[change])[0,1], 2)\n",
    "        r2 = round(np.corrcoef(norm.mean()[change], rec.mean()[change])[0,1], 2)\n",
    "        \n",
    "        runs.append(run)\n",
    "        entanglement.append(i)\n",
    "        r2s_counter.append(r2)\n",
    "        r2s_uncounter.append(r2_uncounter)"
   ]
  },
  {
   "cell_type": "code",
   "execution_count": null,
   "id": "0473a8ff",
   "metadata": {},
   "outputs": [],
   "source": [
    "df = pd.DataFrame([runs, entanglement, r2s_counter, r2s_uncounter], index = ['run', 'entanglement', 'Counterfactual', 'Alternative']).T.dropna()"
   ]
  },
  {
   "cell_type": "code",
   "execution_count": null,
   "id": "5abc0359",
   "metadata": {},
   "outputs": [],
   "source": [
    "mean = df.groupby('entanglement').mean()\n",
    "sd = df.groupby('entanglement').std()"
   ]
  },
  {
   "cell_type": "code",
   "execution_count": null,
   "id": "98ffff1b",
   "metadata": {},
   "outputs": [],
   "source": [
    "colors = get_colormap_colors('RdBu', 11)"
   ]
  },
  {
   "cell_type": "code",
   "execution_count": null,
   "id": "a5da6327",
   "metadata": {},
   "outputs": [],
   "source": [
    "fig, ax = plt.subplots(1,1, figsize = (2,2))\n",
    "\n",
    "X_plot = np.linspace(0.4, 1)\n",
    "Y_plot = X_plot\n",
    "sns.lineplot(x=X_plot, y=Y_plot, color = 'k', linestyle='--', linewidth=1, ax = ax, alpha = 0.5)\n",
    "    \n",
    "sns.scatterplot(mean, x = 'Alternative', y = 'Counterfactual', c = [colors[int(c*10)] for c in mean.index], s = 25, ax = ax, linewidth = 0.5, edgecolor = 'k')\n",
    "plt.setp(ax.lines, zorder=100)\n",
    "plt.setp(ax.collections, zorder=100, label=\"\")\n",
    "ax.errorbar(mean.Alternative, mean.Counterfactual, xerr=sd.Alternative, yerr=sd.Counterfactual, fmt=\"none\", color=\"k\")\n",
    "\n",
    "plt.xlim(0.8, 1)\n",
    "plt.ylim(0.8, 1)\n",
    "plt.xlabel('Baseline [R2]')\n",
    "plt.ylabel('DeepDIVE counterfactual [R2]')\n",
    "\n",
    "\n",
    "plt.title('Counter-factual prediction')#\n",
    "plt.savefig('F1H.pdf', transparent=True)"
   ]
  },
  {
   "cell_type": "code",
   "execution_count": null,
   "id": "6515f878",
   "metadata": {},
   "outputs": [],
   "source": []
  },
  {
   "cell_type": "code",
   "execution_count": null,
   "id": "95eb9337",
   "metadata": {},
   "outputs": [],
   "source": []
  },
  {
   "cell_type": "markdown",
   "id": "37a79f2a",
   "metadata": {},
   "source": [
    "### Counterfactual prediction on real data"
   ]
  },
  {
   "cell_type": "code",
   "execution_count": 3,
   "id": "1c42671f",
   "metadata": {},
   "outputs": [],
   "source": [
    "n_decoders = 5\n",
    "model_params = {\n",
    "    'n_latent' : 32,\n",
    "    'unknown_encoder_hidden' : [128, 64],\n",
    "    'unknown_decoder_hidden' : [64, 128],\n",
    "    'known_decoder_hidden' : [64, 128],\n",
    "    'n_hidden_adv' : 16,\n",
    "    'n_epochs_pretrain_ae' : 50*n_decoders,\n",
    " \n",
    "    'device' : 'cuda', \n",
    "    'continous_mask_value' : -999, \n",
    "    'class_loss' : 'ce', \n",
    "    'discrete_covariate_weight' : 1, \n",
    "    'continuous_covariate_weight' : 1,\n",
    "    'n_decoders' : n_decoders,\n",
    " \n",
    "}\n",
    "\n",
    "train_params = {\n",
    "    'max_epoch' : 150*n_decoders, \n",
    "    'batch_size' : 1024, \n",
    "    'shuffle' : True, \n",
    "    'num_workers' : 10, \n",
    "    'kl_loss_weight':1, \n",
    "}"
   ]
  },
  {
   "cell_type": "code",
   "execution_count": 4,
   "id": "a8c8bdab",
   "metadata": {},
   "outputs": [],
   "source": [
    "adata = sc.read_h5ad(\"../data/islet.h5ad\")"
   ]
  },
  {
   "cell_type": "code",
   "execution_count": 5,
   "id": "6a1535a2",
   "metadata": {},
   "outputs": [],
   "source": [
    "mapper = {0:'alpha',\n",
    "1:'beta', \n",
    "2:'beta', \n",
    "3:'beta', \n",
    "4:'alpha', \n",
    "5:'beta', \n",
    "6:'delta', \n",
    "7:'acinar', \n",
    "8:'alpha', \n",
    "9:'ductal', \n",
    "10:'gamma', \n",
    "11:'stellate', \n",
    "12:'immune', \n",
    "13:'endothelial',\n",
    "}\n",
    "adata.obs['celltype'] = adata.obs.leiden.map(mapper)"
   ]
  },
  {
   "cell_type": "code",
   "execution_count": 6,
   "id": "23b7c0cc",
   "metadata": {},
   "outputs": [],
   "source": [
    "discrete_covriate_keys = ['donor', 'celltype', 'Center', 'Disease', 'Storage', 'Gender', 'Race']\n",
    "continuous_covriate_keys = ['Age', 'BMI', 'HbA1c', 'Purity', 'map_frac']"
   ]
  },
  {
   "cell_type": "code",
   "execution_count": 7,
   "id": "268325cc",
   "metadata": {},
   "outputs": [],
   "source": [
    "adata = preprocess(adata, discrete_covriate_keys, continuous_covriate_keys, frac = 0.1).copy()"
   ]
  },
  {
   "cell_type": "code",
   "execution_count": 8,
   "id": "79a99bbc",
   "metadata": {},
   "outputs": [],
   "source": [
    "donors_to_keep = np.unique(adata.obs.donor, return_counts=True)[0][:5]"
   ]
  },
  {
   "cell_type": "code",
   "execution_count": 9,
   "id": "eb344634",
   "metadata": {},
   "outputs": [],
   "source": [
    "adata = adata[adata.obs.donor.isin(list(donors_to_keep)),:].copy()"
   ]
  },
  {
   "cell_type": "code",
   "execution_count": 10,
   "id": "b997e3a9",
   "metadata": {},
   "outputs": [],
   "source": [
    "for donor in donors_to_keep:\n",
    "    # Split into train and eval\n",
    "    adata_to_train = adata[(((adata.obs.donor == donor) & (adata.obs.celltype == \"beta\")) == False),:].copy()\n",
    "    adata_to_eval = adata[(((adata.obs.donor == donor) & (adata.obs.celltype == \"beta\")) == True),:].copy()\n",
    "    \n",
    "    # Setup the model\n",
    "    model = DeepDive.DeepDive(adata = adata_to_train, \n",
    "                        discrete_covariate_names = discrete_covriate_keys,\n",
    "                        continuous_covariate_names = continuous_covriate_keys, \n",
    "                        **model_params                \n",
    "                       )\n",
    "    \n",
    "    # Train and save models\n",
    "    model_path = f'../data/Pancreas_loo/Pancreas_LOO_{donor}.pt'\n",
    "    overwrite = False\n",
    "    if not os.path.exists(model_path) or overwrite:\n",
    "        model.train_model(adata, None, **train_params)\n",
    "        torch.save(model.state_dict(), model_path)"
   ]
  },
  {
   "cell_type": "code",
   "execution_count": 11,
   "id": "587c8a8f",
   "metadata": {},
   "outputs": [
    {
     "name": "stdout",
     "output_type": "stream",
     "text": [
      "Loaded model\n",
      "Loaded model\n",
      "Loaded model\n",
      "Loaded model\n",
      "Loaded model\n"
     ]
    }
   ],
   "source": [
    "for donor in donors_to_keep:\n",
    "    # Split into train and eval\n",
    "    adata_to_train = adata[(((adata.obs.donor == donor) & (adata.obs.celltype == \"beta\")) == False),:].copy()\n",
    "    adata_to_eval = adata[(((adata.obs.donor == donor) & (adata.obs.celltype == \"beta\")) == True),:].copy()\n",
    "    \n",
    "    # Setup the model\n",
    "    model = DeepDive.DeepDive(adata = adata_to_train, \n",
    "                        discrete_covariate_names = discrete_covriate_keys,\n",
    "                        continuous_covariate_names = continuous_covriate_keys, \n",
    "                        **model_params                \n",
    "                       )\n",
    "    \n",
    "    # Load model\n",
    "    model_path = f'../data/Pancreas_loo/Pancreas_LOO_{donor}.pt'\n",
    "    model.load_state_dict(torch.load(model_path))\n",
    "    print(\"Loaded model\")\n",
    "    \n",
    "    # Set dropout\n",
    "    set_dropout(model)\n",
    "    \n",
    "    # Get ground truth\n",
    "    sc.pp.normalize_total(adata_to_eval, target_sum = 10000)\n",
    "    truth = np.array(adata_to_eval.X.mean(axis = 0))[0,:]\n",
    "    \n",
    "    # Beta-cells from other donors\n",
    "    other_donors = list(set(donors_to_keep) - set([donor]))\n",
    "    for other_donor in other_donors:\n",
    "        adata_to_eval = adata[(((adata.obs.donor == other_donor) & (adata.obs.celltype == \"beta\")) == True),:].copy()\n",
    "        sc.pp.normalize_total(adata_to_eval, target_sum = 10000)\n",
    "        if other_donor == other_donors[0]:\n",
    "            others = np.array(adata_to_eval.X.mean(axis = 0))\n",
    "        else:\n",
    "            others = np.concatenate((others, np.array(adata_to_eval.X.mean(axis = 0))), axis = 0)\n",
    " \n",
    "    # Baseline\n",
    "    adata_to_subset = adata[(((adata.obs.donor == donor) & (adata.obs.celltype == \"acinar\")) == True),:].copy()\n",
    "    \n",
    "    # Reconstruct\n",
    "    recon = model.predict(\n",
    "        adata_to_subset,\n",
    "        library_size=10000\n",
    "    )\n",
    "    \n",
    "    # Pseudo-bulk\n",
    "    baseline = np.array(recon.X.mean(axis = 0))\n",
    "    \n",
    "    # Setup up for counter-factual\n",
    "    adata_to_subset.obs.celltype = \"beta\"\n",
    "    \n",
    "    # Reconstruct\n",
    "    recon = model.predict(\n",
    "        adata_to_subset,\n",
    "        library_size=10000\n",
    "    )\n",
    "    \n",
    "    # Pseudo-bulk\n",
    "    counterfactual = np.array(recon.X.mean(axis = 0))\n",
    "    \n",
    "    # Collect RMSE\n",
    "    RMSE = [\n",
    "        np.sqrt(np.mean((counterfactual - truth) ** 2)),\n",
    "        np.sqrt(np.mean((baseline - truth) ** 2)),\n",
    "        np.sqrt(np.mean((others.mean(axis = 0) - truth) ** 2))\n",
    "    ]\n",
    "    \n",
    "    # Collect R2\n",
    "    R2 = [\n",
    "        r2_score(truth, counterfactual),\n",
    "        r2_score(truth, baseline),\n",
    "        r2_score(truth, others.mean(axis = 0))\n",
    "    ]\n",
    "    \n",
    "    # Setup\n",
    "    res_tmp = pd.DataFrame({\n",
    "        'Donor': [donor] * 3,\n",
    "        'RMSE': RMSE,\n",
    "        'R2': R2,\n",
    "        'Type': ['Counterfactual', 'Baseline', 'Beta-cells']\n",
    "    })\n",
    "        \n",
    "    # Combine across donors    \n",
    "    if donor == donors_to_keep[0]:\n",
    "        res_df = res_tmp\n",
    "    else:\n",
    "        res_df = pd.concat((res_df, res_tmp))\n",
    "        \n",
    "    \n",
    "    "
   ]
  },
  {
   "cell_type": "code",
   "execution_count": 12,
   "id": "6cce41c6",
   "metadata": {},
   "outputs": [
    {
     "data": {
      "image/png": "[encoded data removed]",
      "text/plain": [
       "<Figure size 200x200 with 1 Axes>"
      ]
     },
     "metadata": {},
     "output_type": "display_data"
    }
   ],
   "source": [
    "plt.subplots(figsize=(2,2))\n",
    "sns.barplot(y = 'R2', x = 'Type', data = res_df)\n",
    "plt.savefig(\"../figures/S4J.pdf\")"
   ]
  },
  {
   "cell_type": "code",
   "execution_count": 13,
   "id": "c720919d",
   "metadata": {},
   "outputs": [
    {
     "data": {
      "image/png": "[encoded data removed]",
      "text/plain": [
       "<Figure size 600x200 with 3 Axes>"
      ]
     },
     "metadata": {},
     "output_type": "display_data"
    }
   ],
   "source": [
    "fig, axs = plt.subplots(1,3,figsize=(6,2))\n",
    "sns.scatterplot(x = truth, y = counterfactual, ax=axs[0])\n",
    "axs[0].set_title(\"Counterfactual\")\n",
    "sns.scatterplot(x = truth, y = baseline, ax=axs[1])\n",
    "axs[1].set_title(\"Baseline\")\n",
    "sns.scatterplot(x = truth, y = others.mean(axis = 0), ax=axs[2])\n",
    "axs[2].set_title(\"Beta-cells\")\n",
    "\n",
    "for ax in axs:\n",
    "    # Get axis limits\n",
    "    xlim = ax.get_xlim()\n",
    "    ylim = ax.get_ylim()\n",
    "    \n",
    "    # Plot diagonal line from bottom-left to top-right\n",
    "    ax.plot([xlim[0], xlim[1]], [ylim[0], ylim[1]], color='red', linestyle='--')\n",
    "\n",
    "    # Optional: reset limits to ensure they don't auto-adjust\n",
    "    ax.set_xlim(xlim)\n",
    "    ax.set_ylim(ylim)\n",
    "plt.savefig(\"../figures/S4K.pdf\")"
   ]
  },
  {
   "cell_type": "code",
   "execution_count": null,
   "id": "dcaea753",
   "metadata": {},
   "outputs": [],
   "source": []
  },
  {
   "cell_type": "code",
   "execution_count": null,
   "id": "08ec2bdd",
   "metadata": {},
   "outputs": [],
   "source": []
  },
  {
   "cell_type": "code",
   "execution_count": null,
   "id": "db852e92",
   "metadata": {},
   "outputs": [],
   "source": []
  }
 ],
 "metadata": {
  "kernelspec": {
   "display_name": "Python 3 (ipykernel)",
   "language": "python",
   "name": "python3"
  },
  "language_info": {
   "codemirror_mode": {
    "name": "ipython",
    "version": 3
   },
   "file_extension": ".py",
   "mimetype": "text/x-python",
   "name": "python",
   "nbconvert_exporter": "python",
   "pygments_lexer": "ipython3",
   "version": "3.10.12"
  }
 },
 "nbformat": 4,
 "nbformat_minor": 5
}
